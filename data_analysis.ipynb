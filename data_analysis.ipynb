{
 "cells": [
  {
   "cell_type": "markdown",
   "metadata": {},
   "source": [
    "## Imports"
   ]
  },
  {
   "cell_type": "code",
   "execution_count": 23,
   "metadata": {},
   "outputs": [
    {
     "name": "stdout",
     "output_type": "stream",
     "text": [
      "The autoreload extension is already loaded. To reload it, use:\n",
      "  %reload_ext autoreload\n"
     ]
    }
   ],
   "source": [
    "%load_ext autoreload\n",
    "%autoreload 2\n",
    "%matplotlib inline\n",
    "\n",
    "import numpy as np\n",
    "import pandas as pd\n",
    "from matplotlib import pyplot as plt\n",
    "from pathlib import Path\n",
    "\n",
    "from utilities import consts, dicts, utils"
   ]
  },
  {
   "cell_type": "code",
   "execution_count": 16,
   "metadata": {},
   "outputs": [
    {
     "data": {
      "text/plain": [
       "960"
      ]
     },
     "execution_count": 16,
     "metadata": {},
     "output_type": "execute_result"
    }
   ],
   "source": [
    "class_path = Path('../data/modelnet40v1/airplane')\n",
    "\n",
    "len(list((class_path/'train').iterdir()))"
   ]
  },
  {
   "cell_type": "code",
   "execution_count": null,
   "metadata": {},
   "outputs": [],
   "source": []
  },
  {
   "cell_type": "code",
   "execution_count": 28,
   "metadata": {},
   "outputs": [
    {
     "data": {
      "text/plain": [
       "(40, 5)"
      ]
     },
     "metadata": {},
     "output_type": "display_data"
    },
    {
     "data": {
      "text/plain": [
       "Index(['class_paths', 'train_img_count', 'train_instance_count',\n",
       "       'test_img_count', 'test_instance_count'],\n",
       "      dtype='object')"
      ]
     },
     "metadata": {},
     "output_type": "display_data"
    },
    {
     "data": {
      "text/html": [
       "<div>\n",
       "<style scoped>\n",
       "    .dataframe tbody tr th:only-of-type {\n",
       "        vertical-align: middle;\n",
       "    }\n",
       "\n",
       "    .dataframe tbody tr th {\n",
       "        vertical-align: top;\n",
       "    }\n",
       "\n",
       "    .dataframe thead th {\n",
       "        text-align: right;\n",
       "    }\n",
       "</style>\n",
       "<table border=\"1\" class=\"dataframe\">\n",
       "  <thead>\n",
       "    <tr style=\"text-align: right;\">\n",
       "      <th></th>\n",
       "      <th>class_paths</th>\n",
       "      <th>train_img_count</th>\n",
       "      <th>train_instance_count</th>\n",
       "      <th>test_img_count</th>\n",
       "      <th>test_instance_count</th>\n",
       "    </tr>\n",
       "  </thead>\n",
       "  <tbody>\n",
       "    <tr>\n",
       "      <th>airplane</th>\n",
       "      <td>../data/modelnet40v1/airplane</td>\n",
       "      <td>960</td>\n",
       "      <td>80</td>\n",
       "      <td>240</td>\n",
       "      <td>20</td>\n",
       "    </tr>\n",
       "    <tr>\n",
       "      <th>bathtub</th>\n",
       "      <td>../data/modelnet40v1/bathtub</td>\n",
       "      <td>960</td>\n",
       "      <td>80</td>\n",
       "      <td>240</td>\n",
       "      <td>20</td>\n",
       "    </tr>\n",
       "    <tr>\n",
       "      <th>bed</th>\n",
       "      <td>../data/modelnet40v1/bed</td>\n",
       "      <td>960</td>\n",
       "      <td>80</td>\n",
       "      <td>240</td>\n",
       "      <td>20</td>\n",
       "    </tr>\n",
       "    <tr>\n",
       "      <th>bench</th>\n",
       "      <td>../data/modelnet40v1/bench</td>\n",
       "      <td>960</td>\n",
       "      <td>80</td>\n",
       "      <td>240</td>\n",
       "      <td>20</td>\n",
       "    </tr>\n",
       "    <tr>\n",
       "      <th>bookshelf</th>\n",
       "      <td>../data/modelnet40v1/bookshelf</td>\n",
       "      <td>960</td>\n",
       "      <td>80</td>\n",
       "      <td>240</td>\n",
       "      <td>20</td>\n",
       "    </tr>\n",
       "  </tbody>\n",
       "</table>\n",
       "</div>"
      ],
      "text/plain": [
       "                              class_paths  train_img_count  \\\n",
       "airplane    ../data/modelnet40v1/airplane              960   \n",
       "bathtub      ../data/modelnet40v1/bathtub              960   \n",
       "bed              ../data/modelnet40v1/bed              960   \n",
       "bench          ../data/modelnet40v1/bench              960   \n",
       "bookshelf  ../data/modelnet40v1/bookshelf              960   \n",
       "\n",
       "           train_instance_count  test_img_count  test_instance_count  \n",
       "airplane                     80             240                   20  \n",
       "bathtub                      80             240                   20  \n",
       "bed                          80             240                   20  \n",
       "bench                        80             240                   20  \n",
       "bookshelf                    80             240                   20  "
      ]
     },
     "metadata": {},
     "output_type": "display_data"
    }
   ],
   "source": [
    "data_dir = Path(consts.DATA_DIR)\n",
    "\n",
    "def get_class_img_count(row, dataset_name):\n",
    "    \"\"\"\n",
    "    Returns number of class images in a given dataset\n",
    "    \"\"\"\n",
    "    return len(get_class_image_paths(row, dataset_name))\n",
    "\n",
    "\n",
    "def get_class_instance_count(row, dataset_name):\n",
    "    \"\"\"\n",
    "    Returns number of unique class instances in a given dataset\n",
    "    \"\"\"\n",
    "    class_image_paths = get_class_image_paths(row, dataset_name)\n",
    "    class_instances = np.unique([path.name.split('_')[-2] for path in class_image_paths])\n",
    "    return len(class_instances)\n",
    "    \n",
    "\n",
    "def get_class_image_paths(class_path, dataset_name):\n",
    "    \"\"\"\n",
    "    Returns class image paths in a given dataset\n",
    "    \"\"\"\n",
    "    class_dataset_path = class_path/dataset_name\n",
    "    class_image_paths = [path for path in class_dataset_path.iterdir() if path.suffix.lower() in consts.IMG_SUFFIX_LIST]\n",
    "    return class_image_paths\n",
    "\n",
    "\n",
    "\n",
    "class_paths = list(data_dir.iterdir())\n",
    "class_names = [path.name for path in class_paths]\n",
    "data_summary = pd.DataFrame({'class_paths': class_paths}, index=class_names)\n",
    "dataset_names = ['train', 'test']\n",
    "for dataset_name in dataset_names:\n",
    "    data_summary[f'{dataset_name}_img_count'] = data_summary['class_paths'].apply(lambda row: get_class_img_count(row, dataset_name))\n",
    "    data_summary[f'{dataset_name}_instance_count'] = data_summary['class_paths'].apply(lambda row: get_class_instance_count(row, dataset_name))    \n",
    "utils.summarise(data_summary)\n",
    "\n"
   ]
  },
  {
   "cell_type": "code",
   "execution_count": 30,
   "metadata": {},
   "outputs": [
    {
     "data": {
      "text/html": [
       "<div>\n",
       "<style scoped>\n",
       "    .dataframe tbody tr th:only-of-type {\n",
       "        vertical-align: middle;\n",
       "    }\n",
       "\n",
       "    .dataframe tbody tr th {\n",
       "        vertical-align: top;\n",
       "    }\n",
       "\n",
       "    .dataframe thead th {\n",
       "        text-align: right;\n",
       "    }\n",
       "</style>\n",
       "<table border=\"1\" class=\"dataframe\">\n",
       "  <thead>\n",
       "    <tr style=\"text-align: right;\">\n",
       "      <th></th>\n",
       "      <th>train_img_count</th>\n",
       "      <th>train_instance_count</th>\n",
       "      <th>test_img_count</th>\n",
       "      <th>test_instance_count</th>\n",
       "    </tr>\n",
       "  </thead>\n",
       "  <tbody>\n",
       "    <tr>\n",
       "      <th>count</th>\n",
       "      <td>40.000000</td>\n",
       "      <td>40.000000</td>\n",
       "      <td>40.0</td>\n",
       "      <td>40.0</td>\n",
       "    </tr>\n",
       "    <tr>\n",
       "      <th>mean</th>\n",
       "      <td>954.900000</td>\n",
       "      <td>79.575000</td>\n",
       "      <td>240.0</td>\n",
       "      <td>20.0</td>\n",
       "    </tr>\n",
       "    <tr>\n",
       "      <th>std</th>\n",
       "      <td>30.368506</td>\n",
       "      <td>2.530709</td>\n",
       "      <td>0.0</td>\n",
       "      <td>0.0</td>\n",
       "    </tr>\n",
       "    <tr>\n",
       "      <th>min</th>\n",
       "      <td>768.000000</td>\n",
       "      <td>64.000000</td>\n",
       "      <td>240.0</td>\n",
       "      <td>20.0</td>\n",
       "    </tr>\n",
       "    <tr>\n",
       "      <th>25%</th>\n",
       "      <td>960.000000</td>\n",
       "      <td>80.000000</td>\n",
       "      <td>240.0</td>\n",
       "      <td>20.0</td>\n",
       "    </tr>\n",
       "    <tr>\n",
       "      <th>50%</th>\n",
       "      <td>960.000000</td>\n",
       "      <td>80.000000</td>\n",
       "      <td>240.0</td>\n",
       "      <td>20.0</td>\n",
       "    </tr>\n",
       "    <tr>\n",
       "      <th>75%</th>\n",
       "      <td>960.000000</td>\n",
       "      <td>80.000000</td>\n",
       "      <td>240.0</td>\n",
       "      <td>20.0</td>\n",
       "    </tr>\n",
       "    <tr>\n",
       "      <th>max</th>\n",
       "      <td>960.000000</td>\n",
       "      <td>80.000000</td>\n",
       "      <td>240.0</td>\n",
       "      <td>20.0</td>\n",
       "    </tr>\n",
       "  </tbody>\n",
       "</table>\n",
       "</div>"
      ],
      "text/plain": [
       "       train_img_count  train_instance_count  test_img_count  \\\n",
       "count        40.000000             40.000000            40.0   \n",
       "mean        954.900000             79.575000           240.0   \n",
       "std          30.368506              2.530709             0.0   \n",
       "min         768.000000             64.000000           240.0   \n",
       "25%         960.000000             80.000000           240.0   \n",
       "50%         960.000000             80.000000           240.0   \n",
       "75%         960.000000             80.000000           240.0   \n",
       "max         960.000000             80.000000           240.0   \n",
       "\n",
       "       test_instance_count  \n",
       "count                 40.0  \n",
       "mean                  20.0  \n",
       "std                    0.0  \n",
       "min                   20.0  \n",
       "25%                   20.0  \n",
       "50%                   20.0  \n",
       "75%                   20.0  \n",
       "max                   20.0  "
      ]
     },
     "execution_count": 30,
     "metadata": {},
     "output_type": "execute_result"
    }
   ],
   "source": [
    "data_summary.describe()"
   ]
  },
  {
   "cell_type": "code",
   "execution_count": null,
   "metadata": {},
   "outputs": [],
   "source": []
  }
 ],
 "metadata": {
  "interpreter": {
   "hash": "d0ec11bdcd54811a724131fc8def2e54b25dbfdafc9f0a571e8702c64517e46b"
  },
  "kernelspec": {
   "display_name": "Python 3.6.9 64-bit ('mvcnn_train': venv)",
   "name": "python3"
  },
  "language_info": {
   "codemirror_mode": {
    "name": "ipython",
    "version": 3
   },
   "file_extension": ".py",
   "mimetype": "text/x-python",
   "name": "python",
   "nbconvert_exporter": "python",
   "pygments_lexer": "ipython3",
   "version": "3.6.9"
  },
  "orig_nbformat": 4
 },
 "nbformat": 4,
 "nbformat_minor": 2
}
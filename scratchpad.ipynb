{
 "cells": [
  {
   "cell_type": "code",
   "execution_count": 1,
   "metadata": {},
   "outputs": [
    {
     "name": "stderr",
     "output_type": "stream",
     "text": [
      "/mnt/d/coding/git/TomaszKaleczyc/MVCNN_training/environment/mvcnn_train/lib/python3.6/site-packages/pytorch_lightning/metrics/__init__.py:44: LightningDeprecationWarning: `pytorch_lightning.metrics.*` module has been renamed to `torchmetrics.*` and split off to its own package (https://github.com/PyTorchLightning/metrics) since v1.3 and will be removed in v1.5\n",
      "  \"`pytorch_lightning.metrics.*` module has been renamed to `torchmetrics.*` and split off to its own package\"\n"
     ]
    }
   ],
   "source": [
    "%load_ext autoreload\n",
    "%autoreload 2\n",
    "%matplotlib inline\n",
    "\n",
    "import numpy as np\n",
    "import pandas as pd\n",
    "\n",
    "import torch\n",
    "import torchmetrics\n",
    "\n",
    "import pytorch_lightning as pl"
   ]
  },
  {
   "cell_type": "code",
   "execution_count": 2,
   "metadata": {},
   "outputs": [
    {
     "data": {
      "text/html": [
       "<div>\n",
       "<style scoped>\n",
       "    .dataframe tbody tr th:only-of-type {\n",
       "        vertical-align: middle;\n",
       "    }\n",
       "\n",
       "    .dataframe tbody tr th {\n",
       "        vertical-align: top;\n",
       "    }\n",
       "\n",
       "    .dataframe thead th {\n",
       "        text-align: right;\n",
       "    }\n",
       "</style>\n",
       "<table border=\"1\" class=\"dataframe\">\n",
       "  <thead>\n",
       "    <tr style=\"text-align: right;\">\n",
       "      <th></th>\n",
       "    </tr>\n",
       "  </thead>\n",
       "  <tbody>\n",
       "  </tbody>\n",
       "</table>\n",
       "</div>"
      ],
      "text/plain": [
       "Empty DataFrame\n",
       "Columns: []\n",
       "Index: []"
      ]
     },
     "execution_count": 2,
     "metadata": {},
     "output_type": "execute_result"
    }
   ],
   "source": [
    "pd.DataFrame()"
   ]
  },
  {
   "cell_type": "code",
   "execution_count": 4,
   "metadata": {},
   "outputs": [
    {
     "data": {
      "text/plain": [
       "[PosixPath('../data/modelnet40v1/airplane'),\n",
       " PosixPath('../data/modelnet40v1/bathtub'),\n",
       " PosixPath('../data/modelnet40v1/bed'),\n",
       " PosixPath('../data/modelnet40v1/bench'),\n",
       " PosixPath('../data/modelnet40v1/bookshelf'),\n",
       " PosixPath('../data/modelnet40v1/bottle'),\n",
       " PosixPath('../data/modelnet40v1/bowl'),\n",
       " PosixPath('../data/modelnet40v1/car'),\n",
       " PosixPath('../data/modelnet40v1/chair'),\n",
       " PosixPath('../data/modelnet40v1/cone'),\n",
       " PosixPath('../data/modelnet40v1/cup'),\n",
       " PosixPath('../data/modelnet40v1/curtain'),\n",
       " PosixPath('../data/modelnet40v1/desk'),\n",
       " PosixPath('../data/modelnet40v1/door'),\n",
       " PosixPath('../data/modelnet40v1/dresser'),\n",
       " PosixPath('../data/modelnet40v1/flower_pot'),\n",
       " PosixPath('../data/modelnet40v1/glass_box'),\n",
       " PosixPath('../data/modelnet40v1/guitar'),\n",
       " PosixPath('../data/modelnet40v1/keyboard'),\n",
       " PosixPath('../data/modelnet40v1/lamp'),\n",
       " PosixPath('../data/modelnet40v1/laptop'),\n",
       " PosixPath('../data/modelnet40v1/mantel'),\n",
       " PosixPath('../data/modelnet40v1/monitor'),\n",
       " PosixPath('../data/modelnet40v1/night_stand'),\n",
       " PosixPath('../data/modelnet40v1/person'),\n",
       " PosixPath('../data/modelnet40v1/piano'),\n",
       " PosixPath('../data/modelnet40v1/plant'),\n",
       " PosixPath('../data/modelnet40v1/radio'),\n",
       " PosixPath('../data/modelnet40v1/range_hood'),\n",
       " PosixPath('../data/modelnet40v1/sink'),\n",
       " PosixPath('../data/modelnet40v1/sofa'),\n",
       " PosixPath('../data/modelnet40v1/stairs'),\n",
       " PosixPath('../data/modelnet40v1/stool'),\n",
       " PosixPath('../data/modelnet40v1/table'),\n",
       " PosixPath('../data/modelnet40v1/tent'),\n",
       " PosixPath('../data/modelnet40v1/toilet'),\n",
       " PosixPath('../data/modelnet40v1/tv_stand'),\n",
       " PosixPath('../data/modelnet40v1/vase'),\n",
       " PosixPath('../data/modelnet40v1/wardrobe'),\n",
       " PosixPath('../data/modelnet40v1/xbox')]"
      ]
     },
     "execution_count": 4,
     "metadata": {},
     "output_type": "execute_result"
    }
   ],
   "source": [
    "from pathlib import Path\n",
    "\n",
    "data_dir = Path('../data/modelnet40v1')\n",
    "\n",
    "dset_name = 'train'\n",
    "\n",
    "def _get_dset_image_paths(dset_name):\n",
    "    \"\"\"\n",
    "    \n",
    "    \"\"\"\n",
    "    \n",
    "\n",
    "\n",
    "list(data_dir.iterdir())"
   ]
  },
  {
   "cell_type": "code",
   "execution_count": 5,
   "metadata": {},
   "outputs": [],
   "source": [
    "import numpy as np\n",
    "\n",
    "from torch.utils.data import Dataset\n",
    "\n",
    "from utlities import consts\n",
    "\n",
    "\n",
    "class MVCNNDataset(Dataset):\n",
    "    \"\"\"\n",
    "    \n",
    "    \"\"\"\n",
    "\n",
    "    def __init__(self):\n",
    "        pass\n",
    "\n",
    "    def __len__(self):\n",
    "        pass\n",
    "\n",
    "    def __getitem__(self, idx):\n",
    "        pass"
   ]
  },
  {
   "cell_type": "code",
   "execution_count": null,
   "metadata": {},
   "outputs": [],
   "source": [
    "dset = MVCNNDataset()"
   ]
  }
 ],
 "metadata": {
  "interpreter": {
   "hash": "d0ec11bdcd54811a724131fc8def2e54b25dbfdafc9f0a571e8702c64517e46b"
  },
  "kernelspec": {
   "display_name": "Python 3.6.9 64-bit ('mvcnn_train': venv)",
   "name": "python3"
  },
  "language_info": {
   "codemirror_mode": {
    "name": "ipython",
    "version": 3
   },
   "file_extension": ".py",
   "mimetype": "text/x-python",
   "name": "python",
   "nbconvert_exporter": "python",
   "pygments_lexer": "ipython3",
   "version": "3.6.9"
  },
  "orig_nbformat": 4
 },
 "nbformat": 4,
 "nbformat_minor": 2
}
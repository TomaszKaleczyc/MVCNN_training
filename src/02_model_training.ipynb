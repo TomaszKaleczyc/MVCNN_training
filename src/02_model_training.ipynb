{
 "cells": [
  {
   "cell_type": "markdown",
   "source": [],
   "metadata": {}
  },
  {
   "cell_type": "markdown",
   "source": [
    "## Assumptions"
   ],
   "metadata": {}
  },
  {
   "cell_type": "markdown",
   "source": [
    "In the first notebook we have established the structure and contents of the `modelnet40v1` dataset.\n",
    "\n",
    "Now, we will attempt to create a model that is capable of determining the type of the object based on all images of an object instance. The type of architecture that allows just that is called a *Multi-View Convolutional Network (`MVCNN`)* - you can read about it in more detail [in this arXiv paper](https://arxiv.org/pdf/1505.00880.pdf). In short: it allows feature extraction from multiple images, pools the individual image feature vectors using a symmetrical function and finally makes a prediction on the pooled vector. Because we are using a symmetrical function for pooling, the number of images per instance is arbitrary and can change from instance to instance.\n",
    "\n",
    "![mvcnn_figure](./data/mvcnn_figure.JPG)\n",
    "\n",
    "In our case, this experiment will be performed with the following configuration - we'll use:\n",
    "* `ResNet50` pretrained on the `ImageNet` dataset as the backbone feature extractor for the individual images\n",
    "* `mean` as the symmetrical pooling function for the individual vectors \n",
    "* `dropout` in the layers responsible for pooling and prediction\n",
    "* `Adam` as the optimizer\n",
    "* `F1-Macro` calculated on the validation set as the driving metric to reveal our champion model\n",
    "\n",
    "In addition, because the experiment will be performed on a local machine with no access to a reasonable GPU, we will make some simplifications in the training pipeline:\n",
    "* the number of classes in training will be limited to just 4: `airplane`, `bathtub`, `bed` and `bench`\n",
    "* the pretrained feature extractor weights will remain frozen throughout the training\n",
    "* at training time we'll use the batch dimension of the input to provide the instance images - instances will be forwarded through the net one by one, i.e. the *de facto* batch size will be 1"
   ],
   "metadata": {}
  },
  {
   "cell_type": "markdown",
   "source": [
    "## Imports"
   ],
   "metadata": {}
  },
  {
   "cell_type": "code",
   "execution_count": 1,
   "source": [
    "%load_ext autoreload\n",
    "%autoreload 2\n",
    "\n",
    "from pytorch_lightning.callbacks import ModelCheckpoint\n",
    "from pytorch_lightning import Trainer\n",
    "\n",
    "from dataset_classes.mvcnn_data_module import MVCNNDataModule\n",
    "from model_classes.mvcnn import MVCNNClassifier\n",
    "from model_classes.callbacks import UnfreezePretrainedWeights, ResetEvalResults"
   ],
   "outputs": [
    {
     "output_type": "stream",
     "name": "stderr",
     "text": [
      "/mnt/d/coding/git/TomaszKaleczyc/MVCNN_training/environment/mvcnn_train/lib/python3.6/site-packages/pytorch_lightning/metrics/__init__.py:44: LightningDeprecationWarning: `pytorch_lightning.metrics.*` module has been renamed to `torchmetrics.*` and split off to its own package (https://github.com/PyTorchLightning/metrics) since v1.3 and will be removed in v1.5\n",
      "  \"`pytorch_lightning.metrics.*` module has been renamed to `torchmetrics.*` and split off to its own package\"\n"
     ]
    }
   ],
   "metadata": {}
  },
  {
   "cell_type": "markdown",
   "source": [
    "## Parameters"
   ],
   "metadata": {}
  },
  {
   "cell_type": "code",
   "execution_count": 2,
   "source": [
    "NUM_CLASSES = 4\n",
    "LEARNING_RATE = 1e-3\n",
    "LEARNING_RATE_REDUCTION_FACTOR = 1e3\n",
    "NUM_EPOCHS = 20\n",
    "NUM_EPOCHS_FREEZE_PRETRAINED = 20\n",
    "BATCH_SIZE = 1\n",
    "DROPOUT_RATE = 0.3\n",
    "SAVE_PATH = './output'"
   ],
   "outputs": [],
   "metadata": {}
  },
  {
   "cell_type": "markdown",
   "source": [
    "## Class initialization"
   ],
   "metadata": {}
  },
  {
   "cell_type": "code",
   "execution_count": 3,
   "source": [
    "data_module = MVCNNDataModule(NUM_CLASSES, BATCH_SIZE)"
   ],
   "outputs": [
    {
     "output_type": "stream",
     "name": "stdout",
     "text": [
      "============================================================\n",
      "Dataset type: TRAIN\n",
      "------------------------------------------------------------\n",
      "Class name: AIRPLANE\n",
      "Total number of instances: 80\n",
      "Total number of images: 960\n",
      "------------------------------------------------------------\n",
      "Class name: BATHTUB\n",
      "Total number of instances: 80\n",
      "Total number of images: 960\n",
      "------------------------------------------------------------\n",
      "Class name: BED\n",
      "Total number of instances: 80\n",
      "Total number of images: 960\n",
      "------------------------------------------------------------\n",
      "Class name: BENCH\n",
      "Total number of instances: 80\n",
      "Total number of images: 960\n",
      "============================================================\n",
      "Dataset type: TEST\n",
      "------------------------------------------------------------\n",
      "Class name: AIRPLANE\n",
      "Total number of instances: 20\n",
      "Total number of images: 240\n",
      "------------------------------------------------------------\n",
      "Class name: BATHTUB\n",
      "Total number of instances: 20\n",
      "Total number of images: 240\n",
      "------------------------------------------------------------\n",
      "Class name: BED\n",
      "Total number of instances: 20\n",
      "Total number of images: 240\n",
      "------------------------------------------------------------\n",
      "Class name: BENCH\n",
      "Total number of instances: 20\n",
      "Total number of images: 240\n"
     ]
    }
   ],
   "metadata": {}
  },
  {
   "cell_type": "code",
   "execution_count": 4,
   "source": [
    "model = MVCNNClassifier(\n",
    "    learning_rate=LEARNING_RATE,\n",
    "    num_epochs_freeze_pretrained=NUM_EPOCHS_FREEZE_PRETRAINED,\n",
    "    dropout_rate=DROPOUT_RATE,\n",
    "    )"
   ],
   "outputs": [
    {
     "output_type": "stream",
     "name": "stdout",
     "text": [
      "Feature extractor weights frozen\n"
     ]
    }
   ],
   "metadata": {}
  },
  {
   "cell_type": "code",
   "execution_count": 5,
   "source": [
    "callbacks = [\n",
    "    ModelCheckpoint(monitor='val_f1', verbose=True, mode='max'),\n",
    "    UnfreezePretrainedWeights(LEARNING_RATE_REDUCTION_FACTOR),\n",
    "    ResetEvalResults(NUM_CLASSES)\n",
    "]"
   ],
   "outputs": [],
   "metadata": {}
  },
  {
   "cell_type": "code",
   "execution_count": 6,
   "source": [
    "trainer = Trainer(\n",
    "    max_epochs=NUM_EPOCHS,\n",
    "    fast_dev_run=False,\n",
    "    default_root_dir=SAVE_PATH,\n",
    "    callbacks=callbacks\n",
    ")"
   ],
   "outputs": [
    {
     "output_type": "stream",
     "name": "stderr",
     "text": [
      "GPU available: False, used: False\n",
      "TPU available: False, using: 0 TPU cores\n"
     ]
    }
   ],
   "metadata": {}
  },
  {
   "cell_type": "markdown",
   "source": [
    "## Model training"
   ],
   "metadata": {}
  },
  {
   "cell_type": "code",
   "execution_count": 7,
   "source": [
    "trainer.fit(\n",
    "    model,\n",
    "    train_dataloader=data_module.train_dataloader(),\n",
    "    val_dataloaders=data_module.val_dataloader()\n",
    ")"
   ],
   "outputs": [
    {
     "output_type": "stream",
     "name": "stderr",
     "text": [
      "\n",
      "  | Name                 | Type             | Params\n",
      "----------------------------------------------------------\n",
      "0 | feature_extractor    | FeatureExtractor | 25.6 M\n",
      "1 | image_vector_creator | Sequential       | 512 K \n",
      "2 | predictor            | Sequential       | 74.5 K\n",
      "----------------------------------------------------------\n",
      "586 K     Trainable params\n",
      "25.6 M    Non-trainable params\n",
      "26.1 M    Total params\n",
      "104.576   Total estimated model params size (MB)\n"
     ]
    },
    {
     "output_type": "display_data",
     "data": {
      "text/plain": [
       "Validation sanity check: 0it [00:00, ?it/s]"
      ],
      "application/vnd.jupyter.widget-view+json": {
       "version_major": 2,
       "version_minor": 0,
       "model_id": "19403618b930449183342d7dee6d6535"
      }
     },
     "metadata": {}
    },
    {
     "output_type": "stream",
     "name": "stdout",
     "text": [
      "\n",
      "Eval stats:\n",
      "TP per class: [0 0 0 0] Average: 0.00\n",
      "TN per class: [0 2 2 0] Average: 1.00\n",
      "FP per class: [0 0 0 2] Average: 0.50\n",
      "FN per class: [2 0 0 0] Average: 0.50\n",
      "ACCURACY per class: [0. 1. 1. 0.] Average: 0.50\n",
      "PRECISION per class: [0. 0. 0. 0.] Average: 0.00\n",
      "RECALL per class: [0. 0. 0. 0.] Average: 0.00\n",
      "F1 per class: [0. 0. 0. 0.] Average: 0.00\n",
      "Avg Loss val tensor(1.4337)\n",
      "F1 val tensor(0.)\n",
      "Accuracy VAL tensor(0.7500)\n"
     ]
    },
    {
     "output_type": "display_data",
     "data": {
      "text/plain": [
       "Training: 0it [00:00, ?it/s]"
      ],
      "application/vnd.jupyter.widget-view+json": {
       "version_major": 2,
       "version_minor": 0,
       "model_id": "4567f892e8c74ac19dad094fa81ed941"
      }
     },
     "metadata": {}
    },
    {
     "output_type": "display_data",
     "data": {
      "text/plain": [
       "Validating: 0it [00:00, ?it/s]"
      ],
      "application/vnd.jupyter.widget-view+json": {
       "version_major": 2,
       "version_minor": 0,
       "model_id": "3267f1244e1c4386aebd6fae9ec924a5"
      }
     },
     "metadata": {}
    },
    {
     "output_type": "stream",
     "name": "stderr",
     "text": [
      "Epoch 0, global step 319: val_f1 reached 0.54300 (best 0.54300), saving model to \"output/lightning_logs/version_0/checkpoints/epoch=0-step=319.ckpt\" as top 1\n"
     ]
    },
    {
     "output_type": "stream",
     "name": "stdout",
     "text": [
      "\n",
      "Eval stats:\n",
      "TP per class: [19 15 15  0] Average: 12.25\n",
      "TN per class: [57 55 37 60] Average: 52.25\n",
      "FP per class: [ 3  5 23  0] Average: 7.75\n",
      "FN per class: [ 1  5  5 20] Average: 7.75\n",
      "ACCURACY per class: [0.95  0.875 0.65  0.75 ] Average: 0.81\n",
      "PRECISION per class: [0.86363636 0.75       0.39473684 0.        ] Average: 0.50\n",
      "RECALL per class: [0.95 0.75 0.75 0.  ] Average: 0.61\n",
      "F1 per class: [0.9047619  0.75       0.51724138 0.        ] Average: 0.54\n",
      "Avg Loss val tensor(0.8390)\n",
      "F1 val tensor(0.5430)\n",
      "Accuracy VAL tensor(0.8250)\n"
     ]
    },
    {
     "output_type": "display_data",
     "data": {
      "text/plain": [
       "Validating: 0it [00:00, ?it/s]"
      ],
      "application/vnd.jupyter.widget-view+json": {
       "version_major": 2,
       "version_minor": 0,
       "model_id": "b48315edf900456db0c58ab6b6fbfe44"
      }
     },
     "metadata": {}
    },
    {
     "output_type": "stream",
     "name": "stderr",
     "text": [
      "Epoch 1, global step 639: val_f1 reached 0.61787 (best 0.61787), saving model to \"output/lightning_logs/version_0/checkpoints/epoch=1-step=639.ckpt\" as top 1\n"
     ]
    },
    {
     "output_type": "stream",
     "name": "stdout",
     "text": [
      "\n",
      "Eval stats:\n",
      "TP per class: [17 17  2 17] Average: 13.25\n",
      "TN per class: [58 56 59 40] Average: 53.25\n",
      "FP per class: [ 2  4  1 20] Average: 6.75\n",
      "FN per class: [ 3  3 18  3] Average: 6.75\n",
      "ACCURACY per class: [0.9375 0.9125 0.7625 0.7125] Average: 0.83\n",
      "PRECISION per class: [0.89473684 0.80952381 0.66666667 0.45945946] Average: 0.71\n",
      "RECALL per class: [0.85 0.85 0.1  0.85] Average: 0.66\n",
      "F1 per class: [0.87179487 0.82926829 0.17391304 0.59649123] Average: 0.62\n",
      "Avg Loss val tensor(1.3921)\n",
      "F1 val tensor(0.6179)\n",
      "Accuracy VAL tensor(0.8281)\n"
     ]
    },
    {
     "output_type": "display_data",
     "data": {
      "text/plain": [
       "Validating: 0it [00:00, ?it/s]"
      ],
      "application/vnd.jupyter.widget-view+json": {
       "version_major": 2,
       "version_minor": 0,
       "model_id": "5e53209d6f654bc4b7bbcf0e798ba87b"
      }
     },
     "metadata": {}
    },
    {
     "output_type": "stream",
     "name": "stderr",
     "text": [
      "Epoch 2, global step 959: val_f1 reached 0.78818 (best 0.78818), saving model to \"output/lightning_logs/version_0/checkpoints/epoch=2-step=959.ckpt\" as top 1\n"
     ]
    },
    {
     "output_type": "stream",
     "name": "stdout",
     "text": [
      "\n",
      "Eval stats:\n",
      "TP per class: [19 14 14 16] Average: 15.75\n",
      "TN per class: [57 59 56 51] Average: 55.75\n",
      "FP per class: [3 1 4 9] Average: 4.25\n",
      "FN per class: [1 6 6 4] Average: 4.25\n",
      "ACCURACY per class: [0.95   0.9125 0.875  0.8375] Average: 0.89\n",
      "PRECISION per class: [0.86363636 0.93333333 0.77777778 0.64      ] Average: 0.80\n",
      "RECALL per class: [0.95 0.7  0.7  0.8 ] Average: 0.79\n",
      "F1 per class: [0.9047619  0.8        0.73684211 0.71111111] Average: 0.79\n",
      "Avg Loss val tensor(1.1146)\n",
      "F1 val tensor(0.7882)\n",
      "Accuracy VAL tensor(0.8969)\n"
     ]
    },
    {
     "output_type": "display_data",
     "data": {
      "text/plain": [
       "Validating: 0it [00:00, ?it/s]"
      ],
      "application/vnd.jupyter.widget-view+json": {
       "version_major": 2,
       "version_minor": 0,
       "model_id": "a039f89f0db64454845a6f33d6a928e1"
      }
     },
     "metadata": {}
    },
    {
     "output_type": "stream",
     "name": "stderr",
     "text": [
      "Epoch 3, global step 1279: val_f1 was not in top 1\n"
     ]
    },
    {
     "output_type": "stream",
     "name": "stdout",
     "text": [
      "\n",
      "Eval stats:\n",
      "TP per class: [19 16  8 16] Average: 14.75\n",
      "TN per class: [57 56 58 48] Average: 54.75\n",
      "FP per class: [ 3  4  2 12] Average: 5.25\n",
      "FN per class: [ 1  4 12  4] Average: 5.25\n",
      "ACCURACY per class: [0.95  0.9   0.825 0.8  ] Average: 0.87\n",
      "PRECISION per class: [0.86363636 0.8        0.8        0.57142857] Average: 0.76\n",
      "RECALL per class: [0.95 0.8  0.4  0.8 ] Average: 0.74\n",
      "F1 per class: [0.9047619  0.8        0.53333333 0.66666667] Average: 0.73\n",
      "Avg Loss val tensor(1.2800)\n",
      "F1 val tensor(0.7262)\n",
      "Accuracy VAL tensor(0.8750)\n"
     ]
    },
    {
     "output_type": "display_data",
     "data": {
      "text/plain": [
       "Validating: 0it [00:00, ?it/s]"
      ],
      "application/vnd.jupyter.widget-view+json": {
       "version_major": 2,
       "version_minor": 0,
       "model_id": "abaa8f2644374672b47412550a673b5c"
      }
     },
     "metadata": {}
    },
    {
     "output_type": "stream",
     "name": "stderr",
     "text": [
      "Epoch 4, global step 1599: val_f1 reached 0.85042 (best 0.85042), saving model to \"output/lightning_logs/version_0/checkpoints/epoch=4-step=1599.ckpt\" as top 1\n"
     ]
    },
    {
     "output_type": "stream",
     "name": "stdout",
     "text": [
      "\n",
      "Eval stats:\n",
      "TP per class: [19 16 19 14] Average: 17.00\n",
      "TN per class: [57 59 52 60] Average: 57.00\n",
      "FP per class: [3 1 8 0] Average: 3.00\n",
      "FN per class: [1 4 1 6] Average: 3.00\n",
      "ACCURACY per class: [0.95   0.9375 0.8875 0.925 ] Average: 0.93\n",
      "PRECISION per class: [0.86363636 0.94117647 0.7037037  1.        ] Average: 0.88\n",
      "RECALL per class: [0.95 0.8  0.95 0.7 ] Average: 0.85\n",
      "F1 per class: [0.9047619  0.86486486 0.80851064 0.82352941] Average: 0.85\n",
      "Avg Loss val tensor(1.1935)\n",
      "F1 val tensor(0.8504)\n",
      "Accuracy VAL tensor(0.9187)\n"
     ]
    },
    {
     "output_type": "display_data",
     "data": {
      "text/plain": [
       "Validating: 0it [00:00, ?it/s]"
      ],
      "application/vnd.jupyter.widget-view+json": {
       "version_major": 2,
       "version_minor": 0,
       "model_id": "8baa6ac4e6434759a6177a1e3167ac85"
      }
     },
     "metadata": {}
    },
    {
     "output_type": "stream",
     "name": "stderr",
     "text": [
      "Epoch 5, global step 1919: val_f1 was not in top 1\n"
     ]
    },
    {
     "output_type": "stream",
     "name": "stdout",
     "text": [
      "\n",
      "Eval stats:\n",
      "TP per class: [14 16  3 18] Average: 12.75\n",
      "TN per class: [57 59 60 35] Average: 52.75\n",
      "FP per class: [ 3  1  0 25] Average: 7.25\n",
      "FN per class: [ 6  4 17  2] Average: 7.25\n",
      "ACCURACY per class: [0.8875 0.9375 0.7875 0.6625] Average: 0.82\n",
      "PRECISION per class: [0.82352941 0.94117647 1.         0.41860465] Average: 0.80\n",
      "RECALL per class: [0.7  0.8  0.15 0.9 ] Average: 0.64\n",
      "F1 per class: [0.75675676 0.86486486 0.26086957 0.57142857] Average: 0.61\n",
      "Avg Loss val tensor(2.1630)\n",
      "F1 val tensor(0.6135)\n",
      "Accuracy VAL tensor(0.8219)\n"
     ]
    },
    {
     "output_type": "display_data",
     "data": {
      "text/plain": [
       "Validating: 0it [00:00, ?it/s]"
      ],
      "application/vnd.jupyter.widget-view+json": {
       "version_major": 2,
       "version_minor": 0,
       "model_id": "79f5816d28d34ed681f4be8717e5c0c3"
      }
     },
     "metadata": {}
    },
    {
     "output_type": "stream",
     "name": "stderr",
     "text": [
      "Epoch 6, global step 2239: val_f1 was not in top 1\n"
     ]
    },
    {
     "output_type": "stream",
     "name": "stdout",
     "text": [
      "\n",
      "Eval stats:\n",
      "TP per class: [19 16 11 17] Average: 15.75\n",
      "TN per class: [57 60 59 47] Average: 55.75\n",
      "FP per class: [ 3  0  1 13] Average: 4.25\n",
      "FN per class: [1 4 9 3] Average: 4.25\n",
      "ACCURACY per class: [0.95  0.95  0.875 0.8  ] Average: 0.89\n",
      "PRECISION per class: [0.86363636 1.         0.91666667 0.56666667] Average: 0.84\n",
      "RECALL per class: [0.95 0.8  0.55 0.85] Average: 0.79\n",
      "F1 per class: [0.9047619  0.88888889 0.6875     0.68      ] Average: 0.79\n",
      "Avg Loss val tensor(1.5115)\n",
      "F1 val tensor(0.7903)\n",
      "Accuracy VAL tensor(0.8969)\n"
     ]
    },
    {
     "output_type": "display_data",
     "data": {
      "text/plain": [
       "Validating: 0it [00:00, ?it/s]"
      ],
      "application/vnd.jupyter.widget-view+json": {
       "version_major": 2,
       "version_minor": 0,
       "model_id": "45d708d9056f49a599735cc786216a9f"
      }
     },
     "metadata": {}
    },
    {
     "output_type": "stream",
     "name": "stderr",
     "text": [
      "Epoch 7, global step 2559: val_f1 was not in top 1\n"
     ]
    },
    {
     "output_type": "stream",
     "name": "stdout",
     "text": [
      "\n",
      "Eval stats:\n",
      "TP per class: [12 11 19 13] Average: 13.75\n",
      "TN per class: [53 60 45 57] Average: 53.75\n",
      "FP per class: [ 7  0 15  3] Average: 6.25\n",
      "FN per class: [8 9 1 7] Average: 6.25\n",
      "ACCURACY per class: [0.8125 0.8875 0.8    0.875 ] Average: 0.84\n",
      "PRECISION per class: [0.63157895 1.         0.55882353 0.8125    ] Average: 0.75\n",
      "RECALL per class: [0.6  0.55 0.95 0.65] Average: 0.69\n",
      "F1 per class: [0.61538462 0.70967742 0.7037037  0.72222222] Average: 0.69\n",
      "Avg Loss val tensor(2.8054)\n",
      "F1 val tensor(0.6877)\n",
      "Accuracy VAL tensor(0.8438)\n"
     ]
    },
    {
     "output_type": "display_data",
     "data": {
      "text/plain": [
       "Validating: 0it [00:00, ?it/s]"
      ],
      "application/vnd.jupyter.widget-view+json": {
       "version_major": 2,
       "version_minor": 0,
       "model_id": "f49fb8a8d6814783a0437269fa58f32e"
      }
     },
     "metadata": {}
    },
    {
     "output_type": "stream",
     "name": "stderr",
     "text": [
      "Epoch 8, global step 2879: val_f1 was not in top 1\n"
     ]
    },
    {
     "output_type": "stream",
     "name": "stdout",
     "text": [
      "\n",
      "Eval stats:\n",
      "TP per class: [20 17  9 15] Average: 15.25\n",
      "TN per class: [51 60 59 51] Average: 55.25\n",
      "FP per class: [9 0 1 9] Average: 4.75\n",
      "FN per class: [ 0  3 11  5] Average: 4.75\n",
      "ACCURACY per class: [0.8875 0.9625 0.85   0.825 ] Average: 0.88\n",
      "PRECISION per class: [0.68965517 1.         0.9        0.625     ] Average: 0.80\n",
      "RECALL per class: [1.   0.85 0.45 0.75] Average: 0.76\n",
      "F1 per class: [0.81632653 0.91891892 0.6        0.68181818] Average: 0.75\n",
      "Avg Loss val tensor(1.4977)\n",
      "F1 val tensor(0.7543)\n",
      "Accuracy VAL tensor(0.8813)\n"
     ]
    },
    {
     "output_type": "display_data",
     "data": {
      "text/plain": [
       "Validating: 0it [00:00, ?it/s]"
      ],
      "application/vnd.jupyter.widget-view+json": {
       "version_major": 2,
       "version_minor": 0,
       "model_id": "254cce5e6d01418880bc688680a9d4cd"
      }
     },
     "metadata": {}
    },
    {
     "output_type": "stream",
     "name": "stderr",
     "text": [
      "Epoch 9, global step 3199: val_f1 was not in top 1\n"
     ]
    },
    {
     "output_type": "stream",
     "name": "stdout",
     "text": [
      "\n",
      "Eval stats:\n",
      "TP per class: [19 17 15 16] Average: 16.75\n",
      "TN per class: [57 58 57 55] Average: 56.75\n",
      "FP per class: [3 2 3 5] Average: 3.25\n",
      "FN per class: [1 3 5 4] Average: 3.25\n",
      "ACCURACY per class: [0.95   0.9375 0.9    0.8875] Average: 0.92\n",
      "PRECISION per class: [0.86363636 0.89473684 0.83333333 0.76190476] Average: 0.84\n",
      "RECALL per class: [0.95 0.85 0.75 0.8 ] Average: 0.84\n",
      "F1 per class: [0.9047619  0.87179487 0.78947368 0.7804878 ] Average: 0.84\n",
      "Avg Loss val tensor(1.0908)\n",
      "F1 val tensor(0.8366)\n",
      "Accuracy VAL tensor(0.9187)\n"
     ]
    },
    {
     "output_type": "display_data",
     "data": {
      "text/plain": [
       "Validating: 0it [00:00, ?it/s]"
      ],
      "application/vnd.jupyter.widget-view+json": {
       "version_major": 2,
       "version_minor": 0,
       "model_id": "770629f4b52543ca86febedb43ce44a2"
      }
     },
     "metadata": {}
    },
    {
     "output_type": "stream",
     "name": "stderr",
     "text": [
      "Epoch 10, global step 3519: val_f1 was not in top 1\n"
     ]
    },
    {
     "output_type": "stream",
     "name": "stdout",
     "text": [
      "\n",
      "Eval stats:\n",
      "TP per class: [19 17 11 12] Average: 14.75\n",
      "TN per class: [49 58 57 55] Average: 54.75\n",
      "FP per class: [11  2  3  5] Average: 5.25\n",
      "FN per class: [1 3 9 8] Average: 5.25\n",
      "ACCURACY per class: [0.85   0.9375 0.85   0.8375] Average: 0.87\n",
      "PRECISION per class: [0.63333333 0.89473684 0.78571429 0.70588235] Average: 0.75\n",
      "RECALL per class: [0.95 0.85 0.55 0.6 ] Average: 0.74\n",
      "F1 per class: [0.76       0.87179487 0.64705882 0.64864865] Average: 0.73\n",
      "Avg Loss val tensor(2.1048)\n",
      "F1 val tensor(0.7319)\n",
      "Accuracy VAL tensor(0.8719)\n"
     ]
    },
    {
     "output_type": "display_data",
     "data": {
      "text/plain": [
       "Validating: 0it [00:00, ?it/s]"
      ],
      "application/vnd.jupyter.widget-view+json": {
       "version_major": 2,
       "version_minor": 0,
       "model_id": "3ecebac5378f4a8ca7ccce971550f91a"
      }
     },
     "metadata": {}
    },
    {
     "output_type": "stream",
     "name": "stderr",
     "text": [
      "Epoch 11, global step 3839: val_f1 was not in top 1\n"
     ]
    },
    {
     "output_type": "stream",
     "name": "stdout",
     "text": [
      "\n",
      "Eval stats:\n",
      "TP per class: [20 17 10 16] Average: 15.75\n",
      "TN per class: [52 54 59 58] Average: 55.75\n",
      "FP per class: [8 6 1 2] Average: 4.25\n",
      "FN per class: [ 0  3 10  4] Average: 4.25\n",
      "ACCURACY per class: [0.9    0.8875 0.8625 0.925 ] Average: 0.89\n",
      "PRECISION per class: [0.71428571 0.73913043 0.90909091 0.88888889] Average: 0.81\n",
      "RECALL per class: [1.   0.85 0.5  0.8 ] Average: 0.79\n",
      "F1 per class: [0.83333333 0.79069767 0.64516129 0.84210526] Average: 0.78\n",
      "Avg Loss val tensor(1.1334)\n",
      "F1 val tensor(0.7778)\n",
      "Accuracy VAL tensor(0.8938)\n"
     ]
    },
    {
     "output_type": "display_data",
     "data": {
      "text/plain": [
       "Validating: 0it [00:00, ?it/s]"
      ],
      "application/vnd.jupyter.widget-view+json": {
       "version_major": 2,
       "version_minor": 0,
       "model_id": "7ab4841357a640ebaf16b009fbca7a4f"
      }
     },
     "metadata": {}
    },
    {
     "output_type": "stream",
     "name": "stderr",
     "text": [
      "Epoch 12, global step 4159: val_f1 reached 0.87524 (best 0.87524), saving model to \"output/lightning_logs/version_0/checkpoints/epoch=12-step=4159.ckpt\" as top 1\n"
     ]
    },
    {
     "output_type": "stream",
     "name": "stdout",
     "text": [
      "\n",
      "Eval stats:\n",
      "TP per class: [19 16 18 17] Average: 17.50\n",
      "TN per class: [57 60 57 56] Average: 57.50\n",
      "FP per class: [3 0 3 4] Average: 2.50\n",
      "FN per class: [1 4 2 3] Average: 2.50\n",
      "ACCURACY per class: [0.95   0.95   0.9375 0.9125] Average: 0.94\n",
      "PRECISION per class: [0.86363636 1.         0.85714286 0.80952381] Average: 0.88\n",
      "RECALL per class: [0.95 0.8  0.9  0.85] Average: 0.88\n",
      "F1 per class: [0.9047619  0.88888889 0.87804878 0.82926829] Average: 0.88\n",
      "Avg Loss val tensor(1.4887)\n",
      "F1 val tensor(0.8752)\n",
      "Accuracy VAL tensor(0.9375)\n"
     ]
    },
    {
     "output_type": "display_data",
     "data": {
      "text/plain": [
       "Validating: 0it [00:00, ?it/s]"
      ],
      "application/vnd.jupyter.widget-view+json": {
       "version_major": 2,
       "version_minor": 0,
       "model_id": "9c323f1c2f234100a38f00e7fe37d4f4"
      }
     },
     "metadata": {}
    },
    {
     "output_type": "stream",
     "name": "stderr",
     "text": [
      "Epoch 13, global step 4479: val_f1 was not in top 1\n"
     ]
    },
    {
     "output_type": "stream",
     "name": "stdout",
     "text": [
      "\n",
      "Eval stats:\n",
      "TP per class: [14 10 20 16] Average: 15.00\n",
      "TN per class: [59 60 45 56] Average: 55.00\n",
      "FP per class: [ 1  0 15  4] Average: 5.00\n",
      "FN per class: [ 6 10  0  4] Average: 5.00\n",
      "ACCURACY per class: [0.9125 0.875  0.8125 0.9   ] Average: 0.88\n",
      "PRECISION per class: [0.93333333 1.         0.57142857 0.8       ] Average: 0.83\n",
      "RECALL per class: [0.7 0.5 1.  0.8] Average: 0.75\n",
      "F1 per class: [0.8        0.66666667 0.72727273 0.8       ] Average: 0.75\n",
      "Avg Loss val tensor(2.9285)\n",
      "F1 val tensor(0.7485)\n",
      "Accuracy VAL tensor(0.8750)\n"
     ]
    },
    {
     "output_type": "display_data",
     "data": {
      "text/plain": [
       "Validating: 0it [00:00, ?it/s]"
      ],
      "application/vnd.jupyter.widget-view+json": {
       "version_major": 2,
       "version_minor": 0,
       "model_id": "c63f68eb23e94682b9e73feedc86afbe"
      }
     },
     "metadata": {}
    },
    {
     "output_type": "stream",
     "name": "stderr",
     "text": [
      "Epoch 14, global step 4799: val_f1 was not in top 1\n"
     ]
    },
    {
     "output_type": "stream",
     "name": "stdout",
     "text": [
      "\n",
      "Eval stats:\n",
      "TP per class: [ 7 15 19 13] Average: 13.50\n",
      "TN per class: [56 60 49 49] Average: 53.50\n",
      "FP per class: [ 4  0 11 11] Average: 6.50\n",
      "FN per class: [13  5  1  7] Average: 6.50\n",
      "ACCURACY per class: [0.7875 0.9375 0.85   0.775 ] Average: 0.84\n",
      "PRECISION per class: [0.63636364 1.         0.63333333 0.54166667] Average: 0.70\n",
      "RECALL per class: [0.35 0.75 0.95 0.65] Average: 0.67\n",
      "F1 per class: [0.4516129  0.85714286 0.76       0.59090909] Average: 0.66\n",
      "Avg Loss val tensor(4.8759)\n",
      "F1 val tensor(0.6649)\n",
      "Accuracy VAL tensor(0.8375)\n"
     ]
    },
    {
     "output_type": "display_data",
     "data": {
      "text/plain": [
       "Validating: 0it [00:00, ?it/s]"
      ],
      "application/vnd.jupyter.widget-view+json": {
       "version_major": 2,
       "version_minor": 0,
       "model_id": "b6dd8b18d4884eaabf9a9f45277b4e92"
      }
     },
     "metadata": {}
    },
    {
     "output_type": "stream",
     "name": "stderr",
     "text": [
      "Epoch 15, global step 5119: val_f1 was not in top 1\n"
     ]
    },
    {
     "output_type": "stream",
     "name": "stdout",
     "text": [
      "\n",
      "Eval stats:\n",
      "TP per class: [15  8 19  9] Average: 12.75\n",
      "TN per class: [52 60 39 60] Average: 52.75\n",
      "FP per class: [ 8  0 21  0] Average: 7.25\n",
      "FN per class: [ 5 12  1 11] Average: 7.25\n",
      "ACCURACY per class: [0.8375 0.85   0.725  0.8625] Average: 0.82\n",
      "PRECISION per class: [0.65217391 1.         0.475      1.        ] Average: 0.78\n",
      "RECALL per class: [0.75 0.4  0.95 0.45] Average: 0.64\n",
      "F1 per class: [0.69767442 0.57142857 0.63333333 0.62068966] Average: 0.63\n",
      "Avg Loss val tensor(4.9173)\n",
      "F1 val tensor(0.6308)\n",
      "Accuracy VAL tensor(0.8188)\n"
     ]
    },
    {
     "output_type": "display_data",
     "data": {
      "text/plain": [
       "Validating: 0it [00:00, ?it/s]"
      ],
      "application/vnd.jupyter.widget-view+json": {
       "version_major": 2,
       "version_minor": 0,
       "model_id": "81039132778545ce9f40fe1c7df67249"
      }
     },
     "metadata": {}
    },
    {
     "output_type": "stream",
     "name": "stderr",
     "text": [
      "Epoch 16, global step 5439: val_f1 was not in top 1\n"
     ]
    },
    {
     "output_type": "stream",
     "name": "stdout",
     "text": [
      "\n",
      "Eval stats:\n",
      "TP per class: [11 10 19 14] Average: 13.50\n",
      "TN per class: [54 60 46 54] Average: 53.50\n",
      "FP per class: [ 6  0 14  6] Average: 6.50\n",
      "FN per class: [ 9 10  1  6] Average: 6.50\n",
      "ACCURACY per class: [0.8125 0.875  0.8125 0.85  ] Average: 0.84\n",
      "PRECISION per class: [0.64705882 1.         0.57575758 0.7       ] Average: 0.73\n",
      "RECALL per class: [0.55 0.5  0.95 0.7 ] Average: 0.68\n",
      "F1 per class: [0.59459459 0.66666667 0.71698113 0.7       ] Average: 0.67\n",
      "Avg Loss val tensor(4.9312)\n",
      "F1 val tensor(0.6696)\n",
      "Accuracy VAL tensor(0.8375)\n"
     ]
    },
    {
     "output_type": "display_data",
     "data": {
      "text/plain": [
       "Validating: 0it [00:00, ?it/s]"
      ],
      "application/vnd.jupyter.widget-view+json": {
       "version_major": 2,
       "version_minor": 0,
       "model_id": "f6b59b7d33c646f688718d5ed9527c4f"
      }
     },
     "metadata": {}
    },
    {
     "output_type": "stream",
     "name": "stderr",
     "text": [
      "Epoch 17, global step 5759: val_f1 was not in top 1\n"
     ]
    },
    {
     "output_type": "stream",
     "name": "stdout",
     "text": [
      "\n",
      "Eval stats:\n",
      "TP per class: [16 13 20 12] Average: 15.25\n",
      "TN per class: [53 60 48 60] Average: 55.25\n",
      "FP per class: [ 7  0 12  0] Average: 4.75\n",
      "FN per class: [4 7 0 8] Average: 4.75\n",
      "ACCURACY per class: [0.8625 0.9125 0.85   0.9   ] Average: 0.88\n",
      "PRECISION per class: [0.69565217 1.         0.625      1.        ] Average: 0.83\n",
      "RECALL per class: [0.8  0.65 1.   0.6 ] Average: 0.76\n",
      "F1 per class: [0.74418605 0.78787879 0.76923077 0.75      ] Average: 0.76\n",
      "Avg Loss val tensor(3.2532)\n",
      "F1 val tensor(0.7628)\n",
      "Accuracy VAL tensor(0.8813)\n"
     ]
    },
    {
     "output_type": "display_data",
     "data": {
      "text/plain": [
       "Validating: 0it [00:00, ?it/s]"
      ],
      "application/vnd.jupyter.widget-view+json": {
       "version_major": 2,
       "version_minor": 0,
       "model_id": "01116d5ecf0346f6abc8797b016c854e"
      }
     },
     "metadata": {}
    },
    {
     "output_type": "stream",
     "name": "stderr",
     "text": [
      "Epoch 18, global step 6079: val_f1 was not in top 1\n"
     ]
    },
    {
     "output_type": "stream",
     "name": "stdout",
     "text": [
      "\n",
      "Eval stats:\n",
      "TP per class: [13 14  9 16] Average: 13.00\n",
      "TN per class: [54 60 57 41] Average: 53.00\n",
      "FP per class: [ 6  0  3 19] Average: 7.00\n",
      "FN per class: [ 7  6 11  4] Average: 7.00\n",
      "ACCURACY per class: [0.8375 0.925  0.825  0.7125] Average: 0.83\n",
      "PRECISION per class: [0.68421053 1.         0.75       0.45714286] Average: 0.72\n",
      "RECALL per class: [0.65 0.7  0.45 0.8 ] Average: 0.65\n",
      "F1 per class: [0.66666667 0.82352941 0.5625     0.58181818] Average: 0.66\n",
      "Avg Loss val tensor(4.6792)\n",
      "F1 val tensor(0.6586)\n",
      "Accuracy VAL tensor(0.8250)\n"
     ]
    },
    {
     "output_type": "display_data",
     "data": {
      "text/plain": [
       "Validating: 0it [00:00, ?it/s]"
      ],
      "application/vnd.jupyter.widget-view+json": {
       "version_major": 2,
       "version_minor": 0,
       "model_id": "518dd25bbd594e17922e4327bf95f4de"
      }
     },
     "metadata": {}
    },
    {
     "output_type": "stream",
     "name": "stderr",
     "text": [
      "Epoch 19, global step 6399: val_f1 was not in top 1\n"
     ]
    },
    {
     "output_type": "stream",
     "name": "stdout",
     "text": [
      "\n",
      "Eval stats:\n",
      "TP per class: [19 14 20 14] Average: 16.75\n",
      "TN per class: [57 60 51 59] Average: 56.75\n",
      "FP per class: [3 0 9 1] Average: 3.25\n",
      "FN per class: [1 6 0 6] Average: 3.25\n",
      "ACCURACY per class: [0.95   0.925  0.8875 0.9125] Average: 0.92\n",
      "PRECISION per class: [0.86363636 1.         0.68965517 0.93333333] Average: 0.87\n",
      "RECALL per class: [0.95 0.7  1.   0.7 ] Average: 0.84\n",
      "F1 per class: [0.9047619  0.82352941 0.81632653 0.8       ] Average: 0.84\n",
      "Avg Loss val tensor(1.9574)\n",
      "F1 val tensor(0.8362)\n",
      "Accuracy VAL tensor(0.9219)\n"
     ]
    }
   ],
   "metadata": {}
  },
  {
   "cell_type": "code",
   "execution_count": null,
   "source": [],
   "outputs": [],
   "metadata": {}
  }
 ],
 "metadata": {
  "interpreter": {
   "hash": "d0ec11bdcd54811a724131fc8def2e54b25dbfdafc9f0a571e8702c64517e46b"
  },
  "kernelspec": {
   "name": "python3",
   "display_name": "Python 3.6.9 64-bit ('mvcnn_train': venv)"
  },
  "language_info": {
   "codemirror_mode": {
    "name": "ipython",
    "version": 3
   },
   "file_extension": ".py",
   "mimetype": "text/x-python",
   "name": "python",
   "nbconvert_exporter": "python",
   "pygments_lexer": "ipython3",
   "version": "3.6.9"
  },
  "orig_nbformat": 4
 },
 "nbformat": 4,
 "nbformat_minor": 2
}
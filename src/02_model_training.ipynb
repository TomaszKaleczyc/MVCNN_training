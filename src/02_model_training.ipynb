{
 "cells": [
  {
   "cell_type": "markdown",
   "source": [],
   "metadata": {}
  },
  {
   "cell_type": "markdown",
   "source": [
    "## Assumptions"
   ],
   "metadata": {}
  },
  {
   "cell_type": "markdown",
   "source": [
    "In the first notebook we have established the structure and contents of the `modelnet40v1` dataset.\n",
    "\n",
    "Now, we will attempt to create a model that is capable of determining the type of the object based on all images of an object instance. The type of architecture that allows just that is called a *Multi-View Convolutional Network (`MVCNN`)* - you can read about it in more detail [in this arXiv paper](https://arxiv.org/pdf/1505.00880.pdf). In short: it allows feature extraction from multiple images, pools the individual image feature vectors using a symmetrical function and finally makes a prediction on the pooled vector. Because we are using a symmetrical function for pooling, the number of images per instance is arbitrary and can change from instance to instance.\n",
    "\n",
    "![mvcnn_figure](./data/mvcnn_figure.JPG)\n",
    "\n",
    "In our case, this experiment will be performed with the following configuration - we'll use:\n",
    "* `ResNet50` pretrained on the `ImageNet` dataset as the backbone feature extractor for the individual images\n",
    "* `mean` as the symmetrical pooling function for the individual vectors \n",
    "* `dropout` in the layers responsible for pooling and prediction\n",
    "* `Adam` as the optimizer\n",
    "* `F1-Macro` calculated on the validation set as the driving metric to reveal our champion model\n",
    "\n",
    "In addition, because the experiment will be performed on a local machine with no access to a reasonable GPU, we will make some simplifications in the training pipeline:\n",
    "* the number of classes in training will be limited to just 4: `airplane`, `bathtub`, `bed` and `bench`\n",
    "* the pretrained feature extractor weights will remain frozen throughout the training\n",
    "* at training time we'll use the batch dimension of the input to provide the instance images - instances will be forwarded through the net one by one, i.e. the *de facto* batch size will be 1"
   ],
   "metadata": {}
  },
  {
   "cell_type": "markdown",
   "source": [
    "## Imports"
   ],
   "metadata": {}
  },
  {
   "cell_type": "code",
   "execution_count": 1,
   "source": [
    "%load_ext autoreload\n",
    "%autoreload 2\n",
    "\n",
    "from pytorch_lightning.callbacks import ModelCheckpoint\n",
    "from pytorch_lightning import Trainer\n",
    "\n",
    "from dataset_classes.mvcnn_data_module import MVCNNDataModule\n",
    "from model_classes.mvcnn import MVCNNClassifier\n",
    "from model_classes.callbacks import UnfreezePretrainedWeights"
   ],
   "outputs": [
    {
     "output_type": "stream",
     "name": "stderr",
     "text": [
      "/mnt/d/coding/git/TomaszKaleczyc/MVCNN_training/environment/mvcnn_train/lib/python3.6/site-packages/pytorch_lightning/metrics/__init__.py:44: LightningDeprecationWarning: `pytorch_lightning.metrics.*` module has been renamed to `torchmetrics.*` and split off to its own package (https://github.com/PyTorchLightning/metrics) since v1.3 and will be removed in v1.5\n",
      "  \"`pytorch_lightning.metrics.*` module has been renamed to `torchmetrics.*` and split off to its own package\"\n"
     ]
    }
   ],
   "metadata": {}
  },
  {
   "cell_type": "markdown",
   "source": [
    "## Parameters"
   ],
   "metadata": {}
  },
  {
   "cell_type": "code",
   "execution_count": 2,
   "source": [
    "NUM_CLASSES = 4\n",
    "LEARNING_RATE = 1e-3\n",
    "LEARNING_RATE_REDUCTION_FACTOR = 1e3\n",
    "NUM_EPOCHS = 20\n",
    "NUM_EPOCHS_FREEZE_PRETRAINED = 20\n",
    "BATCH_SIZE = 1\n",
    "DROPOUT_RATE = 0.3\n",
    "SAVE_PATH = '../output'"
   ],
   "outputs": [],
   "metadata": {}
  },
  {
   "cell_type": "markdown",
   "source": [
    "## Class initialization"
   ],
   "metadata": {}
  },
  {
   "cell_type": "code",
   "execution_count": 3,
   "source": [
    "data_module = MVCNNDataModule(NUM_CLASSES, BATCH_SIZE)"
   ],
   "outputs": [
    {
     "output_type": "stream",
     "name": "stdout",
     "text": [
      "============================================================\n",
      "Dataset type: TRAIN\n",
      "------------------------------------------------------------\n",
      "Class name: AIRPLANE\n",
      "Total number of instances: 80\n",
      "Total number of images: 960\n",
      "------------------------------------------------------------\n",
      "Class name: BATHTUB\n",
      "Total number of instances: 80\n",
      "Total number of images: 960\n",
      "------------------------------------------------------------\n",
      "Class name: BED\n",
      "Total number of instances: 80\n",
      "Total number of images: 960\n",
      "------------------------------------------------------------\n",
      "Class name: BENCH\n",
      "Total number of instances: 80\n",
      "Total number of images: 960\n",
      "============================================================\n",
      "Dataset type: TEST\n",
      "------------------------------------------------------------\n",
      "Class name: AIRPLANE\n",
      "Total number of instances: 20\n",
      "Total number of images: 240\n",
      "------------------------------------------------------------\n",
      "Class name: BATHTUB\n",
      "Total number of instances: 20\n",
      "Total number of images: 240\n",
      "------------------------------------------------------------\n",
      "Class name: BED\n",
      "Total number of instances: 20\n",
      "Total number of images: 240\n",
      "------------------------------------------------------------\n",
      "Class name: BENCH\n",
      "Total number of instances: 20\n",
      "Total number of images: 240\n"
     ]
    }
   ],
   "metadata": {}
  },
  {
   "cell_type": "code",
   "execution_count": 4,
   "source": [
    "model = MVCNNClassifier(\n",
    "    num_classes=NUM_CLASSES,\n",
    "    learning_rate=LEARNING_RATE,\n",
    "    num_epochs_freeze_pretrained=NUM_EPOCHS_FREEZE_PRETRAINED,\n",
    "    dropout_rate=DROPOUT_RATE,\n",
    "    )"
   ],
   "outputs": [
    {
     "output_type": "stream",
     "name": "stdout",
     "text": [
      "Feature extractor weights frozen\n"
     ]
    }
   ],
   "metadata": {}
  },
  {
   "cell_type": "code",
   "execution_count": 5,
   "source": [
    "callbacks = [\n",
    "    ModelCheckpoint(\n",
    "        filename='mvcnn-{epoch}-{validation/f1:.3f}',\n",
    "        monitor='validation/f1', \n",
    "        save_top_k=3,\n",
    "        verbose=True, \n",
    "        mode='max'\n",
    "        ),\n",
    "    UnfreezePretrainedWeights(LEARNING_RATE_REDUCTION_FACTOR),\n",
    "]"
   ],
   "outputs": [],
   "metadata": {}
  },
  {
   "cell_type": "code",
   "execution_count": 6,
   "source": [
    "trainer = Trainer(\n",
    "    max_epochs=NUM_EPOCHS,\n",
    "    fast_dev_run=False,\n",
    "    default_root_dir=SAVE_PATH,\n",
    "    callbacks=callbacks\n",
    ")"
   ],
   "outputs": [
    {
     "output_type": "stream",
     "name": "stderr",
     "text": [
      "GPU available: False, used: False\n",
      "TPU available: False, using: 0 TPU cores\n"
     ]
    }
   ],
   "metadata": {}
  },
  {
   "cell_type": "markdown",
   "source": [
    "## Model training"
   ],
   "metadata": {}
  },
  {
   "cell_type": "code",
   "execution_count": 7,
   "source": [
    "trainer.fit(\n",
    "    model,\n",
    "    train_dataloader=data_module.train_dataloader(),\n",
    "    val_dataloaders=data_module.val_dataloader()\n",
    ")"
   ],
   "outputs": [
    {
     "output_type": "stream",
     "name": "stderr",
     "text": [
      "\n",
      "  | Name                  | Type             | Params\n",
      "-----------------------------------------------------------\n",
      "0 | feature_extractor     | FeatureExtractor | 25.6 M\n",
      "1 | image_vector_creator  | Sequential       | 512 K \n",
      "2 | predictor             | Sequential       | 74.5 K\n",
      "3 | avg_metric            | AverageMeter     | 0     \n",
      "4 | eval_metric           | F1               | 0     \n",
      "5 | secondary_eval_metric | Accuracy         | 0     \n",
      "-----------------------------------------------------------\n",
      "586 K     Trainable params\n",
      "25.6 M    Non-trainable params\n",
      "26.1 M    Total params\n",
      "104.576   Total estimated model params size (MB)\n"
     ]
    },
    {
     "output_type": "display_data",
     "data": {
      "text/plain": [
       "Validation sanity check: 0it [00:00, ?it/s]"
      ],
      "application/vnd.jupyter.widget-view+json": {
       "version_major": 2,
       "version_minor": 0,
       "model_id": "a66af4c9208b46c2b86f4157e7911388"
      }
     },
     "metadata": {}
    },
    {
     "output_type": "stream",
     "name": "stdout",
     "text": [
      "============================================================\n",
      "Eval stats for VALIDATION\n",
      "TP per class: [0 0 0 0] Average: 0.00\n",
      "TN per class: [0 0 2 2] Average: 1.00\n",
      "FP per class: [0 2 0 0] Average: 0.50\n",
      "FN per class: [2 0 0 0] Average: 0.50\n",
      "ACCURACY per class: [0. 0. 1. 1.] Average: 0.50\n",
      "PRECISION per class: [0. 0. 0. 0.] Average: 0.00\n",
      "RECALL per class: [0. 0. 0. 0.] Average: 0.00\n",
      "F1 per class: [0. 0. 0. 0.] Average: 0.00\n",
      "Avg Loss na validation tensor(1.4405)\n",
      "F1 - validation tensor(0.)\n",
      "Accuracy - validation tensor(0.7500)\n"
     ]
    },
    {
     "output_type": "display_data",
     "data": {
      "text/plain": [
       "Training: 0it [00:00, ?it/s]"
      ],
      "application/vnd.jupyter.widget-view+json": {
       "version_major": 2,
       "version_minor": 0,
       "model_id": "086e312749114b05be67f44815eabfb6"
      }
     },
     "metadata": {}
    },
    {
     "output_type": "stream",
     "name": "stdout",
     "text": [
      "============================================================\n",
      "Eval stats for TRAIN\n",
      "TP per class: [48 26 23 18] Average: 28.75\n",
      "TN per class: [200 168 194 193] Average: 188.75\n",
      "FP per class: [40 72 46 47] Average: 51.25\n",
      "FN per class: [32 54 57 62] Average: 51.25\n",
      "ACCURACY per class: [0.775    0.60625  0.678125 0.659375] Average: 0.68\n",
      "PRECISION per class: [0.54545455 0.26530612 0.33333333 0.27692308] Average: 0.36\n",
      "RECALL per class: [0.6    0.325  0.2875 0.225 ] Average: 0.36\n",
      "F1 per class: [0.57142857 0.29213483 0.30872483 0.24827586] Average: 0.36\n",
      "Avg Loss na train tensor(1.2140, grad_fn=<DivBackward0>)\n",
      "F1 - train tensor(0.3551)\n",
      "Accuracy - train tensor(0.7672)\n"
     ]
    },
    {
     "output_type": "display_data",
     "data": {
      "text/plain": [
       "Validating: 0it [00:00, ?it/s]"
      ],
      "application/vnd.jupyter.widget-view+json": {
       "version_major": 2,
       "version_minor": 0,
       "model_id": "db12afb14410466f8b507a5aeccbe2f2"
      }
     },
     "metadata": {}
    },
    {
     "output_type": "stream",
     "name": "stderr",
     "text": [
      "Epoch 0, global step 319: validation/f1 reached 0.44392 (best 0.44392), saving model to \"../output/lightning_logs/version_0/checkpoints/mvcnn-epoch=0-validation/f1=0.444.ckpt\" as top 3\n"
     ]
    },
    {
     "output_type": "stream",
     "name": "stdout",
     "text": [
      "============================================================\n",
      "Eval stats for VALIDATION\n",
      "TP per class: [20  0  8 13] Average: 10.25\n",
      "TN per class: [52 60 57 32] Average: 50.25\n",
      "FP per class: [ 8  0  3 28] Average: 9.75\n",
      "FN per class: [ 0 20 12  7] Average: 9.75\n",
      "ACCURACY per class: [0.9    0.75   0.8125 0.5625] Average: 0.76\n",
      "PRECISION per class: [0.71428571 0.         0.72727273 0.31707317] Average: 0.44\n",
      "RECALL per class: [1.   0.   0.4  0.65] Average: 0.51\n",
      "F1 per class: [0.83333333 0.         0.51612903 0.42622951] Average: 0.44\n",
      "Avg Loss na validation tensor(1.0558)\n",
      "F1 - validation tensor(0.4439)\n",
      "Accuracy - validation tensor(0.7875)\n",
      "============================================================\n",
      "Eval stats for TRAIN\n",
      "TP per class: [76 52 57 51] Average: 59.00\n",
      "TN per class: [233 216 215 212] Average: 219.00\n",
      "FP per class: [ 7 24 25 28] Average: 21.00\n",
      "FN per class: [ 4 28 23 29] Average: 21.00\n",
      "ACCURACY per class: [0.965625 0.8375   0.85     0.821875] Average: 0.87\n",
      "PRECISION per class: [0.91566265 0.68421053 0.69512195 0.64556962] Average: 0.74\n",
      "RECALL per class: [0.95   0.65   0.7125 0.6375] Average: 0.74\n",
      "F1 per class: [0.93251534 0.66666667 0.7037037  0.64150943] Average: 0.74\n",
      "Avg Loss na train tensor(0.6563, grad_fn=<DivBackward0>)\n",
      "F1 - train tensor(0.7361)\n",
      "Accuracy - train tensor(0.8687)\n"
     ]
    },
    {
     "output_type": "display_data",
     "data": {
      "text/plain": [
       "Validating: 0it [00:00, ?it/s]"
      ],
      "application/vnd.jupyter.widget-view+json": {
       "version_major": 2,
       "version_minor": 0,
       "model_id": "688ad4f61d34421b8b41185d6401f265"
      }
     },
     "metadata": {}
    },
    {
     "output_type": "stream",
     "name": "stderr",
     "text": [
      "Epoch 1, global step 639: validation/f1 reached 0.77443 (best 0.77443), saving model to \"../output/lightning_logs/version_0/checkpoints/mvcnn-epoch=1-validation/f1=0.774.ckpt\" as top 3\n"
     ]
    },
    {
     "output_type": "stream",
     "name": "stdout",
     "text": [
      "============================================================\n",
      "Eval stats for VALIDATION\n",
      "TP per class: [19 15 15 13] Average: 15.50\n",
      "TN per class: [53 58 58 53] Average: 55.50\n",
      "FP per class: [7 2 2 7] Average: 4.50\n",
      "FN per class: [1 5 5 7] Average: 4.50\n",
      "ACCURACY per class: [0.9    0.9125 0.9125 0.825 ] Average: 0.89\n",
      "PRECISION per class: [0.73076923 0.88235294 0.88235294 0.65      ] Average: 0.79\n",
      "RECALL per class: [0.95 0.75 0.75 0.65] Average: 0.78\n",
      "F1 per class: [0.82608696 0.81081081 0.81081081 0.65      ] Average: 0.77\n",
      "Avg Loss na validation tensor(0.8786)\n",
      "F1 - validation tensor(0.7744)\n",
      "Accuracy - validation tensor(0.8938)\n",
      "============================================================\n",
      "Eval stats for TRAIN\n",
      "TP per class: [79 70 69 69] Average: 71.75\n",
      "TN per class: [239 231 227 230] Average: 231.75\n",
      "FP per class: [ 1  9 13 10] Average: 8.25\n",
      "FN per class: [ 1 10 11 11] Average: 8.25\n",
      "ACCURACY per class: [0.99375  0.940625 0.925    0.934375] Average: 0.95\n",
      "PRECISION per class: [0.9875     0.88607595 0.84146341 0.87341772] Average: 0.90\n",
      "RECALL per class: [0.9875 0.875  0.8625 0.8625] Average: 0.90\n",
      "F1 per class: [0.9875     0.88050314 0.85185185 0.86792453] Average: 0.90\n",
      "Avg Loss na train tensor(0.3078, grad_fn=<DivBackward0>)\n",
      "F1 - train tensor(0.8969)\n",
      "Accuracy - train tensor(0.9516)\n"
     ]
    },
    {
     "output_type": "display_data",
     "data": {
      "text/plain": [
       "Validating: 0it [00:00, ?it/s]"
      ],
      "application/vnd.jupyter.widget-view+json": {
       "version_major": 2,
       "version_minor": 0,
       "model_id": "ff8779fc0f904b1f95a723de310e7e48"
      }
     },
     "metadata": {}
    },
    {
     "output_type": "stream",
     "name": "stderr",
     "text": [
      "Epoch 2, global step 959: validation/f1 reached 0.69931 (best 0.77443), saving model to \"../output/lightning_logs/version_0/checkpoints/mvcnn-epoch=2-validation/f1=0.699.ckpt\" as top 3\n"
     ]
    },
    {
     "output_type": "stream",
     "name": "stdout",
     "text": [
      "============================================================\n",
      "Eval stats for VALIDATION\n",
      "TP per class: [19 17 16  6] Average: 14.50\n",
      "TN per class: [50 57 52 59] Average: 54.50\n",
      "FP per class: [10  3  8  1] Average: 5.50\n",
      "FN per class: [ 1  3  4 14] Average: 5.50\n",
      "ACCURACY per class: [0.8625 0.925  0.85   0.8125] Average: 0.86\n",
      "PRECISION per class: [0.65517241 0.85       0.66666667 0.85714286] Average: 0.76\n",
      "RECALL per class: [0.95 0.85 0.8  0.3 ] Average: 0.72\n",
      "F1 per class: [0.7755102  0.85       0.72727273 0.44444444] Average: 0.70\n",
      "Avg Loss na validation tensor(1.2646)\n",
      "F1 - validation tensor(0.6993)\n",
      "Accuracy - validation tensor(0.8656)\n",
      "============================================================\n",
      "Eval stats for TRAIN\n",
      "TP per class: [79 75 72 72] Average: 74.50\n",
      "TN per class: [238 234 233 233] Average: 234.50\n",
      "FP per class: [2 6 7 7] Average: 5.50\n",
      "FN per class: [1 5 8 8] Average: 5.50\n",
      "ACCURACY per class: [0.990625 0.965625 0.953125 0.953125] Average: 0.97\n",
      "PRECISION per class: [0.97530864 0.92592593 0.91139241 0.91139241] Average: 0.93\n",
      "RECALL per class: [0.9875 0.9375 0.9    0.9   ] Average: 0.93\n",
      "F1 per class: [0.98136646 0.93167702 0.90566038 0.90566038] Average: 0.93\n",
      "Avg Loss na train tensor(0.1443, grad_fn=<DivBackward0>)\n",
      "F1 - train tensor(0.9311)\n",
      "Accuracy - train tensor(0.9703)\n"
     ]
    },
    {
     "output_type": "display_data",
     "data": {
      "text/plain": [
       "Validating: 0it [00:00, ?it/s]"
      ],
      "application/vnd.jupyter.widget-view+json": {
       "version_major": 2,
       "version_minor": 0,
       "model_id": "114fe41dc2e847039260f6c95c3c7241"
      }
     },
     "metadata": {}
    },
    {
     "output_type": "stream",
     "name": "stderr",
     "text": [
      "Epoch 3, global step 1279: validation/f1 reached 0.73561 (best 0.77443), saving model to \"../output/lightning_logs/version_0/checkpoints/mvcnn-epoch=3-validation/f1=0.736.ckpt\" as top 3\n"
     ]
    },
    {
     "output_type": "stream",
     "name": "stdout",
     "text": [
      "============================================================\n",
      "Eval stats for VALIDATION\n",
      "TP per class: [19 15 15 10] Average: 14.75\n",
      "TN per class: [50 60 56 53] Average: 54.75\n",
      "FP per class: [10  0  4  7] Average: 5.25\n",
      "FN per class: [ 1  5  5 10] Average: 5.25\n",
      "ACCURACY per class: [0.8625 0.9375 0.8875 0.7875] Average: 0.87\n",
      "PRECISION per class: [0.65517241 1.         0.78947368 0.58823529] Average: 0.76\n",
      "RECALL per class: [0.95 0.75 0.75 0.5 ] Average: 0.74\n",
      "F1 per class: [0.7755102  0.85714286 0.76923077 0.54054054] Average: 0.74\n",
      "Avg Loss na validation tensor(1.8848)\n",
      "F1 - validation tensor(0.7356)\n",
      "Accuracy - validation tensor(0.8687)\n",
      "============================================================\n",
      "Eval stats for TRAIN\n",
      "TP per class: [78 77 77 73] Average: 76.25\n",
      "TN per class: [239 235 234 237] Average: 236.25\n",
      "FP per class: [1 5 6 3] Average: 3.75\n",
      "FN per class: [2 3 3 7] Average: 3.75\n",
      "ACCURACY per class: [0.990625 0.975    0.971875 0.96875 ] Average: 0.98\n",
      "PRECISION per class: [0.98734177 0.93902439 0.92771084 0.96052632] Average: 0.95\n",
      "RECALL per class: [0.975  0.9625 0.9625 0.9125] Average: 0.95\n",
      "F1 per class: [0.98113208 0.95061728 0.94478528 0.93589744] Average: 0.95\n",
      "Avg Loss na train tensor(0.1205, grad_fn=<DivBackward0>)\n",
      "F1 - train tensor(0.9531)\n",
      "Accuracy - train tensor(0.9789)\n"
     ]
    },
    {
     "output_type": "display_data",
     "data": {
      "text/plain": [
       "Validating: 0it [00:00, ?it/s]"
      ],
      "application/vnd.jupyter.widget-view+json": {
       "version_major": 2,
       "version_minor": 0,
       "model_id": "1b90c28516bc4a1a8dcef2f0cfe51118"
      }
     },
     "metadata": {}
    },
    {
     "output_type": "stream",
     "name": "stderr",
     "text": [
      "Epoch 4, global step 1599: validation/f1 was not in top 3\n"
     ]
    },
    {
     "output_type": "stream",
     "name": "stdout",
     "text": [
      "============================================================\n",
      "Eval stats for VALIDATION\n",
      "TP per class: [13  6 16 10] Average: 11.25\n",
      "TN per class: [43 60 51 51] Average: 51.25\n",
      "FP per class: [17  0  9  9] Average: 8.75\n",
      "FN per class: [ 7 14  4 10] Average: 8.75\n",
      "ACCURACY per class: [0.7    0.825  0.8375 0.7625] Average: 0.78\n",
      "PRECISION per class: [0.43333333 1.         0.64       0.52631579] Average: 0.65\n",
      "RECALL per class: [0.65 0.3  0.8  0.5 ] Average: 0.56\n",
      "F1 per class: [0.52       0.46153846 0.71111111 0.51282051] Average: 0.55\n",
      "Avg Loss na validation tensor(2.4297)\n",
      "F1 - validation tensor(0.5514)\n",
      "Accuracy - validation tensor(0.7906)\n",
      "============================================================\n",
      "Eval stats for TRAIN\n",
      "TP per class: [78 76 74 74] Average: 75.50\n",
      "TN per class: [238 235 233 236] Average: 235.50\n",
      "FP per class: [2 5 7 4] Average: 4.50\n",
      "FN per class: [2 4 6 6] Average: 4.50\n",
      "ACCURACY per class: [0.9875   0.971875 0.959375 0.96875 ] Average: 0.97\n",
      "PRECISION per class: [0.975      0.9382716  0.91358025 0.94871795] Average: 0.94\n",
      "RECALL per class: [0.975 0.95  0.925 0.925] Average: 0.94\n",
      "F1 per class: [0.975      0.94409938 0.91925466 0.93670886] Average: 0.94\n",
      "Avg Loss na train tensor(0.1262, grad_fn=<DivBackward0>)\n",
      "F1 - train tensor(0.9438)\n",
      "Accuracy - train tensor(0.9719)\n"
     ]
    },
    {
     "output_type": "display_data",
     "data": {
      "text/plain": [
       "Validating: 0it [00:00, ?it/s]"
      ],
      "application/vnd.jupyter.widget-view+json": {
       "version_major": 2,
       "version_minor": 0,
       "model_id": "3ca3aa5b43df46a1b7ffaa65bc3fe1e9"
      }
     },
     "metadata": {}
    },
    {
     "output_type": "stream",
     "name": "stderr",
     "text": [
      "Epoch 5, global step 1919: validation/f1 reached 0.70274 (best 0.77443), saving model to \"../output/lightning_logs/version_0/checkpoints/mvcnn-epoch=5-validation/f1=0.703.ckpt\" as top 3\n"
     ]
    },
    {
     "output_type": "stream",
     "name": "stdout",
     "text": [
      "============================================================\n",
      "Eval stats for VALIDATION\n",
      "TP per class: [ 8 15 18 16] Average: 14.25\n",
      "TN per class: [60 57 47 53] Average: 54.25\n",
      "FP per class: [ 0  3 13  7] Average: 5.75\n",
      "FN per class: [12  5  2  4] Average: 5.75\n",
      "ACCURACY per class: [0.85   0.9    0.8125 0.8625] Average: 0.86\n",
      "PRECISION per class: [1.         0.83333333 0.58064516 0.69565217] Average: 0.78\n",
      "RECALL per class: [0.4  0.75 0.9  0.8 ] Average: 0.71\n",
      "F1 per class: [0.57142857 0.78947368 0.70588235 0.74418605] Average: 0.70\n",
      "Avg Loss na validation tensor(1.3353)\n",
      "F1 - validation tensor(0.7027)\n",
      "Accuracy - validation tensor(0.8562)\n",
      "============================================================\n",
      "Eval stats for TRAIN\n",
      "TP per class: [79 80 79 79] Average: 79.25\n",
      "TN per class: [239 240 239 239] Average: 239.25\n",
      "FP per class: [1 0 1 1] Average: 0.75\n",
      "FN per class: [1 0 1 1] Average: 0.75\n",
      "ACCURACY per class: [0.99375 1.      0.99375 0.99375] Average: 1.00\n",
      "PRECISION per class: [0.9875 1.     0.9875 0.9875] Average: 0.99\n",
      "RECALL per class: [0.9875 1.     0.9875 0.9875] Average: 0.99\n",
      "F1 per class: [0.9875 1.     0.9875 0.9875] Average: 0.99\n",
      "Avg Loss na train tensor(0.0476, grad_fn=<DivBackward0>)\n",
      "F1 - train tensor(0.9906)\n",
      "Accuracy - train tensor(0.9945)\n"
     ]
    },
    {
     "output_type": "display_data",
     "data": {
      "text/plain": [
       "Validating: 0it [00:00, ?it/s]"
      ],
      "application/vnd.jupyter.widget-view+json": {
       "version_major": 2,
       "version_minor": 0,
       "model_id": "746e644dc2c34257a1e88f6f10908325"
      }
     },
     "metadata": {}
    },
    {
     "output_type": "stream",
     "name": "stderr",
     "text": [
      "Epoch 6, global step 2239: validation/f1 reached 0.71365 (best 0.77443), saving model to \"../output/lightning_logs/version_0/checkpoints/mvcnn-epoch=6-validation/f1=0.714.ckpt\" as top 3\n"
     ]
    },
    {
     "output_type": "stream",
     "name": "stdout",
     "text": [
      "============================================================\n",
      "Eval stats for VALIDATION\n",
      "TP per class: [19 17 15  7] Average: 14.50\n",
      "TN per class: [45 59 57 57] Average: 54.50\n",
      "FP per class: [15  1  3  3] Average: 5.50\n",
      "FN per class: [ 1  3  5 13] Average: 5.50\n",
      "ACCURACY per class: [0.8  0.95 0.9  0.8 ] Average: 0.86\n",
      "PRECISION per class: [0.55882353 0.94444444 0.83333333 0.7       ] Average: 0.76\n",
      "RECALL per class: [0.95 0.85 0.75 0.35] Average: 0.72\n",
      "F1 per class: [0.7037037  0.89473684 0.78947368 0.46666667] Average: 0.71\n",
      "Avg Loss na validation tensor(3.1239)\n",
      "F1 - validation tensor(0.7136)\n",
      "Accuracy - validation tensor(0.8625)\n",
      "============================================================\n",
      "Eval stats for TRAIN\n",
      "TP per class: [80 79 79 80] Average: 79.50\n",
      "TN per class: [240 239 239 240] Average: 239.50\n",
      "FP per class: [0 1 1 0] Average: 0.50\n",
      "FN per class: [0 1 1 0] Average: 0.50\n",
      "ACCURACY per class: [1.      0.99375 0.99375 1.     ] Average: 1.00\n",
      "PRECISION per class: [1.     0.9875 0.9875 1.    ] Average: 0.99\n",
      "RECALL per class: [1.     0.9875 0.9875 1.    ] Average: 0.99\n",
      "F1 per class: [1.     0.9875 0.9875 1.    ] Average: 0.99\n",
      "Avg Loss na train tensor(0.0208, grad_fn=<DivBackward0>)\n",
      "F1 - train tensor(0.9937)\n",
      "Accuracy - train tensor(0.9969)\n"
     ]
    },
    {
     "output_type": "display_data",
     "data": {
      "text/plain": [
       "Validating: 0it [00:00, ?it/s]"
      ],
      "application/vnd.jupyter.widget-view+json": {
       "version_major": 2,
       "version_minor": 0,
       "model_id": "9b3cc94495eb42c4b9d356557db4c96f"
      }
     },
     "metadata": {}
    },
    {
     "output_type": "stream",
     "name": "stderr",
     "text": [
      "Epoch 7, global step 2559: validation/f1 was not in top 3\n"
     ]
    },
    {
     "output_type": "stream",
     "name": "stdout",
     "text": [
      "============================================================\n",
      "Eval stats for VALIDATION\n",
      "TP per class: [18 12 14 12] Average: 14.00\n",
      "TN per class: [53 60 55 48] Average: 54.00\n",
      "FP per class: [ 7  0  5 12] Average: 6.00\n",
      "FN per class: [2 8 6 8] Average: 6.00\n",
      "ACCURACY per class: [0.8875 0.9    0.8625 0.75  ] Average: 0.85\n",
      "PRECISION per class: [0.72       1.         0.73684211 0.5       ] Average: 0.74\n",
      "RECALL per class: [0.9 0.6 0.7 0.6] Average: 0.70\n",
      "F1 per class: [0.8        0.75       0.71794872 0.54545455] Average: 0.70\n",
      "Avg Loss na validation tensor(2.3822)\n",
      "F1 - validation tensor(0.7034)\n",
      "Accuracy - validation tensor(0.8531)\n",
      "============================================================\n",
      "Eval stats for TRAIN\n",
      "TP per class: [80 79 79 79] Average: 79.25\n",
      "TN per class: [240 239 239 239] Average: 239.25\n",
      "FP per class: [0 1 1 1] Average: 0.75\n",
      "FN per class: [0 1 1 1] Average: 0.75\n",
      "ACCURACY per class: [1.      0.99375 0.99375 0.99375] Average: 1.00\n",
      "PRECISION per class: [1.     0.9875 0.9875 0.9875] Average: 0.99\n",
      "RECALL per class: [1.     0.9875 0.9875 0.9875] Average: 0.99\n",
      "F1 per class: [1.     0.9875 0.9875 0.9875] Average: 0.99\n",
      "Avg Loss na train tensor(0.0159, grad_fn=<DivBackward0>)\n",
      "F1 - train tensor(0.9906)\n",
      "Accuracy - train tensor(0.9953)\n"
     ]
    },
    {
     "output_type": "display_data",
     "data": {
      "text/plain": [
       "Validating: 0it [00:00, ?it/s]"
      ],
      "application/vnd.jupyter.widget-view+json": {
       "version_major": 2,
       "version_minor": 0,
       "model_id": "a8f13957ca6344518eacd20d6354ef1d"
      }
     },
     "metadata": {}
    },
    {
     "output_type": "stream",
     "name": "stderr",
     "text": [
      "Epoch 8, global step 2879: validation/f1 was not in top 3\n"
     ]
    },
    {
     "output_type": "stream",
     "name": "stdout",
     "text": [
      "============================================================\n",
      "Eval stats for VALIDATION\n",
      "TP per class: [ 8 15 19 13] Average: 13.75\n",
      "TN per class: [56 58 48 53] Average: 53.75\n",
      "FP per class: [ 4  2 12  7] Average: 6.25\n",
      "FN per class: [12  5  1  7] Average: 6.25\n",
      "ACCURACY per class: [0.8    0.9125 0.8375 0.825 ] Average: 0.84\n",
      "PRECISION per class: [0.66666667 0.88235294 0.61290323 0.65      ] Average: 0.70\n",
      "RECALL per class: [0.4  0.75 0.95 0.65] Average: 0.69\n",
      "F1 per class: [0.5        0.81081081 0.74509804 0.65      ] Average: 0.68\n",
      "Avg Loss na validation tensor(2.9229)\n",
      "F1 - validation tensor(0.6765)\n",
      "Accuracy - validation tensor(0.8438)\n",
      "============================================================\n",
      "Eval stats for TRAIN\n",
      "TP per class: [80 80 80 80] Average: 80.00\n",
      "TN per class: [240 240 240 240] Average: 240.00\n",
      "FP per class: [0 0 0 0] Average: 0.00\n",
      "FN per class: [0 0 0 0] Average: 0.00\n",
      "ACCURACY per class: [1. 1. 1. 1.] Average: 1.00\n",
      "PRECISION per class: [1. 1. 1. 1.] Average: 1.00\n",
      "RECALL per class: [1. 1. 1. 1.] Average: 1.00\n",
      "F1 per class: [1. 1. 1. 1.] Average: 1.00\n",
      "Avg Loss na train tensor(0.0011, grad_fn=<DivBackward0>)\n",
      "F1 - train tensor(1.)\n",
      "Accuracy - train tensor(1.)\n"
     ]
    },
    {
     "output_type": "display_data",
     "data": {
      "text/plain": [
       "Validating: 0it [00:00, ?it/s]"
      ],
      "application/vnd.jupyter.widget-view+json": {
       "version_major": 2,
       "version_minor": 0,
       "model_id": "d5245da48d23461b87fc7947b89e29f5"
      }
     },
     "metadata": {}
    },
    {
     "output_type": "stream",
     "name": "stderr",
     "text": [
      "Epoch 9, global step 3199: validation/f1 was not in top 3\n"
     ]
    },
    {
     "output_type": "stream",
     "name": "stdout",
     "text": [
      "============================================================\n",
      "Eval stats for VALIDATION\n",
      "TP per class: [12 16 18  9] Average: 13.75\n",
      "TN per class: [49 60 55 51] Average: 53.75\n",
      "FP per class: [11  0  5  9] Average: 6.25\n",
      "FN per class: [ 8  4  2 11] Average: 6.25\n",
      "ACCURACY per class: [0.7625 0.95   0.9125 0.75  ] Average: 0.84\n",
      "PRECISION per class: [0.52173913 1.         0.7826087  0.5       ] Average: 0.70\n",
      "RECALL per class: [0.6  0.8  0.9  0.45] Average: 0.69\n",
      "F1 per class: [0.55813953 0.88888889 0.8372093  0.47368421] Average: 0.69\n",
      "Avg Loss na validation tensor(3.0875)\n",
      "F1 - validation tensor(0.6895)\n",
      "Accuracy - validation tensor(0.8438)\n",
      "============================================================\n",
      "Eval stats for TRAIN\n",
      "TP per class: [80 80 80 80] Average: 80.00\n",
      "TN per class: [240 240 240 240] Average: 240.00\n",
      "FP per class: [0 0 0 0] Average: 0.00\n",
      "FN per class: [0 0 0 0] Average: 0.00\n",
      "ACCURACY per class: [1. 1. 1. 1.] Average: 1.00\n",
      "PRECISION per class: [1. 1. 1. 1.] Average: 1.00\n",
      "RECALL per class: [1. 1. 1. 1.] Average: 1.00\n",
      "F1 per class: [1. 1. 1. 1.] Average: 1.00\n",
      "Avg Loss na train tensor(0.0012, grad_fn=<DivBackward0>)\n",
      "F1 - train tensor(1.)\n",
      "Accuracy - train tensor(1.)\n"
     ]
    },
    {
     "output_type": "display_data",
     "data": {
      "text/plain": [
       "Validating: 0it [00:00, ?it/s]"
      ],
      "application/vnd.jupyter.widget-view+json": {
       "version_major": 2,
       "version_minor": 0,
       "model_id": "4bed4f55caca4d6ca00517cf31f4befd"
      }
     },
     "metadata": {}
    },
    {
     "output_type": "stream",
     "name": "stderr",
     "text": [
      "Epoch 10, global step 3519: validation/f1 reached 0.73306 (best 0.77443), saving model to \"../output/lightning_logs/version_0/checkpoints/mvcnn-epoch=10-validation/f1=0.733.ckpt\" as top 3\n"
     ]
    },
    {
     "output_type": "stream",
     "name": "stdout",
     "text": [
      "============================================================\n",
      "Eval stats for VALIDATION\n",
      "TP per class: [18 15 16 10] Average: 14.75\n",
      "TN per class: [50 58 56 55] Average: 54.75\n",
      "FP per class: [10  2  4  5] Average: 5.25\n",
      "FN per class: [ 2  5  4 10] Average: 5.25\n",
      "ACCURACY per class: [0.85   0.9125 0.9    0.8125] Average: 0.87\n",
      "PRECISION per class: [0.64285714 0.88235294 0.8        0.66666667] Average: 0.75\n",
      "RECALL per class: [0.9  0.75 0.8  0.5 ] Average: 0.74\n",
      "F1 per class: [0.75       0.81081081 0.8        0.57142857] Average: 0.73\n",
      "Avg Loss na validation tensor(2.6595)\n",
      "F1 - validation tensor(0.7331)\n",
      "Accuracy - validation tensor(0.8687)\n",
      "============================================================\n",
      "Eval stats for TRAIN\n",
      "TP per class: [80 79 80 80] Average: 79.75\n",
      "TN per class: [240 240 239 240] Average: 239.75\n",
      "FP per class: [0 0 1 0] Average: 0.25\n",
      "FN per class: [0 1 0 0] Average: 0.25\n",
      "ACCURACY per class: [1.       0.996875 0.996875 1.      ] Average: 1.00\n",
      "PRECISION per class: [1.         1.         0.98765432 1.        ] Average: 1.00\n",
      "RECALL per class: [1.     0.9875 1.     1.    ] Average: 1.00\n",
      "F1 per class: [1.         0.99371069 0.99378882 1.        ] Average: 1.00\n",
      "Avg Loss na train tensor(0.0211, grad_fn=<DivBackward0>)\n",
      "F1 - train tensor(0.9969)\n",
      "Accuracy - train tensor(0.9984)\n"
     ]
    },
    {
     "output_type": "display_data",
     "data": {
      "text/plain": [
       "Validating: 0it [00:00, ?it/s]"
      ],
      "application/vnd.jupyter.widget-view+json": {
       "version_major": 2,
       "version_minor": 0,
       "model_id": "d9d8908649d540deb4b1e10e100cb898"
      }
     },
     "metadata": {}
    },
    {
     "output_type": "stream",
     "name": "stderr",
     "text": [
      "Epoch 11, global step 3839: validation/f1 was not in top 3\n"
     ]
    },
    {
     "output_type": "stream",
     "name": "stdout",
     "text": [
      "============================================================\n",
      "Eval stats for VALIDATION\n",
      "TP per class: [10  7 17 17] Average: 12.75\n",
      "TN per class: [58 60 45 48] Average: 52.75\n",
      "FP per class: [ 2  0 15 12] Average: 7.25\n",
      "FN per class: [10 13  3  3] Average: 7.25\n",
      "ACCURACY per class: [0.85   0.8375 0.775  0.8125] Average: 0.82\n",
      "PRECISION per class: [0.83333333 1.         0.53125    0.5862069 ] Average: 0.74\n",
      "RECALL per class: [0.5  0.35 0.85 0.85] Average: 0.64\n",
      "F1 per class: [0.625      0.51851852 0.65384615 0.69387755] Average: 0.62\n",
      "Avg Loss na validation tensor(4.8095)\n",
      "F1 - validation tensor(0.6228)\n",
      "Accuracy - validation tensor(0.8188)\n",
      "============================================================\n",
      "Eval stats for TRAIN\n",
      "TP per class: [78 77 73 74] Average: 75.50\n",
      "TN per class: [239 237 231 235] Average: 235.50\n",
      "FP per class: [1 3 9 5] Average: 4.50\n",
      "FN per class: [2 3 7 6] Average: 4.50\n",
      "ACCURACY per class: [0.990625 0.98125  0.95     0.965625] Average: 0.97\n",
      "PRECISION per class: [0.98734177 0.9625     0.8902439  0.93670886] Average: 0.94\n",
      "RECALL per class: [0.975  0.9625 0.9125 0.925 ] Average: 0.94\n",
      "F1 per class: [0.98113208 0.9625     0.90123457 0.93081761] Average: 0.94\n",
      "Avg Loss na train tensor(0.1946, grad_fn=<DivBackward0>)\n",
      "F1 - train tensor(0.9439)\n",
      "Accuracy - train tensor(0.9719)\n"
     ]
    },
    {
     "output_type": "display_data",
     "data": {
      "text/plain": [
       "Validating: 0it [00:00, ?it/s]"
      ],
      "application/vnd.jupyter.widget-view+json": {
       "version_major": 2,
       "version_minor": 0,
       "model_id": "ff0849eebb894391b741499d4d7d3062"
      }
     },
     "metadata": {}
    },
    {
     "output_type": "stream",
     "name": "stderr",
     "text": [
      "Epoch 12, global step 4159: validation/f1 was not in top 3\n"
     ]
    },
    {
     "output_type": "stream",
     "name": "stdout",
     "text": [
      "============================================================\n",
      "Eval stats for VALIDATION\n",
      "TP per class: [19 13 11 15] Average: 14.50\n",
      "TN per class: [55 59 59 45] Average: 54.50\n",
      "FP per class: [ 5  1  1 15] Average: 5.50\n",
      "FN per class: [1 7 9 5] Average: 5.50\n",
      "ACCURACY per class: [0.925 0.9   0.875 0.75 ] Average: 0.86\n",
      "PRECISION per class: [0.79166667 0.92857143 0.91666667 0.5       ] Average: 0.78\n",
      "RECALL per class: [0.95 0.65 0.55 0.75] Average: 0.73\n",
      "F1 per class: [0.86363636 0.76470588 0.6875     0.6       ] Average: 0.73\n",
      "Avg Loss na validation tensor(2.9257)\n",
      "F1 - validation tensor(0.7290)\n",
      "Accuracy - validation tensor(0.8594)\n",
      "============================================================\n",
      "Eval stats for TRAIN\n",
      "TP per class: [80 79 78 80] Average: 79.25\n",
      "TN per class: [240 238 239 240] Average: 239.25\n",
      "FP per class: [0 2 1 0] Average: 0.75\n",
      "FN per class: [0 1 2 0] Average: 0.75\n",
      "ACCURACY per class: [1.       0.990625 0.990625 1.      ] Average: 1.00\n",
      "PRECISION per class: [1.         0.97530864 0.98734177 1.        ] Average: 0.99\n",
      "RECALL per class: [1.     0.9875 0.975  1.    ] Average: 0.99\n",
      "F1 per class: [1.         0.98136646 0.98113208 1.        ] Average: 0.99\n",
      "Avg Loss na train tensor(0.0183, grad_fn=<DivBackward0>)\n",
      "F1 - train tensor(0.9906)\n",
      "Accuracy - train tensor(0.9953)\n"
     ]
    },
    {
     "output_type": "display_data",
     "data": {
      "text/plain": [
       "Validating: 0it [00:00, ?it/s]"
      ],
      "application/vnd.jupyter.widget-view+json": {
       "version_major": 2,
       "version_minor": 0,
       "model_id": "3226bf16338e4a8394bbede24f0599b2"
      }
     },
     "metadata": {}
    },
    {
     "output_type": "stream",
     "name": "stderr",
     "text": [
      "Epoch 13, global step 4479: validation/f1 was not in top 3\n"
     ]
    },
    {
     "output_type": "stream",
     "name": "stdout",
     "text": [
      "============================================================\n",
      "Eval stats for VALIDATION\n",
      "TP per class: [19 16  8 14] Average: 14.25\n",
      "TN per class: [53 57 59 48] Average: 54.25\n",
      "FP per class: [ 7  3  1 12] Average: 5.75\n",
      "FN per class: [ 1  4 12  6] Average: 5.75\n",
      "ACCURACY per class: [0.9    0.9125 0.8375 0.775 ] Average: 0.86\n",
      "PRECISION per class: [0.73076923 0.84210526 0.88888889 0.53846154] Average: 0.75\n",
      "RECALL per class: [0.95 0.8  0.4  0.7 ] Average: 0.71\n",
      "F1 per class: [0.82608696 0.82051282 0.55172414 0.60869565] Average: 0.70\n",
      "Avg Loss na validation tensor(3.2308)\n",
      "F1 - validation tensor(0.7018)\n",
      "Accuracy - validation tensor(0.8562)\n",
      "============================================================\n",
      "Eval stats for TRAIN\n",
      "TP per class: [80 79 80 79] Average: 79.50\n",
      "TN per class: [240 239 240 239] Average: 239.50\n",
      "FP per class: [0 1 0 1] Average: 0.50\n",
      "FN per class: [0 1 0 1] Average: 0.50\n",
      "ACCURACY per class: [1.      0.99375 1.      0.99375] Average: 1.00\n",
      "PRECISION per class: [1.     0.9875 1.     0.9875] Average: 0.99\n",
      "RECALL per class: [1.     0.9875 1.     0.9875] Average: 0.99\n",
      "F1 per class: [1.     0.9875 1.     0.9875] Average: 0.99\n",
      "Avg Loss na train tensor(0.0121, grad_fn=<DivBackward0>)\n",
      "F1 - train tensor(0.9937)\n",
      "Accuracy - train tensor(0.9969)\n"
     ]
    },
    {
     "output_type": "display_data",
     "data": {
      "text/plain": [
       "Validating: 0it [00:00, ?it/s]"
      ],
      "application/vnd.jupyter.widget-view+json": {
       "version_major": 2,
       "version_minor": 0,
       "model_id": "72ead4d7d5134c5cb842b7498c9af4f4"
      }
     },
     "metadata": {}
    },
    {
     "output_type": "stream",
     "name": "stderr",
     "text": [
      "Epoch 14, global step 4799: validation/f1 reached 0.81182 (best 0.81182), saving model to \"../output/lightning_logs/version_0/checkpoints/mvcnn-epoch=14-validation/f1=0.812.ckpt\" as top 3\n"
     ]
    },
    {
     "output_type": "stream",
     "name": "stdout",
     "text": [
      "============================================================\n",
      "Eval stats for VALIDATION\n",
      "TP per class: [18 17 15 15] Average: 16.25\n",
      "TN per class: [57 57 56 55] Average: 56.25\n",
      "FP per class: [3 3 4 5] Average: 3.75\n",
      "FN per class: [2 3 5 5] Average: 3.75\n",
      "ACCURACY per class: [0.9375 0.925  0.8875 0.875 ] Average: 0.91\n",
      "PRECISION per class: [0.85714286 0.85       0.78947368 0.75      ] Average: 0.81\n",
      "RECALL per class: [0.9  0.85 0.75 0.75] Average: 0.81\n",
      "F1 per class: [0.87804878 0.85       0.76923077 0.75      ] Average: 0.81\n",
      "Avg Loss na validation tensor(2.1307)\n",
      "F1 - validation tensor(0.8118)\n",
      "Accuracy - validation tensor(0.9062)\n",
      "============================================================\n",
      "Eval stats for TRAIN\n",
      "TP per class: [80 78 79 79] Average: 79.00\n",
      "TN per class: [240 239 237 240] Average: 239.00\n",
      "FP per class: [0 1 3 0] Average: 1.00\n",
      "FN per class: [0 2 1 1] Average: 1.00\n",
      "ACCURACY per class: [1.       0.990625 0.9875   0.996875] Average: 0.99\n",
      "PRECISION per class: [1.         0.98734177 0.96341463 1.        ] Average: 0.99\n",
      "RECALL per class: [1.     0.975  0.9875 0.9875] Average: 0.99\n",
      "F1 per class: [1.         0.98113208 0.97530864 0.99371069] Average: 0.99\n",
      "Avg Loss na train tensor(0.0741, grad_fn=<DivBackward0>)\n",
      "F1 - train tensor(0.9875)\n",
      "Accuracy - train tensor(0.9937)\n"
     ]
    },
    {
     "output_type": "display_data",
     "data": {
      "text/plain": [
       "Validating: 0it [00:00, ?it/s]"
      ],
      "application/vnd.jupyter.widget-view+json": {
       "version_major": 2,
       "version_minor": 0,
       "model_id": "0fe86809eb7d46dea6936b37e8514d47"
      }
     },
     "metadata": {}
    },
    {
     "output_type": "stream",
     "name": "stderr",
     "text": [
      "Epoch 15, global step 5119: validation/f1 was not in top 3\n"
     ]
    },
    {
     "output_type": "stream",
     "name": "stdout",
     "text": [
      "============================================================\n",
      "Eval stats for VALIDATION\n",
      "TP per class: [18 15  2 17] Average: 13.00\n",
      "TN per class: [57 57 60 38] Average: 53.00\n",
      "FP per class: [ 3  3  0 22] Average: 7.00\n",
      "FN per class: [ 2  5 18  3] Average: 7.00\n",
      "ACCURACY per class: [0.9375 0.9    0.775  0.6875] Average: 0.82\n",
      "PRECISION per class: [0.85714286 0.83333333 1.         0.43589744] Average: 0.78\n",
      "RECALL per class: [0.9  0.75 0.1  0.85] Average: 0.65\n",
      "F1 per class: [0.87804878 0.78947368 0.18181818 0.57627119] Average: 0.61\n",
      "Avg Loss na validation tensor(3.6328)\n",
      "F1 - validation tensor(0.6064)\n",
      "Accuracy - validation tensor(0.8219)\n",
      "============================================================\n",
      "Eval stats for TRAIN\n",
      "TP per class: [80 78 78 77] Average: 78.25\n",
      "TN per class: [240 238 238 237] Average: 238.25\n",
      "FP per class: [0 2 2 3] Average: 1.75\n",
      "FN per class: [0 2 2 3] Average: 1.75\n",
      "ACCURACY per class: [1.      0.9875  0.9875  0.98125] Average: 0.99\n",
      "PRECISION per class: [1.     0.975  0.975  0.9625] Average: 0.98\n",
      "RECALL per class: [1.     0.975  0.975  0.9625] Average: 0.98\n",
      "F1 per class: [1.     0.975  0.975  0.9625] Average: 0.98\n",
      "Avg Loss na train tensor(0.0977, grad_fn=<DivBackward0>)\n",
      "F1 - train tensor(0.9781)\n",
      "Accuracy - train tensor(0.9898)\n"
     ]
    },
    {
     "output_type": "display_data",
     "data": {
      "text/plain": [
       "Validating: 0it [00:00, ?it/s]"
      ],
      "application/vnd.jupyter.widget-view+json": {
       "version_major": 2,
       "version_minor": 0,
       "model_id": "72e46e8a3d5d4480bb92812eb44e1b0d"
      }
     },
     "metadata": {}
    },
    {
     "output_type": "stream",
     "name": "stderr",
     "text": [
      "Epoch 16, global step 5439: validation/f1 was not in top 3\n"
     ]
    },
    {
     "output_type": "stream",
     "name": "stdout",
     "text": [
      "============================================================\n",
      "Eval stats for VALIDATION\n",
      "TP per class: [17 10  8 17] Average: 13.00\n",
      "TN per class: [58 60 55 39] Average: 53.00\n",
      "FP per class: [ 2  0  5 21] Average: 7.00\n",
      "FN per class: [ 3 10 12  3] Average: 7.00\n",
      "ACCURACY per class: [0.9375 0.875  0.7875 0.7   ] Average: 0.82\n",
      "PRECISION per class: [0.89473684 1.         0.61538462 0.44736842] Average: 0.74\n",
      "RECALL per class: [0.85 0.5  0.4  0.85] Average: 0.65\n",
      "F1 per class: [0.87179487 0.66666667 0.48484848 0.5862069 ] Average: 0.65\n",
      "Avg Loss na validation tensor(3.9832)\n",
      "F1 - validation tensor(0.6524)\n",
      "Accuracy - validation tensor(0.8250)\n",
      "============================================================\n",
      "Eval stats for TRAIN\n",
      "TP per class: [80 78 77 79] Average: 78.50\n",
      "TN per class: [240 238 238 238] Average: 238.50\n",
      "FP per class: [0 2 2 2] Average: 1.50\n",
      "FN per class: [0 2 3 1] Average: 1.50\n",
      "ACCURACY per class: [1.       0.9875   0.984375 0.990625] Average: 0.99\n",
      "PRECISION per class: [1.         0.975      0.97468354 0.97530864] Average: 0.98\n",
      "RECALL per class: [1.     0.975  0.9625 0.9875] Average: 0.98\n",
      "F1 per class: [1.         0.975      0.96855346 0.98136646] Average: 0.98\n",
      "Avg Loss na train tensor(0.0428, grad_fn=<DivBackward0>)\n",
      "F1 - train tensor(0.9812)\n",
      "Accuracy - train tensor(0.9906)\n"
     ]
    },
    {
     "output_type": "display_data",
     "data": {
      "text/plain": [
       "Validating: 0it [00:00, ?it/s]"
      ],
      "application/vnd.jupyter.widget-view+json": {
       "version_major": 2,
       "version_minor": 0,
       "model_id": "c1e1842802ae49caa8eb68397ef6b211"
      }
     },
     "metadata": {}
    },
    {
     "output_type": "stream",
     "name": "stderr",
     "text": [
      "Epoch 17, global step 5759: validation/f1 reached 0.78927 (best 0.81182), saving model to \"../output/lightning_logs/version_0/checkpoints/mvcnn-epoch=17-validation/f1=0.789.ckpt\" as top 3\n"
     ]
    },
    {
     "output_type": "stream",
     "name": "stdout",
     "text": [
      "============================================================\n",
      "Eval stats for VALIDATION\n",
      "TP per class: [18 14 14 17] Average: 15.75\n",
      "TN per class: [58 59 55 51] Average: 55.75\n",
      "FP per class: [2 1 5 9] Average: 4.25\n",
      "FN per class: [2 6 6 3] Average: 4.25\n",
      "ACCURACY per class: [0.95   0.9125 0.8625 0.85  ] Average: 0.89\n",
      "PRECISION per class: [0.9        0.93333333 0.73684211 0.65384615] Average: 0.81\n",
      "RECALL per class: [0.9  0.7  0.7  0.85] Average: 0.79\n",
      "F1 per class: [0.9        0.8        0.71794872 0.73913043] Average: 0.79\n",
      "Avg Loss na validation tensor(1.8824)\n",
      "F1 - validation tensor(0.7893)\n",
      "Accuracy - validation tensor(0.8938)\n",
      "============================================================\n",
      "Eval stats for TRAIN\n",
      "TP per class: [80 80 80 80] Average: 80.00\n",
      "TN per class: [240 240 240 240] Average: 240.00\n",
      "FP per class: [0 0 0 0] Average: 0.00\n",
      "FN per class: [0 0 0 0] Average: 0.00\n",
      "ACCURACY per class: [1. 1. 1. 1.] Average: 1.00\n",
      "PRECISION per class: [1. 1. 1. 1.] Average: 1.00\n",
      "RECALL per class: [1. 1. 1. 1.] Average: 1.00\n",
      "F1 per class: [1. 1. 1. 1.] Average: 1.00\n",
      "Avg Loss na train tensor(0.0029, grad_fn=<DivBackward0>)\n",
      "F1 - train tensor(1.)\n",
      "Accuracy - train tensor(1.)\n"
     ]
    },
    {
     "output_type": "display_data",
     "data": {
      "text/plain": [
       "Validating: 0it [00:00, ?it/s]"
      ],
      "application/vnd.jupyter.widget-view+json": {
       "version_major": 2,
       "version_minor": 0,
       "model_id": "901b559b5f3745cbae7ffa897bac9d96"
      }
     },
     "metadata": {}
    },
    {
     "output_type": "stream",
     "name": "stderr",
     "text": [
      "Epoch 18, global step 6079: validation/f1 was not in top 3\n"
     ]
    },
    {
     "output_type": "stream",
     "name": "stdout",
     "text": [
      "============================================================\n",
      "Eval stats for VALIDATION\n",
      "TP per class: [18  8 11 17] Average: 13.50\n",
      "TN per class: [58 60 54 42] Average: 53.50\n",
      "FP per class: [ 2  0  6 18] Average: 6.50\n",
      "FN per class: [ 2 12  9  3] Average: 6.50\n",
      "ACCURACY per class: [0.95   0.85   0.8125 0.7375] Average: 0.84\n",
      "PRECISION per class: [0.9        1.         0.64705882 0.48571429] Average: 0.76\n",
      "RECALL per class: [0.9  0.4  0.55 0.85] Average: 0.68\n",
      "F1 per class: [0.9        0.57142857 0.59459459 0.61818182] Average: 0.67\n",
      "Avg Loss na validation tensor(4.2849)\n",
      "F1 - validation tensor(0.6711)\n",
      "Accuracy - validation tensor(0.8375)\n",
      "============================================================\n",
      "Eval stats for TRAIN\n",
      "TP per class: [80 79 77 77] Average: 78.25\n",
      "TN per class: [240 239 238 236] Average: 238.25\n",
      "FP per class: [0 1 2 4] Average: 1.75\n",
      "FN per class: [0 1 3 3] Average: 1.75\n",
      "ACCURACY per class: [1.       0.99375  0.984375 0.978125] Average: 0.99\n",
      "PRECISION per class: [1.         0.9875     0.97468354 0.95061728] Average: 0.98\n",
      "RECALL per class: [1.     0.9875 0.9625 0.9625] Average: 0.98\n",
      "F1 per class: [1.         0.9875     0.96855346 0.95652174] Average: 0.98\n",
      "Avg Loss na train tensor(0.0952, grad_fn=<DivBackward0>)\n",
      "F1 - train tensor(0.9781)\n",
      "Accuracy - train tensor(0.9891)\n"
     ]
    },
    {
     "output_type": "display_data",
     "data": {
      "text/plain": [
       "Validating: 0it [00:00, ?it/s]"
      ],
      "application/vnd.jupyter.widget-view+json": {
       "version_major": 2,
       "version_minor": 0,
       "model_id": "4dc088398aa144cb8102b42b187fa4f7"
      }
     },
     "metadata": {}
    },
    {
     "output_type": "stream",
     "name": "stderr",
     "text": [
      "Epoch 19, global step 6399: validation/f1 was not in top 3\n"
     ]
    },
    {
     "output_type": "stream",
     "name": "stdout",
     "text": [
      "============================================================\n",
      "Eval stats for VALIDATION\n",
      "TP per class: [17 13  9 17] Average: 14.00\n",
      "TN per class: [58 60 53 45] Average: 54.00\n",
      "FP per class: [ 2  0  7 15] Average: 6.00\n",
      "FN per class: [ 3  7 11  3] Average: 6.00\n",
      "ACCURACY per class: [0.9375 0.9125 0.775  0.775 ] Average: 0.85\n",
      "PRECISION per class: [0.89473684 1.         0.5625     0.53125   ] Average: 0.75\n",
      "RECALL per class: [0.85 0.65 0.45 0.85] Average: 0.70\n",
      "F1 per class: [0.87179487 0.78787879 0.5        0.65384615] Average: 0.70\n",
      "Avg Loss na validation tensor(2.8940)\n",
      "F1 - validation tensor(0.7034)\n",
      "Accuracy - validation tensor(0.8500)\n"
     ]
    }
   ],
   "metadata": {}
  },
  {
   "cell_type": "code",
   "execution_count": null,
   "source": [],
   "outputs": [],
   "metadata": {}
  }
 ],
 "metadata": {
  "interpreter": {
   "hash": "d0ec11bdcd54811a724131fc8def2e54b25dbfdafc9f0a571e8702c64517e46b"
  },
  "kernelspec": {
   "name": "python3",
   "display_name": "Python 3.6.9 64-bit ('mvcnn_train': venv)"
  },
  "language_info": {
   "codemirror_mode": {
    "name": "ipython",
    "version": 3
   },
   "file_extension": ".py",
   "mimetype": "text/x-python",
   "name": "python",
   "nbconvert_exporter": "python",
   "pygments_lexer": "ipython3",
   "version": "3.6.9"
  },
  "orig_nbformat": 4
 },
 "nbformat": 4,
 "nbformat_minor": 2
}
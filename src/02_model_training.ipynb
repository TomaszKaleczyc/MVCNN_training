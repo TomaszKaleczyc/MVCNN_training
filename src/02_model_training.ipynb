{
 "cells": [
  {
   "cell_type": "markdown",
   "metadata": {},
   "source": []
  },
  {
   "cell_type": "markdown",
   "metadata": {},
   "source": [
    "## Assumptions"
   ]
  },
  {
   "cell_type": "markdown",
   "metadata": {},
   "source": [
    "In the first notebook we have established the structure and contents of the `modelnet40v1` dataset.\n",
    "\n",
    "Now, we will attempt to create a model that is capable of determining the type of the object based on all images of an object instance. The type of architecture that allows just that is called a *Multi-View Convolutional Network (`MVCNN`)* - you can read about it in more detail [in this arXiv paper](https://arxiv.org/pdf/1505.00880.pdf). In short: it allows feature extraction from multiple images, pools the individual image feature vectors using a symmetrical function and finally makes a prediction on the pooled vector. Because we are using a symmetrical function for pooling, the number of images per instance is arbitrary and can change from instance to instance.\n",
    "\n",
    "![mvcnn_figure](../data/mvcnn_figure.JPG)\n",
    "\n",
    "In our case, this experiment will be performed with the following configuration - we'll use:\n",
    "* `ResNet50` pretrained on the `ImageNet` dataset as the backbone feature extractor for the individual images\n",
    "* `mean` as the symmetrical pooling function for the individual vectors \n",
    "* `dropout` in the layers responsible for pooling and prediction\n",
    "* `Adam` as the optimizer\n",
    "* `F1-Macro` calculated on the validation set as the driving metric to reveal our champion model\n",
    "\n",
    "In addition, because the experiment will be performed on a local machine with no access to a reasonable GPU, we will make some simplifications in the training pipeline:\n",
    "* the number of classes in training will be limited to just 4: `airplane`, `bathtub`, `bed` and `bench`\n",
    "* the pretrained feature extractor weights will remain frozen throughout the training\n",
    "* at training time we'll use the batch dimension of the input to provide the instance images - instances will be forwarded through the net one by one, i.e. the *de facto* batch size will be 1"
   ]
  },
  {
   "cell_type": "markdown",
   "metadata": {},
   "source": [
    "## Imports"
   ]
  },
  {
   "cell_type": "code",
   "execution_count": 1,
   "metadata": {},
   "outputs": [
    {
     "name": "stderr",
     "output_type": "stream",
     "text": [
      "/mnt/d/coding/git/TomaszKaleczyc/MVCNN_training/environment/mvcnn_train/lib/python3.6/site-packages/pytorch_lightning/metrics/__init__.py:44: LightningDeprecationWarning: `pytorch_lightning.metrics.*` module has been renamed to `torchmetrics.*` and split off to its own package (https://github.com/PyTorchLightning/metrics) since v1.3 and will be removed in v1.5\n",
      "  \"`pytorch_lightning.metrics.*` module has been renamed to `torchmetrics.*` and split off to its own package\"\n"
     ]
    }
   ],
   "source": [
    "%load_ext autoreload\n",
    "%autoreload 2\n",
    "\n",
    "from pytorch_lightning.callbacks import ModelCheckpoint\n",
    "from pytorch_lightning import Trainer\n",
    "\n",
    "from dataset.mvcnn_data_module import MVCNNDataModule\n",
    "from model.mvcnn import MVCNNClassifier\n",
    "from model.callbacks import UnfreezePretrainedWeights"
   ]
  },
  {
   "cell_type": "markdown",
   "metadata": {},
   "source": [
    "## Parameters"
   ]
  },
  {
   "cell_type": "code",
   "execution_count": 2,
   "metadata": {},
   "outputs": [],
   "source": [
    "NUM_CLASSES = 4\n",
    "LEARNING_RATE = 1e-3\n",
    "LEARNING_RATE_REDUCTION_FACTOR = 1e3\n",
    "NUM_EPOCHS = 20\n",
    "NUM_EPOCHS_FREEZE_PRETRAINED = 20\n",
    "BATCH_SIZE = 1\n",
    "DROPOUT_RATE = 0.3\n",
    "SAVE_PATH = '../output'"
   ]
  },
  {
   "cell_type": "markdown",
   "metadata": {},
   "source": [
    "## Class initialization"
   ]
  },
  {
   "cell_type": "code",
   "execution_count": 3,
   "metadata": {},
   "outputs": [
    {
     "name": "stdout",
     "output_type": "stream",
     "text": [
      "============================================================\n",
      "Dataset type: TRAIN\n",
      "------------------------------------------------------------\n",
      "Class name: AIRPLANE\n",
      "Total number of instances: 80\n",
      "Total number of images: 960\n",
      "------------------------------------------------------------\n",
      "Class name: BATHTUB\n",
      "Total number of instances: 80\n",
      "Total number of images: 960\n",
      "------------------------------------------------------------\n",
      "Class name: BED\n",
      "Total number of instances: 80\n",
      "Total number of images: 960\n",
      "------------------------------------------------------------\n",
      "Class name: BENCH\n",
      "Total number of instances: 80\n",
      "Total number of images: 960\n",
      "============================================================\n",
      "Dataset type: TEST\n",
      "------------------------------------------------------------\n",
      "Class name: AIRPLANE\n",
      "Total number of instances: 20\n",
      "Total number of images: 240\n",
      "------------------------------------------------------------\n",
      "Class name: BATHTUB\n",
      "Total number of instances: 20\n",
      "Total number of images: 240\n",
      "------------------------------------------------------------\n",
      "Class name: BED\n",
      "Total number of instances: 20\n",
      "Total number of images: 240\n",
      "------------------------------------------------------------\n",
      "Class name: BENCH\n",
      "Total number of instances: 20\n",
      "Total number of images: 240\n"
     ]
    }
   ],
   "source": [
    "data_module = MVCNNDataModule(NUM_CLASSES, BATCH_SIZE)"
   ]
  },
  {
   "cell_type": "code",
   "execution_count": 4,
   "metadata": {},
   "outputs": [
    {
     "name": "stdout",
     "output_type": "stream",
     "text": [
      "Feature extractor weights frozen\n"
     ]
    }
   ],
   "source": [
    "model = MVCNNClassifier(\n",
    "    num_classes=NUM_CLASSES,\n",
    "    learning_rate=LEARNING_RATE,\n",
    "    num_epochs_freeze_pretrained=NUM_EPOCHS_FREEZE_PRETRAINED,\n",
    "    dropout_rate=DROPOUT_RATE,\n",
    "    )"
   ]
  },
  {
   "cell_type": "code",
   "execution_count": 5,
   "metadata": {},
   "outputs": [],
   "source": [
    "callbacks = [\n",
    "    ModelCheckpoint(\n",
    "        filename='mvcnn-{epoch}-{validation/f1:.3f}',\n",
    "        monitor='validation/f1', \n",
    "        save_top_k=3,\n",
    "        verbose=True, \n",
    "        mode='max'\n",
    "        ),\n",
    "    UnfreezePretrainedWeights(LEARNING_RATE_REDUCTION_FACTOR),\n",
    "]"
   ]
  },
  {
   "cell_type": "code",
   "execution_count": 6,
   "metadata": {},
   "outputs": [
    {
     "name": "stderr",
     "output_type": "stream",
     "text": [
      "GPU available: False, used: False\n",
      "TPU available: False, using: 0 TPU cores\n"
     ]
    }
   ],
   "source": [
    "trainer = Trainer(\n",
    "    max_epochs=NUM_EPOCHS,\n",
    "    fast_dev_run=False,\n",
    "    default_root_dir=SAVE_PATH,\n",
    "    callbacks=callbacks\n",
    ")"
   ]
  },
  {
   "cell_type": "markdown",
   "metadata": {},
   "source": [
    "## Model training"
   ]
  },
  {
   "cell_type": "code",
   "execution_count": 7,
   "metadata": {},
   "outputs": [
    {
     "name": "stderr",
     "output_type": "stream",
     "text": [
      "\n",
      "  | Name                  | Type             | Params\n",
      "-----------------------------------------------------------\n",
      "0 | feature_extractor     | FeatureExtractor | 25.6 M\n",
      "1 | image_vector_creator  | Sequential       | 512 K \n",
      "2 | predictor             | Sequential       | 74.5 K\n",
      "3 | avg_metric            | AverageMeter     | 0     \n",
      "4 | eval_metric           | F1               | 0     \n",
      "5 | secondary_eval_metric | Accuracy         | 0     \n",
      "-----------------------------------------------------------\n",
      "586 K     Trainable params\n",
      "25.6 M    Non-trainable params\n",
      "26.1 M    Total params\n",
      "104.576   Total estimated model params size (MB)\n"
     ]
    },
    {
     "data": {
      "application/vnd.jupyter.widget-view+json": {
       "model_id": "bbcc58659cfe4ae996b176030c0fdf0c",
       "version_major": 2,
       "version_minor": 0
      },
      "text/plain": [
       "Validation sanity check: 0it [00:00, ?it/s]"
      ]
     },
     "metadata": {},
     "output_type": "display_data"
    },
    {
     "name": "stdout",
     "output_type": "stream",
     "text": [
      "============================================================\n",
      "Eval stats for VALIDATION\n",
      "TP per class: [1 0 0 0] Average: 0.25\n",
      "TN per class: [0 2 2 1] Average: 1.25\n",
      "FP per class: [0 0 0 1] Average: 0.25\n",
      "FN per class: [1 0 0 0] Average: 0.25\n",
      "ACCURACY per class: [0.5 1.  1.  0.5] Average: 0.75\n",
      "PRECISION per class: [1. 0. 0. 0.] Average: 0.25\n",
      "RECALL per class: [0.5 0.  0.  0. ] Average: 0.12\n",
      "F1 per class: [0.66666667 0.         0.         0.        ] Average: 0.17\n",
      "Avg Loss na validation tensor(1.2524)\n",
      "F1 - validation tensor(0.1667)\n",
      "Accuracy - validation tensor(0.7500)\n"
     ]
    },
    {
     "data": {
      "application/vnd.jupyter.widget-view+json": {
       "model_id": "cd8d33af83e744fda6ec6c9e83c8d8b9",
       "version_major": 2,
       "version_minor": 0
      },
      "text/plain": [
       "Training: 0it [00:00, ?it/s]"
      ]
     },
     "metadata": {},
     "output_type": "display_data"
    },
    {
     "name": "stdout",
     "output_type": "stream",
     "text": [
      "============================================================\n",
      "Eval stats for TRAIN\n",
      "TP per class: [52 29 25 25] Average: 32.75\n",
      "TN per class: [201 185 189 196] Average: 192.75\n",
      "FP per class: [39 55 51 44] Average: 47.25\n",
      "FN per class: [28 51 55 55] Average: 47.25\n",
      "ACCURACY per class: [0.790625 0.66875  0.66875  0.690625] Average: 0.70\n",
      "PRECISION per class: [0.57142857 0.3452381  0.32894737 0.36231884] Average: 0.40\n",
      "RECALL per class: [0.65   0.3625 0.3125 0.3125] Average: 0.41\n",
      "F1 per class: [0.60818713 0.35365854 0.32051282 0.33557047] Average: 0.40\n",
      "Avg Loss na train tensor(1.2621, grad_fn=<DivBackward0>)\n",
      "F1 - train tensor(0.4045)\n",
      "Accuracy - train tensor(0.7625)\n"
     ]
    },
    {
     "data": {
      "application/vnd.jupyter.widget-view+json": {
       "model_id": "485ec4ee96ae40fba7383e6ca9d6492f",
       "version_major": 2,
       "version_minor": 0
      },
      "text/plain": [
       "Validating: 0it [00:00, ?it/s]"
      ]
     },
     "metadata": {},
     "output_type": "display_data"
    },
    {
     "name": "stderr",
     "output_type": "stream",
     "text": [
      "Epoch 0, global step 319: validation/f1 reached 0.47904 (best 0.47904), saving model to \"../output/lightning_logs/version_3/checkpoints/mvcnn-epoch=0-validation/f1=0.479.ckpt\" as top 3\n"
     ]
    },
    {
     "name": "stdout",
     "output_type": "stream",
     "text": [
      "============================================================\n",
      "Eval stats for VALIDATION\n",
      "TP per class: [19  6 19  0] Average: 11.00\n",
      "TN per class: [58 60 27 59] Average: 51.00\n",
      "FP per class: [ 2  0 33  1] Average: 9.00\n",
      "FN per class: [ 1 14  1 20] Average: 9.00\n",
      "ACCURACY per class: [0.9625 0.825  0.575  0.7375] Average: 0.77\n",
      "PRECISION per class: [0.9047619  1.         0.36538462 0.        ] Average: 0.57\n",
      "RECALL per class: [0.95 0.3  0.95 0.  ] Average: 0.55\n",
      "F1 per class: [0.92682927 0.46153846 0.52777778 0.        ] Average: 0.48\n",
      "Avg Loss na validation tensor(0.8949)\n",
      "F1 - validation tensor(0.4790)\n",
      "Accuracy - validation tensor(0.8094)\n",
      "============================================================\n",
      "Eval stats for TRAIN\n",
      "TP per class: [75 58 54 54] Average: 60.25\n",
      "TN per class: [233 226 205 217] Average: 220.25\n",
      "FP per class: [ 7 14 35 23] Average: 19.75\n",
      "FN per class: [ 5 22 26 26] Average: 19.75\n",
      "ACCURACY per class: [0.9625   0.8875   0.809375 0.846875] Average: 0.88\n",
      "PRECISION per class: [0.91463415 0.80555556 0.60674157 0.7012987 ] Average: 0.76\n",
      "RECALL per class: [0.9375 0.725  0.675  0.675 ] Average: 0.75\n",
      "F1 per class: [0.92592593 0.76315789 0.63905325 0.68789809] Average: 0.75\n",
      "Avg Loss na train tensor(0.6355, grad_fn=<DivBackward0>)\n",
      "F1 - train tensor(0.7540)\n",
      "Accuracy - train tensor(0.8758)\n"
     ]
    },
    {
     "data": {
      "application/vnd.jupyter.widget-view+json": {
       "model_id": "bdedc3fdfe5245dda320156368c9d0e5",
       "version_major": 2,
       "version_minor": 0
      },
      "text/plain": [
       "Validating: 0it [00:00, ?it/s]"
      ]
     },
     "metadata": {},
     "output_type": "display_data"
    },
    {
     "name": "stderr",
     "output_type": "stream",
     "text": [
      "Epoch 1, global step 639: validation/f1 reached 0.65170 (best 0.65170), saving model to \"../output/lightning_logs/version_3/checkpoints/mvcnn-epoch=1-validation/f1=0.652.ckpt\" as top 3\n"
     ]
    },
    {
     "name": "stdout",
     "output_type": "stream",
     "text": [
      "============================================================\n",
      "Eval stats for VALIDATION\n",
      "TP per class: [19 13  6 15] Average: 13.25\n",
      "TN per class: [57 57 57 42] Average: 53.25\n",
      "FP per class: [ 3  3  3 18] Average: 6.75\n",
      "FN per class: [ 1  7 14  5] Average: 6.75\n",
      "ACCURACY per class: [0.95   0.875  0.7875 0.7125] Average: 0.83\n",
      "PRECISION per class: [0.86363636 0.8125     0.66666667 0.45454545] Average: 0.70\n",
      "RECALL per class: [0.95 0.65 0.3  0.75] Average: 0.66\n",
      "F1 per class: [0.9047619  0.72222222 0.4137931  0.56603774] Average: 0.65\n",
      "Avg Loss na validation tensor(1.1157)\n",
      "F1 - validation tensor(0.6517)\n",
      "Accuracy - validation tensor(0.8406)\n",
      "============================================================\n",
      "Eval stats for TRAIN\n",
      "TP per class: [79 74 69 69] Average: 72.75\n",
      "TN per class: [240 232 227 232] Average: 232.75\n",
      "FP per class: [ 0  8 13  8] Average: 7.25\n",
      "FN per class: [ 1  6 11 11] Average: 7.25\n",
      "ACCURACY per class: [0.996875 0.95625  0.925    0.940625] Average: 0.95\n",
      "PRECISION per class: [1.         0.90243902 0.84146341 0.8961039 ] Average: 0.91\n",
      "RECALL per class: [0.9875 0.925  0.8625 0.8625] Average: 0.91\n",
      "F1 per class: [0.99371069 0.91358025 0.85185185 0.87898089] Average: 0.91\n",
      "Avg Loss na train tensor(0.2737, grad_fn=<DivBackward0>)\n",
      "F1 - train tensor(0.9095)\n",
      "Accuracy - train tensor(0.9594)\n"
     ]
    },
    {
     "data": {
      "application/vnd.jupyter.widget-view+json": {
       "model_id": "3345e376ff5f4c669e753bdf0f45f9bf",
       "version_major": 2,
       "version_minor": 0
      },
      "text/plain": [
       "Validating: 0it [00:00, ?it/s]"
      ]
     },
     "metadata": {},
     "output_type": "display_data"
    },
    {
     "name": "stderr",
     "output_type": "stream",
     "text": [
      "Epoch 2, global step 959: validation/f1 reached 0.64689 (best 0.65170), saving model to \"../output/lightning_logs/version_3/checkpoints/mvcnn-epoch=2-validation/f1=0.647.ckpt\" as top 3\n"
     ]
    },
    {
     "name": "stdout",
     "output_type": "stream",
     "text": [
      "============================================================\n",
      "Eval stats for VALIDATION\n",
      "TP per class: [19 15 15  5] Average: 13.50\n",
      "TN per class: [51 56 51 56] Average: 53.50\n",
      "FP per class: [9 4 9 4] Average: 6.50\n",
      "FN per class: [ 1  5  5 15] Average: 6.50\n",
      "ACCURACY per class: [0.875  0.8875 0.825  0.7625] Average: 0.84\n",
      "PRECISION per class: [0.67857143 0.78947368 0.625      0.55555556] Average: 0.66\n",
      "RECALL per class: [0.95 0.75 0.75 0.25] Average: 0.68\n",
      "F1 per class: [0.79166667 0.76923077 0.68181818 0.34482759] Average: 0.65\n",
      "Avg Loss na validation tensor(1.1950)\n",
      "F1 - validation tensor(0.6469)\n",
      "Accuracy - validation tensor(0.8375)\n",
      "============================================================\n",
      "Eval stats for TRAIN\n",
      "TP per class: [79 76 76 67] Average: 74.50\n",
      "TN per class: [239 235 231 233] Average: 234.50\n",
      "FP per class: [1 5 9 7] Average: 5.50\n",
      "FN per class: [ 1  4  4 13] Average: 5.50\n",
      "ACCURACY per class: [0.99375  0.971875 0.959375 0.9375  ] Average: 0.97\n",
      "PRECISION per class: [0.9875     0.9382716  0.89411765 0.90540541] Average: 0.93\n",
      "RECALL per class: [0.9875 0.95   0.95   0.8375] Average: 0.93\n",
      "F1 per class: [0.9875     0.94409938 0.92121212 0.87012987] Average: 0.93\n",
      "Avg Loss na train tensor(0.2056, grad_fn=<DivBackward0>)\n",
      "F1 - train tensor(0.9307)\n",
      "Accuracy - train tensor(0.9648)\n"
     ]
    },
    {
     "data": {
      "application/vnd.jupyter.widget-view+json": {
       "model_id": "55ee228c6fbb4226bd13464234ad2e41",
       "version_major": 2,
       "version_minor": 0
      },
      "text/plain": [
       "Validating: 0it [00:00, ?it/s]"
      ]
     },
     "metadata": {},
     "output_type": "display_data"
    },
    {
     "name": "stderr",
     "output_type": "stream",
     "text": [
      "Epoch 3, global step 1279: validation/f1 reached 0.66060 (best 0.66060), saving model to \"../output/lightning_logs/version_3/checkpoints/mvcnn-epoch=3-validation/f1=0.661.ckpt\" as top 3\n"
     ]
    },
    {
     "name": "stdout",
     "output_type": "stream",
     "text": [
      "============================================================\n",
      "Eval stats for VALIDATION\n",
      "TP per class: [19 16  9 10] Average: 13.50\n",
      "TN per class: [51 54 57 52] Average: 53.50\n",
      "FP per class: [9 6 3 8] Average: 6.50\n",
      "FN per class: [ 1  4 11 10] Average: 6.50\n",
      "ACCURACY per class: [0.875 0.875 0.825 0.775] Average: 0.84\n",
      "PRECISION per class: [0.67857143 0.72727273 0.75       0.55555556] Average: 0.68\n",
      "RECALL per class: [0.95 0.8  0.45 0.5 ] Average: 0.68\n",
      "F1 per class: [0.79166667 0.76190476 0.5625     0.52631579] Average: 0.66\n",
      "Avg Loss na validation tensor(1.2167)\n",
      "F1 - validation tensor(0.6606)\n",
      "Accuracy - validation tensor(0.8406)\n",
      "============================================================\n",
      "Eval stats for TRAIN\n",
      "TP per class: [80 76 75 77] Average: 77.00\n",
      "TN per class: [240 235 237 236] Average: 237.00\n",
      "FP per class: [0 5 3 4] Average: 3.00\n",
      "FN per class: [0 4 5 3] Average: 3.00\n",
      "ACCURACY per class: [1.       0.971875 0.975    0.978125] Average: 0.98\n",
      "PRECISION per class: [1.         0.9382716  0.96153846 0.95061728] Average: 0.96\n",
      "RECALL per class: [1.     0.95   0.9375 0.9625] Average: 0.96\n",
      "F1 per class: [1.         0.94409938 0.94936709 0.95652174] Average: 0.96\n",
      "Avg Loss na train tensor(0.1171, grad_fn=<DivBackward0>)\n",
      "F1 - train tensor(0.9625)\n",
      "Accuracy - train tensor(0.9828)\n"
     ]
    },
    {
     "data": {
      "application/vnd.jupyter.widget-view+json": {
       "model_id": "50f1373b30014b40abeff2900a0b5613",
       "version_major": 2,
       "version_minor": 0
      },
      "text/plain": [
       "Validating: 0it [00:00, ?it/s]"
      ]
     },
     "metadata": {},
     "output_type": "display_data"
    },
    {
     "name": "stderr",
     "output_type": "stream",
     "text": [
      "Epoch 4, global step 1599: validation/f1 reached 0.66880 (best 0.66880), saving model to \"../output/lightning_logs/version_3/checkpoints/mvcnn-epoch=4-validation/f1=0.669.ckpt\" as top 3\n"
     ]
    },
    {
     "name": "stdout",
     "output_type": "stream",
     "text": [
      "============================================================\n",
      "Eval stats for VALIDATION\n",
      "TP per class: [19 15 13  7] Average: 13.50\n",
      "TN per class: [47 59 57 51] Average: 53.50\n",
      "FP per class: [13  1  3  9] Average: 6.50\n",
      "FN per class: [ 1  5  7 13] Average: 6.50\n",
      "ACCURACY per class: [0.825 0.925 0.875 0.725] Average: 0.84\n",
      "PRECISION per class: [0.59375 0.9375  0.8125  0.4375 ] Average: 0.70\n",
      "RECALL per class: [0.95 0.75 0.65 0.35] Average: 0.68\n",
      "F1 per class: [0.73076923 0.83333333 0.72222222 0.38888889] Average: 0.67\n",
      "Avg Loss na validation tensor(1.9469)\n",
      "F1 - validation tensor(0.6688)\n",
      "Accuracy - validation tensor(0.8438)\n",
      "============================================================\n",
      "Eval stats for TRAIN\n",
      "TP per class: [80 76 79 77] Average: 78.00\n",
      "TN per class: [239 238 237 238] Average: 238.00\n",
      "FP per class: [1 2 3 2] Average: 2.00\n",
      "FN per class: [0 4 1 3] Average: 2.00\n",
      "ACCURACY per class: [0.996875 0.98125  0.9875   0.984375] Average: 0.99\n",
      "PRECISION per class: [0.98765432 0.97435897 0.96341463 0.97468354] Average: 0.98\n",
      "RECALL per class: [1.     0.95   0.9875 0.9625] Average: 0.97\n",
      "F1 per class: [0.99378882 0.96202532 0.97530864 0.96855346] Average: 0.97\n",
      "Avg Loss na train tensor(0.0795, grad_fn=<DivBackward0>)\n",
      "F1 - train tensor(0.9749)\n",
      "Accuracy - train tensor(0.9875)\n"
     ]
    },
    {
     "data": {
      "application/vnd.jupyter.widget-view+json": {
       "model_id": "6b2dfad6e10546828253cc9779812444",
       "version_major": 2,
       "version_minor": 0
      },
      "text/plain": [
       "Validating: 0it [00:00, ?it/s]"
      ]
     },
     "metadata": {},
     "output_type": "display_data"
    },
    {
     "name": "stderr",
     "output_type": "stream",
     "text": [
      "Epoch 5, global step 1919: validation/f1 reached 0.72021 (best 0.72021), saving model to \"../output/lightning_logs/version_3/checkpoints/mvcnn-epoch=5-validation/f1=0.720.ckpt\" as top 3\n"
     ]
    },
    {
     "name": "stdout",
     "output_type": "stream",
     "text": [
      "============================================================\n",
      "Eval stats for VALIDATION\n",
      "TP per class: [19  9 13 17] Average: 14.50\n",
      "TN per class: [58 60 54 46] Average: 54.50\n",
      "FP per class: [ 2  0  6 14] Average: 5.50\n",
      "FN per class: [ 1 11  7  3] Average: 5.50\n",
      "ACCURACY per class: [0.9625 0.8625 0.8375 0.7875] Average: 0.86\n",
      "PRECISION per class: [0.9047619  1.         0.68421053 0.5483871 ] Average: 0.78\n",
      "RECALL per class: [0.95 0.45 0.65 0.85] Average: 0.72\n",
      "F1 per class: [0.92682927 0.62068966 0.66666667 0.66666667] Average: 0.72\n",
      "Avg Loss na validation tensor(2.2451)\n",
      "F1 - validation tensor(0.7202)\n",
      "Accuracy - validation tensor(0.8594)\n",
      "============================================================\n",
      "Eval stats for TRAIN\n",
      "TP per class: [78 78 76 76] Average: 77.00\n",
      "TN per class: [239 239 235 235] Average: 237.00\n",
      "FP per class: [1 1 5 5] Average: 3.00\n",
      "FN per class: [2 2 4 4] Average: 3.00\n",
      "ACCURACY per class: [0.990625 0.990625 0.971875 0.971875] Average: 0.98\n",
      "PRECISION per class: [0.98734177 0.98734177 0.9382716  0.9382716 ] Average: 0.96\n",
      "RECALL per class: [0.975 0.975 0.95  0.95 ] Average: 0.96\n",
      "F1 per class: [0.98113208 0.98113208 0.94409938 0.94409938] Average: 0.96\n",
      "Avg Loss na train tensor(0.1216, grad_fn=<DivBackward0>)\n",
      "F1 - train tensor(0.9626)\n",
      "Accuracy - train tensor(0.9797)\n"
     ]
    },
    {
     "data": {
      "application/vnd.jupyter.widget-view+json": {
       "model_id": "1dce8178cd434edcace8b55671b5ee3d",
       "version_major": 2,
       "version_minor": 0
      },
      "text/plain": [
       "Validating: 0it [00:00, ?it/s]"
      ]
     },
     "metadata": {},
     "output_type": "display_data"
    },
    {
     "name": "stderr",
     "output_type": "stream",
     "text": [
      "Epoch 6, global step 2239: validation/f1 was not in top 3\n"
     ]
    },
    {
     "name": "stdout",
     "output_type": "stream",
     "text": [
      "============================================================\n",
      "Eval stats for VALIDATION\n",
      "TP per class: [19 12  3 17] Average: 12.75\n",
      "TN per class: [56 57 59 39] Average: 52.75\n",
      "FP per class: [ 4  3  1 21] Average: 7.25\n",
      "FN per class: [ 1  8 17  3] Average: 7.25\n",
      "ACCURACY per class: [0.9375 0.8625 0.775  0.7   ] Average: 0.82\n",
      "PRECISION per class: [0.82608696 0.8        0.75       0.44736842] Average: 0.71\n",
      "RECALL per class: [0.95 0.6  0.15 0.85] Average: 0.64\n",
      "F1 per class: [0.88372093 0.68571429 0.25       0.5862069 ] Average: 0.60\n",
      "Avg Loss na validation tensor(2.8531)\n",
      "F1 - validation tensor(0.6014)\n",
      "Accuracy - validation tensor(0.8219)\n",
      "============================================================\n",
      "Eval stats for TRAIN\n",
      "TP per class: [78 78 76 77] Average: 77.25\n",
      "TN per class: [237 238 237 237] Average: 237.25\n",
      "FP per class: [3 2 3 3] Average: 2.75\n",
      "FN per class: [2 2 4 3] Average: 2.75\n",
      "ACCURACY per class: [0.984375 0.9875   0.978125 0.98125 ] Average: 0.98\n",
      "PRECISION per class: [0.96296296 0.975      0.96202532 0.9625    ] Average: 0.97\n",
      "RECALL per class: [0.975  0.975  0.95   0.9625] Average: 0.97\n",
      "F1 per class: [0.9689441  0.975      0.95597484 0.9625    ] Average: 0.97\n",
      "Avg Loss na train tensor(0.1153, grad_fn=<DivBackward0>)\n",
      "F1 - train tensor(0.9656)\n",
      "Accuracy - train tensor(0.9828)\n"
     ]
    },
    {
     "data": {
      "application/vnd.jupyter.widget-view+json": {
       "model_id": "8940f1b90cf249ecbf1ec4ddb2031c5e",
       "version_major": 2,
       "version_minor": 0
      },
      "text/plain": [
       "Validating: 0it [00:00, ?it/s]"
      ]
     },
     "metadata": {},
     "output_type": "display_data"
    },
    {
     "name": "stderr",
     "output_type": "stream",
     "text": [
      "Epoch 7, global step 2559: validation/f1 was not in top 3\n"
     ]
    },
    {
     "name": "stdout",
     "output_type": "stream",
     "text": [
      "============================================================\n",
      "Eval stats for VALIDATION\n",
      "TP per class: [18  8 19  4] Average: 12.25\n",
      "TN per class: [55 59 37 58] Average: 52.25\n",
      "FP per class: [ 5  1 23  2] Average: 7.75\n",
      "FN per class: [ 2 12  1 16] Average: 7.75\n",
      "ACCURACY per class: [0.9125 0.8375 0.7    0.775 ] Average: 0.81\n",
      "PRECISION per class: [0.7826087  0.88888889 0.45238095 0.66666667] Average: 0.70\n",
      "RECALL per class: [0.9  0.4  0.95 0.2 ] Average: 0.61\n",
      "F1 per class: [0.8372093  0.55172414 0.61290323 0.30769231] Average: 0.58\n",
      "Avg Loss na validation tensor(3.0789)\n",
      "F1 - validation tensor(0.5774)\n",
      "Accuracy - validation tensor(0.8062)\n",
      "============================================================\n",
      "Eval stats for TRAIN\n",
      "TP per class: [80 78 76 76] Average: 77.50\n",
      "TN per class: [240 239 234 237] Average: 237.50\n",
      "FP per class: [0 1 6 3] Average: 2.50\n",
      "FN per class: [0 2 4 4] Average: 2.50\n",
      "ACCURACY per class: [1.       0.990625 0.96875  0.978125] Average: 0.98\n",
      "PRECISION per class: [1.         0.98734177 0.92682927 0.96202532] Average: 0.97\n",
      "RECALL per class: [1.    0.975 0.95  0.95 ] Average: 0.97\n",
      "F1 per class: [1.         0.98113208 0.9382716  0.95597484] Average: 0.97\n",
      "Avg Loss na train tensor(0.1087, grad_fn=<DivBackward0>)\n",
      "F1 - train tensor(0.9688)\n",
      "Accuracy - train tensor(0.9828)\n"
     ]
    },
    {
     "data": {
      "application/vnd.jupyter.widget-view+json": {
       "model_id": "ee78d03fbaea4fb7a95af8f18f1ab0fc",
       "version_major": 2,
       "version_minor": 0
      },
      "text/plain": [
       "Validating: 0it [00:00, ?it/s]"
      ]
     },
     "metadata": {},
     "output_type": "display_data"
    },
    {
     "name": "stderr",
     "output_type": "stream",
     "text": [
      "Epoch 8, global step 2879: validation/f1 reached 0.78905 (best 0.78905), saving model to \"../output/lightning_logs/version_3/checkpoints/mvcnn-epoch=8-validation/f1=0.789.ckpt\" as top 3\n"
     ]
    },
    {
     "name": "stdout",
     "output_type": "stream",
     "text": [
      "============================================================\n",
      "Eval stats for VALIDATION\n",
      "TP per class: [19 14 15 15] Average: 15.75\n",
      "TN per class: [58 59 54 52] Average: 55.75\n",
      "FP per class: [2 1 6 8] Average: 4.25\n",
      "FN per class: [1 6 5 5] Average: 4.25\n",
      "ACCURACY per class: [0.9625 0.9125 0.8625 0.8375] Average: 0.89\n",
      "PRECISION per class: [0.9047619  0.93333333 0.71428571 0.65217391] Average: 0.80\n",
      "RECALL per class: [0.95 0.7  0.75 0.75] Average: 0.79\n",
      "F1 per class: [0.92682927 0.8        0.73170732 0.69767442] Average: 0.79\n",
      "Avg Loss na validation tensor(1.5293)\n",
      "F1 - validation tensor(0.7891)\n",
      "Accuracy - validation tensor(0.8969)\n",
      "============================================================\n",
      "Eval stats for TRAIN\n",
      "TP per class: [80 79 79 80] Average: 79.50\n",
      "TN per class: [240 239 239 240] Average: 239.50\n",
      "FP per class: [0 1 1 0] Average: 0.50\n",
      "FN per class: [0 1 1 0] Average: 0.50\n",
      "ACCURACY per class: [1.      0.99375 0.99375 1.     ] Average: 1.00\n",
      "PRECISION per class: [1.     0.9875 0.9875 1.    ] Average: 0.99\n",
      "RECALL per class: [1.     0.9875 0.9875 1.    ] Average: 0.99\n",
      "F1 per class: [1.     0.9875 0.9875 1.    ] Average: 0.99\n",
      "Avg Loss na train tensor(0.0223, grad_fn=<DivBackward0>)\n",
      "F1 - train tensor(0.9937)\n",
      "Accuracy - train tensor(0.9961)\n"
     ]
    },
    {
     "data": {
      "application/vnd.jupyter.widget-view+json": {
       "model_id": "c7743d837bfd4bca8fe696e0dae0adf4",
       "version_major": 2,
       "version_minor": 0
      },
      "text/plain": [
       "Validating: 0it [00:00, ?it/s]"
      ]
     },
     "metadata": {},
     "output_type": "display_data"
    },
    {
     "name": "stderr",
     "output_type": "stream",
     "text": [
      "Epoch 9, global step 3199: validation/f1 reached 0.83598 (best 0.83598), saving model to \"../output/lightning_logs/version_3/checkpoints/mvcnn-epoch=9-validation/f1=0.836.ckpt\" as top 3\n"
     ]
    },
    {
     "name": "stdout",
     "output_type": "stream",
     "text": [
      "============================================================\n",
      "Eval stats for VALIDATION\n",
      "TP per class: [18 17 18 14] Average: 16.75\n",
      "TN per class: [55 58 56 58] Average: 56.75\n",
      "FP per class: [5 2 4 2] Average: 3.25\n",
      "FN per class: [2 3 2 6] Average: 3.25\n",
      "ACCURACY per class: [0.9125 0.9375 0.925  0.9   ] Average: 0.92\n",
      "PRECISION per class: [0.7826087  0.89473684 0.81818182 0.875     ] Average: 0.84\n",
      "RECALL per class: [0.9  0.85 0.9  0.7 ] Average: 0.84\n",
      "F1 per class: [0.8372093  0.87179487 0.85714286 0.77777778] Average: 0.84\n",
      "Avg Loss na validation tensor(1.1002)\n",
      "F1 - validation tensor(0.8360)\n",
      "Accuracy - validation tensor(0.9187)\n",
      "============================================================\n",
      "Eval stats for TRAIN\n",
      "TP per class: [80 80 79 79] Average: 79.50\n",
      "TN per class: [240 240 239 239] Average: 239.50\n",
      "FP per class: [0 0 1 1] Average: 0.50\n",
      "FN per class: [0 0 1 1] Average: 0.50\n",
      "ACCURACY per class: [1.      1.      0.99375 0.99375] Average: 1.00\n",
      "PRECISION per class: [1.     1.     0.9875 0.9875] Average: 0.99\n",
      "RECALL per class: [1.     1.     0.9875 0.9875] Average: 0.99\n",
      "F1 per class: [1.     1.     0.9875 0.9875] Average: 0.99\n",
      "Avg Loss na train tensor(0.0192, grad_fn=<DivBackward0>)\n",
      "F1 - train tensor(0.9937)\n",
      "Accuracy - train tensor(0.9969)\n"
     ]
    },
    {
     "data": {
      "application/vnd.jupyter.widget-view+json": {
       "model_id": "5767bbb6904448a29b8b0761df271073",
       "version_major": 2,
       "version_minor": 0
      },
      "text/plain": [
       "Validating: 0it [00:00, ?it/s]"
      ]
     },
     "metadata": {},
     "output_type": "display_data"
    },
    {
     "name": "stderr",
     "output_type": "stream",
     "text": [
      "Epoch 10, global step 3519: validation/f1 was not in top 3\n"
     ]
    },
    {
     "name": "stdout",
     "output_type": "stream",
     "text": [
      "============================================================\n",
      "Eval stats for VALIDATION\n",
      "TP per class: [19 12 18  8] Average: 14.25\n",
      "TN per class: [52 59 49 57] Average: 54.25\n",
      "FP per class: [ 8  1 11  3] Average: 5.75\n",
      "FN per class: [ 1  8  2 12] Average: 5.75\n",
      "ACCURACY per class: [0.8875 0.8875 0.8375 0.8125] Average: 0.86\n",
      "PRECISION per class: [0.7037037  0.92307692 0.62068966 0.72727273] Average: 0.74\n",
      "RECALL per class: [0.95 0.6  0.9  0.4 ] Average: 0.71\n",
      "F1 per class: [0.80851064 0.72727273 0.73469388 0.51612903] Average: 0.70\n",
      "Avg Loss na validation tensor(2.4817)\n",
      "F1 - validation tensor(0.6967)\n",
      "Accuracy - validation tensor(0.8531)\n",
      "============================================================\n",
      "Eval stats for TRAIN\n",
      "TP per class: [80 76 76 79] Average: 77.75\n",
      "TN per class: [239 237 238 237] Average: 237.75\n",
      "FP per class: [1 3 2 3] Average: 2.25\n",
      "FN per class: [0 4 4 1] Average: 2.25\n",
      "ACCURACY per class: [0.996875 0.978125 0.98125  0.9875  ] Average: 0.99\n",
      "PRECISION per class: [0.98765432 0.96202532 0.97435897 0.96341463] Average: 0.97\n",
      "RECALL per class: [1.     0.95   0.95   0.9875] Average: 0.97\n",
      "F1 per class: [0.99378882 0.95597484 0.96202532 0.97530864] Average: 0.97\n",
      "Avg Loss na train tensor(0.0792, grad_fn=<DivBackward0>)\n",
      "F1 - train tensor(0.9718)\n",
      "Accuracy - train tensor(0.9867)\n"
     ]
    },
    {
     "data": {
      "application/vnd.jupyter.widget-view+json": {
       "model_id": "5f535f2ab0e44bbd8a212a5fe8849fb6",
       "version_major": 2,
       "version_minor": 0
      },
      "text/plain": [
       "Validating: 0it [00:00, ?it/s]"
      ]
     },
     "metadata": {},
     "output_type": "display_data"
    },
    {
     "name": "stderr",
     "output_type": "stream",
     "text": [
      "Epoch 11, global step 3839: validation/f1 reached 0.76095 (best 0.83598), saving model to \"../output/lightning_logs/version_3/checkpoints/mvcnn-epoch=11-validation/f1=0.761.ckpt\" as top 3\n"
     ]
    },
    {
     "name": "stdout",
     "output_type": "stream",
     "text": [
      "============================================================\n",
      "Eval stats for VALIDATION\n",
      "TP per class: [18 17 14 12] Average: 15.25\n",
      "TN per class: [57 52 53 59] Average: 55.25\n",
      "FP per class: [3 8 7 1] Average: 4.75\n",
      "FN per class: [2 3 6 8] Average: 4.75\n",
      "ACCURACY per class: [0.9375 0.8625 0.8375 0.8875] Average: 0.88\n",
      "PRECISION per class: [0.85714286 0.68       0.66666667 0.92307692] Average: 0.78\n",
      "RECALL per class: [0.9  0.85 0.7  0.6 ] Average: 0.76\n",
      "F1 per class: [0.87804878 0.75555556 0.68292683 0.72727273] Average: 0.76\n",
      "Avg Loss na validation tensor(1.5568)\n",
      "F1 - validation tensor(0.7610)\n",
      "Accuracy - validation tensor(0.8813)\n",
      "============================================================\n",
      "Eval stats for TRAIN\n",
      "TP per class: [80 79 80 79] Average: 79.50\n",
      "TN per class: [240 239 240 239] Average: 239.50\n",
      "FP per class: [0 1 0 1] Average: 0.50\n",
      "FN per class: [0 1 0 1] Average: 0.50\n",
      "ACCURACY per class: [1.      0.99375 1.      0.99375] Average: 1.00\n",
      "PRECISION per class: [1.     0.9875 1.     0.9875] Average: 0.99\n",
      "RECALL per class: [1.     0.9875 1.     0.9875] Average: 0.99\n",
      "F1 per class: [1.     0.9875 1.     0.9875] Average: 0.99\n",
      "Avg Loss na train tensor(0.0489, grad_fn=<DivBackward0>)\n",
      "F1 - train tensor(0.9937)\n",
      "Accuracy - train tensor(0.9961)\n"
     ]
    },
    {
     "data": {
      "application/vnd.jupyter.widget-view+json": {
       "model_id": "f11bb30ed9c6415fa74a0d7203bda329",
       "version_major": 2,
       "version_minor": 0
      },
      "text/plain": [
       "Validating: 0it [00:00, ?it/s]"
      ]
     },
     "metadata": {},
     "output_type": "display_data"
    },
    {
     "name": "stderr",
     "output_type": "stream",
     "text": [
      "Epoch 12, global step 4159: validation/f1 was not in top 3\n"
     ]
    },
    {
     "name": "stdout",
     "output_type": "stream",
     "text": [
      "============================================================\n",
      "Eval stats for VALIDATION\n",
      "TP per class: [16 10 18  5] Average: 12.25\n",
      "TN per class: [53 60 38 58] Average: 52.25\n",
      "FP per class: [ 7  0 22  2] Average: 7.75\n",
      "FN per class: [ 4 10  2 15] Average: 7.75\n",
      "ACCURACY per class: [0.8625 0.875  0.7    0.7875] Average: 0.81\n",
      "PRECISION per class: [0.69565217 1.         0.45       0.71428571] Average: 0.71\n",
      "RECALL per class: [0.8  0.5  0.9  0.25] Average: 0.61\n",
      "F1 per class: [0.74418605 0.66666667 0.6        0.37037037] Average: 0.60\n",
      "Avg Loss na validation tensor(3.4831)\n",
      "F1 - validation tensor(0.5953)\n",
      "Accuracy - validation tensor(0.8062)\n",
      "============================================================\n",
      "Eval stats for TRAIN\n",
      "TP per class: [80 79 80 79] Average: 79.50\n",
      "TN per class: [240 240 238 240] Average: 239.50\n",
      "FP per class: [0 0 2 0] Average: 0.50\n",
      "FN per class: [0 1 0 1] Average: 0.50\n",
      "ACCURACY per class: [1.       0.996875 0.99375  0.996875] Average: 1.00\n",
      "PRECISION per class: [1.         1.         0.97560976 1.        ] Average: 0.99\n",
      "RECALL per class: [1.     0.9875 1.     0.9875] Average: 0.99\n",
      "F1 per class: [1.         0.99371069 0.98765432 0.99371069] Average: 0.99\n",
      "Avg Loss na train tensor(0.0277, grad_fn=<DivBackward0>)\n",
      "F1 - train tensor(0.9938)\n",
      "Accuracy - train tensor(0.9969)\n"
     ]
    },
    {
     "data": {
      "application/vnd.jupyter.widget-view+json": {
       "model_id": "6cc48448726a407ba0c1840b2f2f9eee",
       "version_major": 2,
       "version_minor": 0
      },
      "text/plain": [
       "Validating: 0it [00:00, ?it/s]"
      ]
     },
     "metadata": {},
     "output_type": "display_data"
    },
    {
     "name": "stderr",
     "output_type": "stream",
     "text": [
      "Epoch 13, global step 4479: validation/f1 was not in top 3\n"
     ]
    },
    {
     "name": "stdout",
     "output_type": "stream",
     "text": [
      "============================================================\n",
      "Eval stats for VALIDATION\n",
      "TP per class: [19 16  9 14] Average: 14.50\n",
      "TN per class: [54 57 57 50] Average: 54.50\n",
      "FP per class: [ 6  3  3 10] Average: 5.50\n",
      "FN per class: [ 1  4 11  6] Average: 5.50\n",
      "ACCURACY per class: [0.9125 0.9125 0.825  0.8   ] Average: 0.86\n",
      "PRECISION per class: [0.76       0.84210526 0.75       0.58333333] Average: 0.73\n",
      "RECALL per class: [0.95 0.8  0.45 0.7 ] Average: 0.73\n",
      "F1 per class: [0.84444444 0.82051282 0.5625     0.63636364] Average: 0.72\n",
      "Avg Loss na validation tensor(1.7444)\n",
      "F1 - validation tensor(0.7160)\n",
      "Accuracy - validation tensor(0.8656)\n",
      "============================================================\n",
      "Eval stats for TRAIN\n",
      "TP per class: [80 80 80 80] Average: 80.00\n",
      "TN per class: [240 240 240 240] Average: 240.00\n",
      "FP per class: [0 0 0 0] Average: 0.00\n",
      "FN per class: [0 0 0 0] Average: 0.00\n",
      "ACCURACY per class: [1. 1. 1. 1.] Average: 1.00\n",
      "PRECISION per class: [1. 1. 1. 1.] Average: 1.00\n",
      "RECALL per class: [1. 1. 1. 1.] Average: 1.00\n",
      "F1 per class: [1. 1. 1. 1.] Average: 1.00\n",
      "Avg Loss na train tensor(0.0069, grad_fn=<DivBackward0>)\n",
      "F1 - train tensor(1.)\n",
      "Accuracy - train tensor(1.)\n"
     ]
    },
    {
     "data": {
      "application/vnd.jupyter.widget-view+json": {
       "model_id": "94a19e92d82948c985be41a0396609f5",
       "version_major": 2,
       "version_minor": 0
      },
      "text/plain": [
       "Validating: 0it [00:00, ?it/s]"
      ]
     },
     "metadata": {},
     "output_type": "display_data"
    },
    {
     "name": "stderr",
     "output_type": "stream",
     "text": [
      "Epoch 14, global step 4799: validation/f1 was not in top 3\n"
     ]
    },
    {
     "name": "stdout",
     "output_type": "stream",
     "text": [
      "============================================================\n",
      "Eval stats for VALIDATION\n",
      "TP per class: [19 16 14  9] Average: 14.50\n",
      "TN per class: [54 58 53 53] Average: 54.50\n",
      "FP per class: [6 2 7 7] Average: 5.50\n",
      "FN per class: [ 1  4  6 11] Average: 5.50\n",
      "ACCURACY per class: [0.9125 0.925  0.8375 0.775 ] Average: 0.86\n",
      "PRECISION per class: [0.76       0.88888889 0.66666667 0.5625    ] Average: 0.72\n",
      "RECALL per class: [0.95 0.8  0.7  0.45] Average: 0.73\n",
      "F1 per class: [0.84444444 0.84210526 0.68292683 0.5       ] Average: 0.72\n",
      "Avg Loss na validation tensor(2.2390)\n",
      "F1 - validation tensor(0.7174)\n",
      "Accuracy - validation tensor(0.8656)\n",
      "============================================================\n",
      "Eval stats for TRAIN\n",
      "TP per class: [80 80 80 80] Average: 80.00\n",
      "TN per class: [240 240 240 240] Average: 240.00\n",
      "FP per class: [0 0 0 0] Average: 0.00\n",
      "FN per class: [0 0 0 0] Average: 0.00\n",
      "ACCURACY per class: [1. 1. 1. 1.] Average: 1.00\n",
      "PRECISION per class: [1. 1. 1. 1.] Average: 1.00\n",
      "RECALL per class: [1. 1. 1. 1.] Average: 1.00\n",
      "F1 per class: [1. 1. 1. 1.] Average: 1.00\n",
      "Avg Loss na train tensor(0.0037, grad_fn=<DivBackward0>)\n",
      "F1 - train tensor(1.)\n",
      "Accuracy - train tensor(1.)\n"
     ]
    },
    {
     "data": {
      "application/vnd.jupyter.widget-view+json": {
       "model_id": "978cc74dfc954bfa9bceeac546a4207f",
       "version_major": 2,
       "version_minor": 0
      },
      "text/plain": [
       "Validating: 0it [00:00, ?it/s]"
      ]
     },
     "metadata": {},
     "output_type": "display_data"
    },
    {
     "name": "stderr",
     "output_type": "stream",
     "text": [
      "Epoch 15, global step 5119: validation/f1 was not in top 3\n"
     ]
    },
    {
     "name": "stdout",
     "output_type": "stream",
     "text": [
      "============================================================\n",
      "Eval stats for VALIDATION\n",
      "TP per class: [20 15 12 14] Average: 15.25\n",
      "TN per class: [51 59 57 54] Average: 55.25\n",
      "FP per class: [9 1 3 6] Average: 4.75\n",
      "FN per class: [0 5 8 6] Average: 4.75\n",
      "ACCURACY per class: [0.8875 0.925  0.8625 0.85  ] Average: 0.88\n",
      "PRECISION per class: [0.68965517 0.9375     0.8        0.7       ] Average: 0.78\n",
      "RECALL per class: [1.   0.75 0.6  0.7 ] Average: 0.76\n",
      "F1 per class: [0.81632653 0.83333333 0.68571429 0.7       ] Average: 0.76\n",
      "Avg Loss na validation tensor(2.1315)\n",
      "F1 - validation tensor(0.7588)\n",
      "Accuracy - validation tensor(0.8813)\n",
      "============================================================\n",
      "Eval stats for TRAIN\n",
      "TP per class: [80 80 80 80] Average: 80.00\n",
      "TN per class: [240 240 240 240] Average: 240.00\n",
      "FP per class: [0 0 0 0] Average: 0.00\n",
      "FN per class: [0 0 0 0] Average: 0.00\n",
      "ACCURACY per class: [1. 1. 1. 1.] Average: 1.00\n",
      "PRECISION per class: [1. 1. 1. 1.] Average: 1.00\n",
      "RECALL per class: [1. 1. 1. 1.] Average: 1.00\n",
      "F1 per class: [1. 1. 1. 1.] Average: 1.00\n",
      "Avg Loss na train tensor(0.0020, grad_fn=<DivBackward0>)\n",
      "F1 - train tensor(1.)\n",
      "Accuracy - train tensor(1.)\n"
     ]
    },
    {
     "data": {
      "application/vnd.jupyter.widget-view+json": {
       "model_id": "6096df42a3314e8189d38830bdc2d708",
       "version_major": 2,
       "version_minor": 0
      },
      "text/plain": [
       "Validating: 0it [00:00, ?it/s]"
      ]
     },
     "metadata": {},
     "output_type": "display_data"
    },
    {
     "name": "stderr",
     "output_type": "stream",
     "text": [
      "Epoch 16, global step 5439: validation/f1 was not in top 3\n"
     ]
    },
    {
     "name": "stdout",
     "output_type": "stream",
     "text": [
      "============================================================\n",
      "Eval stats for VALIDATION\n",
      "TP per class: [19 12 12 18] Average: 15.25\n",
      "TN per class: [57 60 54 50] Average: 55.25\n",
      "FP per class: [ 3  0  6 10] Average: 4.75\n",
      "FN per class: [1 8 8 2] Average: 4.75\n",
      "ACCURACY per class: [0.95  0.9   0.825 0.85 ] Average: 0.88\n",
      "PRECISION per class: [0.86363636 1.         0.66666667 0.64285714] Average: 0.79\n",
      "RECALL per class: [0.95 0.6  0.6  0.9 ] Average: 0.76\n",
      "F1 per class: [0.9047619  0.75       0.63157895 0.75      ] Average: 0.76\n",
      "Avg Loss na validation tensor(2.3507)\n",
      "F1 - validation tensor(0.7591)\n",
      "Accuracy - validation tensor(0.8813)\n",
      "============================================================\n",
      "Eval stats for TRAIN\n",
      "TP per class: [79 77 78 75] Average: 77.25\n",
      "TN per class: [238 236 239 236] Average: 237.25\n",
      "FP per class: [2 4 1 4] Average: 2.75\n",
      "FN per class: [1 3 2 5] Average: 2.75\n",
      "ACCURACY per class: [0.990625 0.978125 0.990625 0.971875] Average: 0.98\n",
      "PRECISION per class: [0.97530864 0.95061728 0.98734177 0.94936709] Average: 0.97\n",
      "RECALL per class: [0.9875 0.9625 0.975  0.9375] Average: 0.97\n",
      "F1 per class: [0.98136646 0.95652174 0.98113208 0.94339623] Average: 0.97\n",
      "Avg Loss na train tensor(0.0959, grad_fn=<DivBackward0>)\n",
      "F1 - train tensor(0.9656)\n",
      "Accuracy - train tensor(0.9836)\n"
     ]
    },
    {
     "data": {
      "application/vnd.jupyter.widget-view+json": {
       "model_id": "463f606b5a1045e5b3f85bdbad817435",
       "version_major": 2,
       "version_minor": 0
      },
      "text/plain": [
       "Validating: 0it [00:00, ?it/s]"
      ]
     },
     "metadata": {},
     "output_type": "display_data"
    },
    {
     "name": "stderr",
     "output_type": "stream",
     "text": [
      "Epoch 17, global step 5759: validation/f1 reached 0.81283 (best 0.83598), saving model to \"../output/lightning_logs/version_3/checkpoints/mvcnn-epoch=17-validation/f1=0.813.ckpt\" as top 3\n"
     ]
    },
    {
     "name": "stdout",
     "output_type": "stream",
     "text": [
      "============================================================\n",
      "Eval stats for VALIDATION\n",
      "TP per class: [18 13 17 17] Average: 16.25\n",
      "TN per class: [58 60 53 54] Average: 56.25\n",
      "FP per class: [2 0 7 6] Average: 3.75\n",
      "FN per class: [2 7 3 3] Average: 3.75\n",
      "ACCURACY per class: [0.95   0.9125 0.875  0.8875] Average: 0.91\n",
      "PRECISION per class: [0.9        1.         0.70833333 0.73913043] Average: 0.84\n",
      "RECALL per class: [0.9  0.65 0.85 0.85] Average: 0.81\n",
      "F1 per class: [0.9        0.78787879 0.77272727 0.79069767] Average: 0.81\n",
      "Avg Loss na validation tensor(1.6320)\n",
      "F1 - validation tensor(0.8128)\n",
      "Accuracy - validation tensor(0.9031)\n",
      "============================================================\n",
      "Eval stats for TRAIN\n",
      "TP per class: [80 80 80 80] Average: 80.00\n",
      "TN per class: [240 240 240 240] Average: 240.00\n",
      "FP per class: [0 0 0 0] Average: 0.00\n",
      "FN per class: [0 0 0 0] Average: 0.00\n",
      "ACCURACY per class: [1. 1. 1. 1.] Average: 1.00\n",
      "PRECISION per class: [1. 1. 1. 1.] Average: 1.00\n",
      "RECALL per class: [1. 1. 1. 1.] Average: 1.00\n",
      "F1 per class: [1. 1. 1. 1.] Average: 1.00\n",
      "Avg Loss na train tensor(0.0037, grad_fn=<DivBackward0>)\n",
      "F1 - train tensor(1.)\n",
      "Accuracy - train tensor(1.)\n"
     ]
    },
    {
     "data": {
      "application/vnd.jupyter.widget-view+json": {
       "model_id": "bbc333511905441f98442e3e3fcf4011",
       "version_major": 2,
       "version_minor": 0
      },
      "text/plain": [
       "Validating: 0it [00:00, ?it/s]"
      ]
     },
     "metadata": {},
     "output_type": "display_data"
    },
    {
     "name": "stderr",
     "output_type": "stream",
     "text": [
      "Epoch 18, global step 6079: validation/f1 was not in top 3\n"
     ]
    },
    {
     "name": "stdout",
     "output_type": "stream",
     "text": [
      "============================================================\n",
      "Eval stats for VALIDATION\n",
      "TP per class: [19 11  9 15] Average: 13.50\n",
      "TN per class: [54 60 58 42] Average: 53.50\n",
      "FP per class: [ 6  0  2 18] Average: 6.50\n",
      "FN per class: [ 1  9 11  5] Average: 6.50\n",
      "ACCURACY per class: [0.9125 0.8875 0.8375 0.7125] Average: 0.84\n",
      "PRECISION per class: [0.76       1.         0.81818182 0.45454545] Average: 0.76\n",
      "RECALL per class: [0.95 0.55 0.45 0.75] Average: 0.68\n",
      "F1 per class: [0.84444444 0.70967742 0.58064516 0.56603774] Average: 0.68\n",
      "Avg Loss na validation tensor(3.5362)\n",
      "F1 - validation tensor(0.6752)\n",
      "Accuracy - validation tensor(0.8406)\n",
      "============================================================\n",
      "Eval stats for TRAIN\n",
      "TP per class: [79 77 78 79] Average: 78.25\n",
      "TN per class: [240 238 237 238] Average: 238.25\n",
      "FP per class: [0 2 3 2] Average: 1.75\n",
      "FN per class: [1 3 2 1] Average: 1.75\n",
      "ACCURACY per class: [0.996875 0.984375 0.984375 0.990625] Average: 0.99\n",
      "PRECISION per class: [1.         0.97468354 0.96296296 0.97530864] Average: 0.98\n",
      "RECALL per class: [0.9875 0.9625 0.975  0.9875] Average: 0.98\n",
      "F1 per class: [0.99371069 0.96855346 0.9689441  0.98136646] Average: 0.98\n",
      "Avg Loss na train tensor(0.0351, grad_fn=<DivBackward0>)\n",
      "F1 - train tensor(0.9781)\n",
      "Accuracy - train tensor(0.9891)\n"
     ]
    },
    {
     "data": {
      "application/vnd.jupyter.widget-view+json": {
       "model_id": "8fb55f3367c94c5d98a4755175a62923",
       "version_major": 2,
       "version_minor": 0
      },
      "text/plain": [
       "Validating: 0it [00:00, ?it/s]"
      ]
     },
     "metadata": {},
     "output_type": "display_data"
    },
    {
     "name": "stderr",
     "output_type": "stream",
     "text": [
      "Epoch 19, global step 6399: validation/f1 was not in top 3\n"
     ]
    },
    {
     "name": "stdout",
     "output_type": "stream",
     "text": [
      "============================================================\n",
      "Eval stats for VALIDATION\n",
      "TP per class: [18 12 16 10] Average: 14.00\n",
      "TN per class: [54 60 47 55] Average: 54.00\n",
      "FP per class: [ 6  0 13  5] Average: 6.00\n",
      "FN per class: [ 2  8  4 10] Average: 6.00\n",
      "ACCURACY per class: [0.9    0.9    0.7875 0.8125] Average: 0.85\n",
      "PRECISION per class: [0.75       1.         0.55172414 0.66666667] Average: 0.74\n",
      "RECALL per class: [0.9 0.6 0.8 0.5] Average: 0.70\n",
      "F1 per class: [0.81818182 0.75       0.65306122 0.57142857] Average: 0.70\n",
      "Avg Loss na validation tensor(2.7855)\n",
      "F1 - validation tensor(0.6982)\n",
      "Accuracy - validation tensor(0.8500)\n"
     ]
    }
   ],
   "source": [
    "trainer.fit(\n",
    "    model,\n",
    "    train_dataloader=data_module.train_dataloader(),\n",
    "    val_dataloaders=data_module.val_dataloader()\n",
    ")"
   ]
  },
  {
   "cell_type": "code",
   "execution_count": null,
   "metadata": {},
   "outputs": [],
   "source": []
  }
 ],
 "metadata": {
  "interpreter": {
   "hash": "d0ec11bdcd54811a724131fc8def2e54b25dbfdafc9f0a571e8702c64517e46b"
  },
  "kernelspec": {
   "display_name": "Python 3.6.9 64-bit ('mvcnn_train': venv)",
   "name": "python3"
  },
  "language_info": {
   "codemirror_mode": {
    "name": "ipython",
    "version": 3
   },
   "file_extension": ".py",
   "mimetype": "text/x-python",
   "name": "python",
   "nbconvert_exporter": "python",
   "pygments_lexer": "ipython3",
   "version": "3.6.9"
  },
  "orig_nbformat": 4
 },
 "nbformat": 4,
 "nbformat_minor": 2
}

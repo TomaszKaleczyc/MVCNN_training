{
 "cells": [
  {
   "cell_type": "markdown",
   "metadata": {},
   "source": [
    "In the previous notebook, we have trained a MVCNN architecture. The training results as displayed by Tensorboard can be seen below:\n",
    "\n",
    "![tensorboard](../data/training_results.JPG)\n",
    "\n",
    "\n",
    "In this notebook we will look at the champion models performance. In particular we will assess the model performance:\n",
    "* when some of the instance images belong to a different class\n",
    "* using a different number of images per instance"
   ]
  },
  {
   "cell_type": "markdown",
   "metadata": {},
   "source": [
    "## Imports"
   ]
  },
  {
   "cell_type": "code",
   "execution_count": 14,
   "metadata": {},
   "outputs": [
    {
     "name": "stdout",
     "output_type": "stream",
     "text": [
      "The autoreload extension is already loaded. To reload it, use:\n",
      "  %reload_ext autoreload\n"
     ]
    }
   ],
   "source": [
    "%load_ext autoreload\n",
    "%autoreload 2\n",
    "\n",
    "from matplotlib import pyplot as plt\n",
    "import numpy as np\n",
    "from tqdm.notebook import tqdm\n",
    "\n",
    "import torch\n",
    "from torch import Tensor\n",
    "import torchmetrics\n",
    "\n",
    "from model.mvcnn import MVCNNClassifier\n",
    "from dataset import MVCNNDataModule, MVCNNDataset, MVCNNObjectClassInstance"
   ]
  },
  {
   "cell_type": "markdown",
   "metadata": {},
   "source": [
    "## Data preparation"
   ]
  },
  {
   "cell_type": "markdown",
   "metadata": {},
   "source": [
    "Let's import the champion model from the training phase:"
   ]
  },
  {
   "cell_type": "code",
   "execution_count": 15,
   "metadata": {},
   "outputs": [
    {
     "name": "stdout",
     "output_type": "stream",
     "text": [
      "Feature extractor weights frozen\n"
     ]
    }
   ],
   "source": [
    "champion_model_path = '../output/mvcnn-epoch=9-validation/f1=0.836.ckpt'\n",
    "model = MVCNNClassifier.load_from_checkpoint(champion_model_path)"
   ]
  },
  {
   "cell_type": "markdown",
   "metadata": {},
   "source": [
    "Now let's import validation data to aid our analysis:"
   ]
  },
  {
   "cell_type": "code",
   "execution_count": 16,
   "metadata": {},
   "outputs": [
    {
     "name": "stdout",
     "output_type": "stream",
     "text": [
      "============================================================\n",
      "Dataset type: TRAIN\n",
      "------------------------------------------------------------\n",
      "Class name: AIRPLANE\n",
      "Total number of instances: 80\n",
      "Total number of images: 960\n",
      "------------------------------------------------------------\n",
      "Class name: BATHTUB\n",
      "Total number of instances: 80\n",
      "Total number of images: 960\n",
      "------------------------------------------------------------\n",
      "Class name: BED\n",
      "Total number of instances: 80\n",
      "Total number of images: 960\n",
      "------------------------------------------------------------\n",
      "Class name: BENCH\n",
      "Total number of instances: 80\n",
      "Total number of images: 960\n",
      "============================================================\n",
      "Dataset type: TEST\n",
      "------------------------------------------------------------\n",
      "Class name: AIRPLANE\n",
      "Total number of instances: 20\n",
      "Total number of images: 240\n",
      "------------------------------------------------------------\n",
      "Class name: BATHTUB\n",
      "Total number of instances: 20\n",
      "Total number of images: 240\n",
      "------------------------------------------------------------\n",
      "Class name: BED\n",
      "Total number of instances: 20\n",
      "Total number of images: 240\n",
      "------------------------------------------------------------\n",
      "Class name: BENCH\n",
      "Total number of instances: 20\n",
      "Total number of images: 240\n"
     ]
    }
   ],
   "source": [
    "NUM_CLASSES = 4\n",
    "data_module = MVCNNDataModule(num_classes=NUM_CLASSES)\n",
    "dataset = data_module.get_dataset('val')"
   ]
  },
  {
   "cell_type": "markdown",
   "metadata": {},
   "source": [
    "## Analysis"
   ]
  },
  {
   "cell_type": "markdown",
   "metadata": {},
   "source": [
    "### Incorrect images in instance"
   ]
  },
  {
   "cell_type": "markdown",
   "metadata": {},
   "source": [
    "Let's look at an example of a single instance where we will replace some of the correct instance images with images belonging to a different class:"
   ]
  },
  {
   "cell_type": "markdown",
   "metadata": {},
   "source": [
    "In the example we will replace two images of a selected instance with images belonging to a different class:"
   ]
  },
  {
   "cell_type": "code",
   "execution_count": 17,
   "metadata": {},
   "outputs": [],
   "source": [
    "def view_image_tensor(image_tensor: Tensor):\n",
    "    \"\"\"\n",
    "    Displays an image based on the tensor values\n",
    "    \"\"\"\n",
    "    num_imgs, depth, height, width = image_tensor.shape\n",
    "\n",
    "    canvas = np.zeros((height, width * num_imgs, depth))\n",
    "\n",
    "    for image_no in range(num_imgs):\n",
    "        canvas[0:height, image_no * width : (image_no + 1) * width, 0 : 3] = image_tensor[image_no].transpose(0, -1).flip(-1)\n",
    "\n",
    "    plt.figure(figsize=(25,10))\n",
    "    plt.imshow(canvas)\n",
    "    plt.axis('off')\n",
    "    plt.show()\n",
    "\n",
    "\n",
    "def get_incorrect_image_tensor(instance: MVCNNObjectClassInstance, dataset: MVCNNDataset, num_incorrect_images: int):\n",
    "    \"\"\"\n",
    "    Returns the image tensor with the replaced images\n",
    "    \"\"\"\n",
    "    output_image_tensor = instance.get_image_tensor()\n",
    "    target_class = instance.class_id\n",
    "\n",
    "    while True:\n",
    "        incorrect_instance = dataset.get_random_instance()\n",
    "        if incorrect_instance.class_id != target_class:\n",
    "            break\n",
    "\n",
    "    incorrect_instance_images = incorrect_instance.get_image_tensor()\n",
    "    for idx in range(num_incorrect_images):\n",
    "        output_image_tensor[idx] = incorrect_instance_images[idx]\n",
    "        \n",
    "    return output_image_tensor"
   ]
  },
  {
   "cell_type": "code",
   "execution_count": 18,
   "metadata": {},
   "outputs": [
    {
     "name": "stdout",
     "output_type": "stream",
     "text": [
      "Target: 0\n"
     ]
    },
    {
     "name": "stderr",
     "output_type": "stream",
     "text": [
      "Clipping input data to the valid range for imshow with RGB data ([0..1] for floats or [0..255] for integers).\n"
     ]
    },
    {
     "data": {
      "image/png": "[encoded data removed]",
      "text/plain": [
       "<Figure size 1800x720 with 1 Axes>"
      ]
     },
     "metadata": {
      "needs_background": "light"
     },
     "output_type": "display_data"
    }
   ],
   "source": [
    "instance = dataset.get_instance(1)\n",
    "num_incorrect_images = 2\n",
    "\n",
    "target_class = instance.class_id\n",
    "print('Target:', target_class)\n",
    "\n",
    "\n",
    "output_image_tensor = get_incorrect_image_tensor(instance, dataset, num_incorrect_images)\n",
    "\n",
    "view_image_tensor(output_image_tensor)"
   ]
  },
  {
   "cell_type": "markdown",
   "metadata": {},
   "source": [
    "Let's see what class has the champion model predicted for this image set:"
   ]
  },
  {
   "cell_type": "code",
   "execution_count": 19,
   "metadata": {},
   "outputs": [
    {
     "data": {
      "text/plain": [
       "(tensor([0]),\n",
       " tensor([[9.9667e-01, 4.3635e-09, 2.2683e-03, 1.0622e-03]],\n",
       "        grad_fn=<SoftmaxBackward>))"
      ]
     },
     "execution_count": 19,
     "metadata": {},
     "output_type": "execute_result"
    }
   ],
   "source": [
    "model.predict(output_image_tensor)"
   ]
  },
  {
   "cell_type": "markdown",
   "metadata": {},
   "source": [
    "It seems two incorrect images was not enough to fool the model. Let's compare it with the results on the original (all correct) image set:"
   ]
  },
  {
   "cell_type": "code",
   "execution_count": 20,
   "metadata": {},
   "outputs": [
    {
     "data": {
      "text/plain": [
       "(tensor([0]),\n",
       " tensor([[9.9997e-01, 6.8106e-10, 2.0787e-05, 6.3076e-06]],\n",
       "        grad_fn=<SoftmaxBackward>))"
      ]
     },
     "execution_count": 20,
     "metadata": {},
     "output_type": "execute_result"
    }
   ],
   "source": [
    "model.predict(instance.get_image_tensor())"
   ]
  },
  {
   "cell_type": "markdown",
   "metadata": {},
   "source": [
    "Now let's run the analysis on the whole validation dataset. We will test how replacing a number of images (up to a total of 5/12)  with images belonging to a different class will affect the F1 score of the validation dataset:"
   ]
  },
  {
   "cell_type": "code",
   "execution_count": 21,
   "metadata": {},
   "outputs": [],
   "source": [
    "def test_score_with_incorrect_images(dataset: MVCNNDataset, model: MVCNNClassifier, num_incorrect_images: int):\n",
    "    \"\"\"\n",
    "    Returns the F1 for the dataset predictions where each\n",
    "    instance has a given number of images belonging to an incorrect class\n",
    "    \"\"\"\n",
    "    num_iterations = len(dataset)\n",
    "\n",
    "    f1 = torchmetrics.F1()\n",
    "\n",
    "    actuals = torch.zeros((num_iterations, NUM_CLASSES))\n",
    "    predictions = torch.zeros((num_iterations, NUM_CLASSES))\n",
    "\n",
    "    for idx in tqdm(range(num_iterations)):\n",
    "        instance = dataset.get_instance(idx)\n",
    "        actuals[idx, instance.class_id] = 1\n",
    "\n",
    "        output_image_tensor = get_incorrect_image_tensor(instance, dataset, num_incorrect_images)\n",
    "        predicted_class, _ = model.predict(output_image_tensor)\n",
    "        predictions[idx, predicted_class] = 1\n",
    "        \n",
    "    f1.update(actuals, predictions.argmax(1))\n",
    "    score = f1.compute()\n",
    "    return float(score)\n"
   ]
  },
  {
   "cell_type": "markdown",
   "metadata": {},
   "source": [
    "Main loop of the current analysis:"
   ]
  },
  {
   "cell_type": "code",
   "execution_count": 22,
   "metadata": {},
   "outputs": [
    {
     "name": "stdout",
     "output_type": "stream",
     "text": [
      "========================================\n",
      "Total of incorrect images: 0\n"
     ]
    },
    {
     "data": {
      "application/vnd.jupyter.widget-view+json": {
       "model_id": "912fa85c7eec43f98c56d4d314cc76cc",
       "version_major": 2,
       "version_minor": 0
      },
      "text/plain": [
       "  0%|          | 0/80 [00:00<?, ?it/s]"
      ]
     },
     "metadata": {},
     "output_type": "display_data"
    },
    {
     "name": "stdout",
     "output_type": "stream",
     "text": [
      "Score: 0.84\n",
      "========================================\n",
      "Total of incorrect images: 1\n"
     ]
    },
    {
     "data": {
      "application/vnd.jupyter.widget-view+json": {
       "model_id": "f3816a5ca0cc426680169343dc2abb0f",
       "version_major": 2,
       "version_minor": 0
      },
      "text/plain": [
       "  0%|          | 0/80 [00:00<?, ?it/s]"
      ]
     },
     "metadata": {},
     "output_type": "display_data"
    },
    {
     "name": "stdout",
     "output_type": "stream",
     "text": [
      "Score: 0.66\n",
      "========================================\n",
      "Total of incorrect images: 2\n"
     ]
    },
    {
     "data": {
      "application/vnd.jupyter.widget-view+json": {
       "model_id": "1875faeadf264084ba8c85f125d32dab",
       "version_major": 2,
       "version_minor": 0
      },
      "text/plain": [
       "  0%|          | 0/80 [00:00<?, ?it/s]"
      ]
     },
     "metadata": {},
     "output_type": "display_data"
    },
    {
     "name": "stdout",
     "output_type": "stream",
     "text": [
      "Score: 0.62\n",
      "========================================\n",
      "Total of incorrect images: 3\n"
     ]
    },
    {
     "data": {
      "application/vnd.jupyter.widget-view+json": {
       "model_id": "9875bd2158994a929e73e10c30adf2ba",
       "version_major": 2,
       "version_minor": 0
      },
      "text/plain": [
       "  0%|          | 0/80 [00:00<?, ?it/s]"
      ]
     },
     "metadata": {},
     "output_type": "display_data"
    },
    {
     "name": "stdout",
     "output_type": "stream",
     "text": [
      "Score: 0.66\n",
      "========================================\n",
      "Total of incorrect images: 4\n"
     ]
    },
    {
     "data": {
      "application/vnd.jupyter.widget-view+json": {
       "model_id": "5c743a76bfaf4afc9b579d6875adb315",
       "version_major": 2,
       "version_minor": 0
      },
      "text/plain": [
       "  0%|          | 0/80 [00:00<?, ?it/s]"
      ]
     },
     "metadata": {},
     "output_type": "display_data"
    },
    {
     "name": "stdout",
     "output_type": "stream",
     "text": [
      "Score: 0.56\n",
      "========================================\n",
      "Total of incorrect images: 5\n"
     ]
    },
    {
     "data": {
      "application/vnd.jupyter.widget-view+json": {
       "model_id": "59472c0a860d4719a0ffa9da10745575",
       "version_major": 2,
       "version_minor": 0
      },
      "text/plain": [
       "  0%|          | 0/80 [00:00<?, ?it/s]"
      ]
     },
     "metadata": {},
     "output_type": "display_data"
    },
    {
     "name": "stdout",
     "output_type": "stream",
     "text": [
      "Score: 0.60\n"
     ]
    }
   ],
   "source": [
    "scores = {}\n",
    "\n",
    "for num_incorrect_images in range(6):\n",
    "    print('='*40)\n",
    "    print('Total of incorrect images:', num_incorrect_images)\n",
    "    score = test_score_with_incorrect_images(dataset, model, num_incorrect_images)\n",
    "    print(f'Score: {score:.2f}')\n",
    "    scores[num_incorrect_images] = score\n"
   ]
  },
  {
   "cell_type": "code",
   "execution_count": 23,
   "metadata": {},
   "outputs": [
    {
     "data": {
      "image/png": "[encoded data removed]",
      "text/plain": [
       "<Figure size 720x360 with 1 Axes>"
      ]
     },
     "metadata": {
      "needs_background": "light"
     },
     "output_type": "display_data"
    }
   ],
   "source": [
    "y_pos = np.arange(len(scores))\n",
    "\n",
    "plt.figure(figsize=(10, 5))\n",
    "plt.bar(y_pos, scores.values(), align='center', alpha=0.5)\n",
    "plt.xticks(y_pos, scores.keys())\n",
    "plt.ylabel('Validation F1 score')\n",
    "plt.ylim(0, 1)\n",
    "plt.title('Number of incorrect class images in instance')\n",
    "\n",
    "plt.show()"
   ]
  },
  {
   "cell_type": "markdown",
   "metadata": {},
   "source": [
    "The above graph shows that if even a small part of the instance images belongs to an incorrect class, the model performance deteriorates."
   ]
  },
  {
   "cell_type": "markdown",
   "metadata": {},
   "source": [
    "### Varying number of images in instance"
   ]
  },
  {
   "cell_type": "markdown",
   "metadata": {},
   "source": [
    "Now let's check how the model performs when getting a varying number of images per instance"
   ]
  },
  {
   "cell_type": "code",
   "execution_count": 24,
   "metadata": {},
   "outputs": [],
   "source": [
    "def test_score_with_given_num_images(dataset: MVCNNDataset, model: MVCNNClassifier, num_images: int) -> float:\n",
    "    \"\"\"\n",
    "    Returns the F1 for the dataset predictions where each\n",
    "    instance has a fixed number of images fed into the model\n",
    "    \"\"\"\n",
    "    num_iterations = len(dataset)\n",
    "\n",
    "    f1 = torchmetrics.F1()\n",
    "\n",
    "    actuals = torch.zeros((num_iterations, NUM_CLASSES))\n",
    "    predictions = torch.zeros((num_iterations, NUM_CLASSES))\n",
    "\n",
    "    for idx in tqdm(range(num_iterations)):\n",
    "        instance = dataset.get_instance(idx)\n",
    "        actuals[idx, instance.class_id] = 1\n",
    "        output_image_tensor = instance.get_image_tensor()[:num_images]\n",
    "        predicted_class, _ = model.predict(output_image_tensor)\n",
    "        predictions[idx, predicted_class] = 1\n",
    "\n",
    "    f1.update(actuals, predictions.argmax(1))\n",
    "    score = f1.compute()\n",
    "    return float(score)"
   ]
  },
  {
   "cell_type": "code",
   "execution_count": 25,
   "metadata": {},
   "outputs": [
    {
     "name": "stdout",
     "output_type": "stream",
     "text": [
      "========================================\n",
      "Total of images: 12\n"
     ]
    },
    {
     "data": {
      "application/vnd.jupyter.widget-view+json": {
       "model_id": "10f85e802c7b4b9e83cff331b685a82b",
       "version_major": 2,
       "version_minor": 0
      },
      "text/plain": [
       "  0%|          | 0/80 [00:00<?, ?it/s]"
      ]
     },
     "metadata": {},
     "output_type": "display_data"
    },
    {
     "name": "stdout",
     "output_type": "stream",
     "text": [
      "Score: 83.7%\n",
      "========================================\n",
      "Total of images: 11\n"
     ]
    },
    {
     "data": {
      "application/vnd.jupyter.widget-view+json": {
       "model_id": "cd887018ba2b4e42bae07856cf0dfa49",
       "version_major": 2,
       "version_minor": 0
      },
      "text/plain": [
       "  0%|          | 0/80 [00:00<?, ?it/s]"
      ]
     },
     "metadata": {},
     "output_type": "display_data"
    },
    {
     "name": "stdout",
     "output_type": "stream",
     "text": [
      "Score: 83.7%\n",
      "========================================\n",
      "Total of images: 10\n"
     ]
    },
    {
     "data": {
      "application/vnd.jupyter.widget-view+json": {
       "model_id": "3072a5378d2f40a8a1ab91b9a6f8e624",
       "version_major": 2,
       "version_minor": 0
      },
      "text/plain": [
       "  0%|          | 0/80 [00:00<?, ?it/s]"
      ]
     },
     "metadata": {},
     "output_type": "display_data"
    },
    {
     "name": "stdout",
     "output_type": "stream",
     "text": [
      "Score: 80.0%\n",
      "========================================\n",
      "Total of images: 9\n"
     ]
    },
    {
     "data": {
      "application/vnd.jupyter.widget-view+json": {
       "model_id": "34a28ea660054cc5ab74cf692f61dc65",
       "version_major": 2,
       "version_minor": 0
      },
      "text/plain": [
       "  0%|          | 0/80 [00:00<?, ?it/s]"
      ]
     },
     "metadata": {},
     "output_type": "display_data"
    },
    {
     "name": "stdout",
     "output_type": "stream",
     "text": [
      "Score: 73.8%\n",
      "========================================\n",
      "Total of images: 8\n"
     ]
    },
    {
     "data": {
      "application/vnd.jupyter.widget-view+json": {
       "model_id": "1e27a93470c04118a88a54cfece2dfac",
       "version_major": 2,
       "version_minor": 0
      },
      "text/plain": [
       "  0%|          | 0/80 [00:00<?, ?it/s]"
      ]
     },
     "metadata": {},
     "output_type": "display_data"
    },
    {
     "name": "stdout",
     "output_type": "stream",
     "text": [
      "Score: 75.0%\n",
      "========================================\n",
      "Total of images: 7\n"
     ]
    },
    {
     "data": {
      "application/vnd.jupyter.widget-view+json": {
       "model_id": "ee20eaa110a5459f8b9076d01e7a4cb0",
       "version_major": 2,
       "version_minor": 0
      },
      "text/plain": [
       "  0%|          | 0/80 [00:00<?, ?it/s]"
      ]
     },
     "metadata": {},
     "output_type": "display_data"
    },
    {
     "name": "stdout",
     "output_type": "stream",
     "text": [
      "Score: 75.0%\n",
      "========================================\n",
      "Total of images: 6\n"
     ]
    },
    {
     "data": {
      "application/vnd.jupyter.widget-view+json": {
       "model_id": "5560182719814f27b2df7341044a9a1e",
       "version_major": 2,
       "version_minor": 0
      },
      "text/plain": [
       "  0%|          | 0/80 [00:00<?, ?it/s]"
      ]
     },
     "metadata": {},
     "output_type": "display_data"
    },
    {
     "name": "stdout",
     "output_type": "stream",
     "text": [
      "Score: 66.3%\n",
      "========================================\n",
      "Total of images: 5\n"
     ]
    },
    {
     "data": {
      "application/vnd.jupyter.widget-view+json": {
       "model_id": "823640878ce943ba8f0bd8a54651ebed",
       "version_major": 2,
       "version_minor": 0
      },
      "text/plain": [
       "  0%|          | 0/80 [00:00<?, ?it/s]"
      ]
     },
     "metadata": {},
     "output_type": "display_data"
    },
    {
     "name": "stdout",
     "output_type": "stream",
     "text": [
      "Score: 65.0%\n",
      "========================================\n",
      "Total of images: 4\n"
     ]
    },
    {
     "data": {
      "application/vnd.jupyter.widget-view+json": {
       "model_id": "a78cc57d55504e1682955628013b29f2",
       "version_major": 2,
       "version_minor": 0
      },
      "text/plain": [
       "  0%|          | 0/80 [00:00<?, ?it/s]"
      ]
     },
     "metadata": {},
     "output_type": "display_data"
    },
    {
     "name": "stdout",
     "output_type": "stream",
     "text": [
      "Score: 66.3%\n",
      "========================================\n",
      "Total of images: 3\n"
     ]
    },
    {
     "data": {
      "application/vnd.jupyter.widget-view+json": {
       "model_id": "f9f2196fcb274287aec608228a60c787",
       "version_major": 2,
       "version_minor": 0
      },
      "text/plain": [
       "  0%|          | 0/80 [00:00<?, ?it/s]"
      ]
     },
     "metadata": {},
     "output_type": "display_data"
    },
    {
     "name": "stdout",
     "output_type": "stream",
     "text": [
      "Score: 60.0%\n",
      "========================================\n",
      "Total of images: 2\n"
     ]
    },
    {
     "data": {
      "application/vnd.jupyter.widget-view+json": {
       "model_id": "c6410160291849eebe9dcd4aa4992e9f",
       "version_major": 2,
       "version_minor": 0
      },
      "text/plain": [
       "  0%|          | 0/80 [00:00<?, ?it/s]"
      ]
     },
     "metadata": {},
     "output_type": "display_data"
    },
    {
     "name": "stdout",
     "output_type": "stream",
     "text": [
      "Score: 67.5%\n",
      "========================================\n",
      "Total of images: 1\n"
     ]
    },
    {
     "data": {
      "application/vnd.jupyter.widget-view+json": {
       "model_id": "a5e318e0c8f94de1b0b0c5e024bc2489",
       "version_major": 2,
       "version_minor": 0
      },
      "text/plain": [
       "  0%|          | 0/80 [00:00<?, ?it/s]"
      ]
     },
     "metadata": {},
     "output_type": "display_data"
    },
    {
     "name": "stdout",
     "output_type": "stream",
     "text": [
      "Score: 70.0%\n"
     ]
    }
   ],
   "source": [
    "num_images_scores = {}\n",
    "\n",
    "for num_images in range(12, 0, -1):\n",
    "    print('='*40)\n",
    "    print('Total of images:', num_images)\n",
    "    score = test_score_with_given_num_images(dataset, model, num_images)\n",
    "    print(f'Score: {score:.1%}')\n",
    "    num_images_scores[num_images] = score"
   ]
  },
  {
   "cell_type": "code",
   "execution_count": 26,
   "metadata": {},
   "outputs": [
    {
     "data": {
      "image/png": "[encoded data removed]",
      "text/plain": [
       "<Figure size 720x360 with 1 Axes>"
      ]
     },
     "metadata": {
      "needs_background": "light"
     },
     "output_type": "display_data"
    }
   ],
   "source": [
    "y_pos = np.arange(len(num_images_scores))\n",
    "\n",
    "plt.figure(figsize=(10, 5))\n",
    "plt.bar(y_pos, num_images_scores.values(), align='center', alpha=0.5)\n",
    "plt.xticks(y_pos, num_images_scores.keys())\n",
    "plt.ylabel('Validation F1 score')\n",
    "plt.ylim(0, 1)\n",
    "plt.title('Number of class images in instance')\n",
    "\n",
    "plt.show()"
   ]
  },
  {
   "cell_type": "markdown",
   "metadata": {},
   "source": [
    "It seems the more (correct) images in an instance, the better the results on the validation set. Interestingly, the results with 2 and 1 images pick up slightly. This might be related to the poses that are stored in the instance in a particular order."
   ]
  }
 ],
 "metadata": {
  "interpreter": {
   "hash": "0b7f5bb12f3356fc8ad7f133529672b64be4b993e006b60cb1650fdc800a534b"
  },
  "kernelspec": {
   "display_name": "Python 3.6.9 64-bit ('mvcnn_train': venv)",
   "language": "python",
   "name": "python3"
  },
  "language_info": {
   "codemirror_mode": {
    "name": "ipython",
    "version": 3
   },
   "file_extension": ".py",
   "mimetype": "text/x-python",
   "name": "python",
   "nbconvert_exporter": "python",
   "pygments_lexer": "ipython3",
   "version": "3.6.9"
  },
  "orig_nbformat": 4
 },
 "nbformat": 4,
 "nbformat_minor": 2
}

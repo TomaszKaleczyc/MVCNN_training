{
 "cells": [
  {
   "cell_type": "markdown",
   "metadata": {},
   "source": [
    "In the previous notebook, we have trained a MVCNN architecture. The training results as displayed by Tensorboard can be seen below:\n",
    "\n",
    "![tensorboard](../data/training_results.JPG)\n",
    "\n",
    "\n",
    "In this notebook we will look at the champion models performance. In particular we will assess the model performance when some of the instance images belong to a different class."
   ]
  },
  {
   "cell_type": "markdown",
   "metadata": {},
   "source": [
    "## Imports"
   ]
  },
  {
   "cell_type": "code",
   "execution_count": 1,
   "metadata": {},
   "outputs": [
    {
     "name": "stderr",
     "output_type": "stream",
     "text": [
      "/mnt/d/coding/git/TomaszKaleczyc/MVCNN_training/environment/mvcnn_train/lib/python3.6/site-packages/pytorch_lightning/metrics/__init__.py:44: LightningDeprecationWarning: `pytorch_lightning.metrics.*` module has been renamed to `torchmetrics.*` and split off to its own package (https://github.com/PyTorchLightning/metrics) since v1.3 and will be removed in v1.5\n",
      "  \"`pytorch_lightning.metrics.*` module has been renamed to `torchmetrics.*` and split off to its own package\"\n"
     ]
    }
   ],
   "source": [
    "%load_ext autoreload\n",
    "%autoreload 2\n",
    "\n",
    "from matplotlib import pyplot as plt\n",
    "import numpy as np\n",
    "from tqdm.notebook import tqdm\n",
    "\n",
    "import torch\n",
    "from torch import Tensor\n",
    "import torchmetrics\n",
    "\n",
    "from model.mvcnn import MVCNNClassifier\n",
    "from dataset.mvcnn_data_module import MVCNNDataModule"
   ]
  },
  {
   "cell_type": "markdown",
   "metadata": {},
   "source": [
    "## Data preparation"
   ]
  },
  {
   "cell_type": "markdown",
   "metadata": {},
   "source": [
    "Let's import the champion model from the training phase:"
   ]
  },
  {
   "cell_type": "code",
   "execution_count": 2,
   "metadata": {},
   "outputs": [
    {
     "name": "stdout",
     "output_type": "stream",
     "text": [
      "Feature extractor weights frozen\n"
     ]
    }
   ],
   "source": [
    "champion_model_path = '../output/lightning_logs/version_0/checkpoints/mvcnn-epoch=14-validation/f1=0.812.ckpt'\n",
    "model = MVCNNClassifier.load_from_checkpoint(champion_model_path)"
   ]
  },
  {
   "cell_type": "markdown",
   "metadata": {},
   "source": [
    "Now let's import validation data to aid our analysis:"
   ]
  },
  {
   "cell_type": "code",
   "execution_count": 3,
   "metadata": {},
   "outputs": [
    {
     "name": "stdout",
     "output_type": "stream",
     "text": [
      "============================================================\n",
      "Dataset type: TRAIN\n",
      "------------------------------------------------------------\n",
      "Class name: AIRPLANE\n",
      "Total number of instances: 80\n",
      "Total number of images: 960\n",
      "------------------------------------------------------------\n",
      "Class name: BATHTUB\n",
      "Total number of instances: 80\n",
      "Total number of images: 960\n",
      "------------------------------------------------------------\n",
      "Class name: BED\n",
      "Total number of instances: 80\n",
      "Total number of images: 960\n",
      "------------------------------------------------------------\n",
      "Class name: BENCH\n",
      "Total number of instances: 80\n",
      "Total number of images: 960\n",
      "============================================================\n",
      "Dataset type: TEST\n",
      "------------------------------------------------------------\n",
      "Class name: AIRPLANE\n",
      "Total number of instances: 20\n",
      "Total number of images: 240\n",
      "------------------------------------------------------------\n",
      "Class name: BATHTUB\n",
      "Total number of instances: 20\n",
      "Total number of images: 240\n",
      "------------------------------------------------------------\n",
      "Class name: BED\n",
      "Total number of instances: 20\n",
      "Total number of images: 240\n",
      "------------------------------------------------------------\n",
      "Class name: BENCH\n",
      "Total number of instances: 20\n",
      "Total number of images: 240\n"
     ]
    }
   ],
   "source": [
    "NUM_CLASSES = 4\n",
    "data_module = MVCNNDataModule(num_classes=NUM_CLASSES)\n",
    "dataset = data_module.get_dataset('val')"
   ]
  },
  {
   "cell_type": "markdown",
   "metadata": {},
   "source": [
    "## Example"
   ]
  },
  {
   "cell_type": "markdown",
   "metadata": {},
   "source": [
    "Let's look at an example of a single instance where we will replace some of the correct instance images with images belonging to a different class:"
   ]
  },
  {
   "cell_type": "markdown",
   "metadata": {},
   "source": [
    "In the example we will replace two images of a selected instance with images belonging to a different class:"
   ]
  },
  {
   "cell_type": "code",
   "execution_count": 4,
   "metadata": {},
   "outputs": [],
   "source": [
    "def view_image_tensor(image_tensor: Tensor):\n",
    "    \"\"\"\n",
    "    Displays an image based on the tensor values\n",
    "    \"\"\"\n",
    "    num_imgs, depth, height, width = image_tensor.shape\n",
    "\n",
    "    canvas = np.zeros((height, width * num_imgs, depth))\n",
    "\n",
    "    for image_no in range(num_imgs):\n",
    "        canvas[0:height, image_no * width : (image_no + 1) * width, 0 : 3] = image_tensor[image_no].transpose(0, -1).flip(-1)\n",
    "\n",
    "    plt.figure(figsize=(25,10))\n",
    "    plt.imshow(canvas)\n",
    "    plt.axis('off')\n",
    "    plt.show()\n",
    "\n",
    "\n",
    "def get_incorrect_image_tensor(instance, dataset, num_incorrect_images):\n",
    "    \"\"\"\n",
    "    Returns the image tensor with the replaced images\n",
    "    \"\"\"\n",
    "    output_image_tensor = instance.get_image_tensor()\n",
    "    target_class = instance.class_id\n",
    "\n",
    "    while True:\n",
    "        incorrect_instance = dataset.get_random_instance()\n",
    "        if incorrect_instance.class_id != target_class:\n",
    "            break\n",
    "\n",
    "    incorrect_instance_images = incorrect_instance.get_image_tensor()\n",
    "    for idx in range(num_incorrect_images):\n",
    "        output_image_tensor[idx] = incorrect_instance_images[idx]\n",
    "        \n",
    "    return output_image_tensor"
   ]
  },
  {
   "cell_type": "code",
   "execution_count": 5,
   "metadata": {},
   "outputs": [
    {
     "name": "stdout",
     "output_type": "stream",
     "text": [
      "Target: 0\n"
     ]
    },
    {
     "name": "stderr",
     "output_type": "stream",
     "text": [
      "Clipping input data to the valid range for imshow with RGB data ([0..1] for floats or [0..255] for integers).\n"
     ]
    },
    {
     "data": {
      "image/png": "[encoded data removed]",
      "text/plain": [
       "<Figure size 1800x720 with 1 Axes>"
      ]
     },
     "metadata": {
      "needs_background": "light"
     },
     "output_type": "display_data"
    }
   ],
   "source": [
    "instance = dataset.get_instance(1)\n",
    "num_incorrect_images = 2\n",
    "\n",
    "target_class = instance.class_id\n",
    "print('Target:', target_class)\n",
    "\n",
    "\n",
    "output_image_tensor = get_incorrect_image_tensor(instance, dataset, num_incorrect_images)\n",
    "\n",
    "view_image_tensor(output_image_tensor)"
   ]
  },
  {
   "cell_type": "markdown",
   "metadata": {},
   "source": [
    "Let's see what class has the champion model predicted for this image set:"
   ]
  },
  {
   "cell_type": "code",
   "execution_count": 6,
   "metadata": {},
   "outputs": [
    {
     "name": "stderr",
     "output_type": "stream",
     "text": [
      "/mnt/d/coding/git/TomaszKaleczyc/MVCNN_training/src/model_classes/mvcnn.py:185: UserWarning: Implicit dimension choice for softmax has been deprecated. Change the call to include dim=X as an argument.\n",
      "  probabilities = F.softmax(output)\n"
     ]
    },
    {
     "data": {
      "text/plain": [
       "(tensor([0]),\n",
       " tensor([[9.9943e-01, 1.7558e-23, 5.6997e-04, 2.2651e-18]],\n",
       "        grad_fn=<SoftmaxBackward>))"
      ]
     },
     "execution_count": 6,
     "metadata": {},
     "output_type": "execute_result"
    }
   ],
   "source": [
    "model.predict(output_image_tensor)"
   ]
  },
  {
   "cell_type": "markdown",
   "metadata": {},
   "source": [
    "It seems two incorrect images was not enough to fool the model. Let's compare it with the results on the original (all correct) image set:"
   ]
  },
  {
   "cell_type": "code",
   "execution_count": 7,
   "metadata": {},
   "outputs": [
    {
     "data": {
      "text/plain": [
       "(tensor([0]),\n",
       " tensor([[1.0000e+00, 7.5072e-28, 9.0446e-09, 7.7691e-26]],\n",
       "        grad_fn=<SoftmaxBackward>))"
      ]
     },
     "execution_count": 7,
     "metadata": {},
     "output_type": "execute_result"
    }
   ],
   "source": [
    "model.predict(instance.get_image_tensor())"
   ]
  },
  {
   "cell_type": "markdown",
   "metadata": {},
   "source": [
    "## Analysis"
   ]
  },
  {
   "cell_type": "markdown",
   "metadata": {},
   "source": [
    "Now let's run the analysis on the whole validation dataset. We will test how replacing a number of images (up to a total of 5/12)  with images belonging to a different class will affect the F1 score of the validation dataset:"
   ]
  },
  {
   "cell_type": "code",
   "execution_count": 9,
   "metadata": {},
   "outputs": [],
   "source": [
    "def test_score_with_incorrect_images(dataset, model, num_incorrect_images):\n",
    "    \"\"\"\n",
    "    Returns the F1 for the dataset predictions where each\n",
    "    instance has a given number of images belonging to an incorrect class\n",
    "    \"\"\"\n",
    "    num_iterations = len(dataset)\n",
    "\n",
    "    f1 = torchmetrics.F1()\n",
    "\n",
    "    actuals = torch.zeros((num_iterations, NUM_CLASSES))\n",
    "    predictions = torch.zeros((num_iterations, NUM_CLASSES))\n",
    "\n",
    "    for idx in tqdm(range(num_iterations)):\n",
    "        instance = dataset.get_instance(idx)\n",
    "        actuals[idx, instance.class_id] = 1\n",
    "\n",
    "        output_image_tensor = get_incorrect_image_tensor(instance, dataset, num_incorrect_images)\n",
    "        predicted_class, _ = model.predict(output_image_tensor)\n",
    "        predictions[idx, predicted_class] = 1\n",
    "        \n",
    "    f1.update(actuals, predictions.argmax(1))\n",
    "    score = f1.compute()\n",
    "    return float(score)\n"
   ]
  },
  {
   "cell_type": "markdown",
   "metadata": {},
   "source": [
    "Main loop of the current analysis:"
   ]
  },
  {
   "cell_type": "code",
   "execution_count": 10,
   "metadata": {},
   "outputs": [
    {
     "name": "stdout",
     "output_type": "stream",
     "text": [
      "========================================\n",
      "Total of incorrect images: 0\n"
     ]
    },
    {
     "data": {
      "application/vnd.jupyter.widget-view+json": {
       "model_id": "a916f78972ac4ac4ae1471e3bdc6b290",
       "version_major": 2,
       "version_minor": 0
      },
      "text/plain": [
       "  0%|          | 0/80 [00:00<?, ?it/s]"
      ]
     },
     "metadata": {},
     "output_type": "display_data"
    },
    {
     "name": "stdout",
     "output_type": "stream",
     "text": [
      "Score: 0.81\n",
      "========================================\n",
      "Total of incorrect images: 1\n"
     ]
    },
    {
     "data": {
      "application/vnd.jupyter.widget-view+json": {
       "model_id": "3473663ee1d043739a9b2e83240e2ae4",
       "version_major": 2,
       "version_minor": 0
      },
      "text/plain": [
       "  0%|          | 0/80 [00:00<?, ?it/s]"
      ]
     },
     "metadata": {},
     "output_type": "display_data"
    },
    {
     "name": "stdout",
     "output_type": "stream",
     "text": [
      "Score: 0.76\n",
      "========================================\n",
      "Total of incorrect images: 2\n"
     ]
    },
    {
     "data": {
      "application/vnd.jupyter.widget-view+json": {
       "model_id": "f1715ca2592b49ad81690b5aa89fd37f",
       "version_major": 2,
       "version_minor": 0
      },
      "text/plain": [
       "  0%|          | 0/80 [00:00<?, ?it/s]"
      ]
     },
     "metadata": {},
     "output_type": "display_data"
    },
    {
     "name": "stdout",
     "output_type": "stream",
     "text": [
      "Score: 0.69\n",
      "========================================\n",
      "Total of incorrect images: 3\n"
     ]
    },
    {
     "data": {
      "application/vnd.jupyter.widget-view+json": {
       "model_id": "761e4cac27de41dd8f4fe97b4012c295",
       "version_major": 2,
       "version_minor": 0
      },
      "text/plain": [
       "  0%|          | 0/80 [00:00<?, ?it/s]"
      ]
     },
     "metadata": {},
     "output_type": "display_data"
    },
    {
     "name": "stdout",
     "output_type": "stream",
     "text": [
      "Score: 0.70\n",
      "========================================\n",
      "Total of incorrect images: 4\n"
     ]
    },
    {
     "data": {
      "application/vnd.jupyter.widget-view+json": {
       "model_id": "ecd5ded4373b48d5a7c33dd16888e3ab",
       "version_major": 2,
       "version_minor": 0
      },
      "text/plain": [
       "  0%|          | 0/80 [00:00<?, ?it/s]"
      ]
     },
     "metadata": {},
     "output_type": "display_data"
    },
    {
     "name": "stdout",
     "output_type": "stream",
     "text": [
      "Score: 0.64\n",
      "========================================\n",
      "Total of incorrect images: 5\n"
     ]
    },
    {
     "data": {
      "application/vnd.jupyter.widget-view+json": {
       "model_id": "135c9d6f27b34cadb40c780c47a5fcd1",
       "version_major": 2,
       "version_minor": 0
      },
      "text/plain": [
       "  0%|          | 0/80 [00:00<?, ?it/s]"
      ]
     },
     "metadata": {},
     "output_type": "display_data"
    },
    {
     "name": "stdout",
     "output_type": "stream",
     "text": [
      "Score: 0.62\n"
     ]
    }
   ],
   "source": [
    "scores = {}\n",
    "\n",
    "for num_incorrect_images in range(6):\n",
    "    print('='*40)\n",
    "    print('Total of incorrect images:', num_incorrect_images)\n",
    "    score = test_score_with_incorrect_images(dataset, model, num_incorrect_images)\n",
    "    print(f'Score: {score:.2f}')\n",
    "    scores[num_incorrect_images] = score\n"
   ]
  },
  {
   "cell_type": "code",
   "execution_count": 14,
   "metadata": {},
   "outputs": [
    {
     "data": {
      "image/png": "[encoded data removed]",
      "text/plain": [
       "<Figure size 720x360 with 1 Axes>"
      ]
     },
     "metadata": {
      "needs_background": "light"
     },
     "output_type": "display_data"
    }
   ],
   "source": [
    "y_pos = np.arange(len(scores))\n",
    "\n",
    "plt.figure(figsize=(10, 5))\n",
    "plt.bar(y_pos, scores.values(), align='center', alpha=0.5)\n",
    "plt.xticks(y_pos, scores.keys())\n",
    "plt.ylabel('Validation F1 score')\n",
    "plt.ylim(0, 1)\n",
    "plt.title('Number of incorrect class images in instance')\n",
    "\n",
    "plt.show()"
   ]
  },
  {
   "cell_type": "markdown",
   "metadata": {},
   "source": [
    "The above graph shows that if even a small part of the instance images belongs to an incorrect class, the model performance deteriorates."
   ]
  },
  {
   "cell_type": "markdown",
   "metadata": {},
   "source": []
  }
 ],
 "metadata": {
  "interpreter": {
   "hash": "0b7f5bb12f3356fc8ad7f133529672b64be4b993e006b60cb1650fdc800a534b"
  },
  "kernelspec": {
   "display_name": "Python 3.6.9 64-bit ('mvcnn_train': venv)",
   "language": "python",
   "name": "python3"
  },
  "language_info": {
   "codemirror_mode": {
    "name": "ipython",
    "version": 3
   },
   "file_extension": ".py",
   "mimetype": "text/x-python",
   "name": "python",
   "nbconvert_exporter": "python",
   "pygments_lexer": "ipython3",
   "version": "3.6.9"
  },
  "orig_nbformat": 4
 },
 "nbformat": 4,
 "nbformat_minor": 2
}

{
 "cells": [
  {
   "cell_type": "code",
   "execution_count": 9,
   "metadata": {},
   "outputs": [
    {
     "name": "stdout",
     "output_type": "stream",
     "text": [
      "The autoreload extension is already loaded. To reload it, use:\n",
      "  %reload_ext autoreload\n"
     ]
    },
    {
     "data": {
      "text/plain": [
       "(torch.Size([1, 12, 3, 224, 224]),\n",
       " tensor([[[0., 0., 0., 0., 0., 0., 0., 0., 0., 0., 0., 0., 0., 0., 0., 0., 0.,\n",
       "           0., 0., 0., 0., 0., 0., 0., 0., 0., 0., 0., 0., 0., 0., 0., 0., 0.,\n",
       "           0., 0., 0., 0., 0., 1.]]]),\n",
       " {'class_name': ['xbox'],\n",
       "  'class_id': tensor([39]),\n",
       "  'instance_id': ['000001000']})"
      ]
     },
     "execution_count": 9,
     "metadata": {},
     "output_type": "execute_result"
    }
   ],
   "source": [
    "%load_ext autoreload\n",
    "%autoreload 2\n",
    "\n",
    "from dataset_classes.mvcnn_data_module import MVCNNDataModule\n",
    "from model_classes.mvcnn import MVCNNClassifier\n",
    "\n",
    "\n",
    "data_module = MVCNNDataModule()\n",
    "data_loader = data_module.train_dataloader()\n",
    "\n",
    "image_tensor, target_tensor, instance_attributes = next(iter(data_loader))\n",
    "image_tensor.shape, target_tensor, instance_attributes\n",
    "\n"
   ]
  },
  {
   "cell_type": "code",
   "execution_count": 11,
   "metadata": {},
   "outputs": [
    {
     "name": "stdout",
     "output_type": "stream",
     "text": [
      "Feature extractor weights frozen\n"
     ]
    },
    {
     "data": {
      "text/plain": [
       "tensor([[-0.0710,  0.1206,  0.0937,  0.0664]], grad_fn=<ViewBackward>)"
      ]
     },
     "execution_count": 11,
     "metadata": {},
     "output_type": "execute_result"
    }
   ],
   "source": [
    "model = MVCNNClassifier()\n",
    "out = model(image_tensor)\n",
    "out"
   ]
  },
  {
   "cell_type": "code",
   "execution_count": null,
   "metadata": {},
   "outputs": [],
   "source": []
  }
 ],
 "metadata": {
  "interpreter": {
   "hash": "d0ec11bdcd54811a724131fc8def2e54b25dbfdafc9f0a571e8702c64517e46b"
  },
  "kernelspec": {
   "display_name": "Python 3.6.9 64-bit ('mvcnn_train': venv)",
   "name": "python3"
  },
  "language_info": {
   "codemirror_mode": {
    "name": "ipython",
    "version": 3
   },
   "file_extension": ".py",
   "mimetype": "text/x-python",
   "name": "python",
   "nbconvert_exporter": "python",
   "pygments_lexer": "ipython3",
   "version": "3.6.9"
  },
  "orig_nbformat": 4
 },
 "nbformat": 4,
 "nbformat_minor": 2
}
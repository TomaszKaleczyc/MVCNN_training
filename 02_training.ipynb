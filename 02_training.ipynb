{
 "cells": [
  {
   "cell_type": "markdown",
   "metadata": {},
   "source": [
    "## Imports"
   ]
  },
  {
   "cell_type": "code",
   "execution_count": null,
   "metadata": {},
   "outputs": [],
   "source": [
    "%load_ext autoreload\n",
    "%autoreload 2\n",
    "\n",
    "from pytorch_lightning.callbacks import ModelCheckpoint\n",
    "from pytorch_lightning import Trainer\n",
    "\n",
    "from dataset_classes.mvcnn_data_module import MVCNNDataModule\n",
    "from model_classes.mvcnn import MVCNNClassifier\n",
    "from model_classes.callbacks import UnfreezePretrainedWeights, ResetEvalResults"
   ]
  },
  {
   "cell_type": "markdown",
   "metadata": {},
   "source": [
    "## Parameters"
   ]
  },
  {
   "cell_type": "code",
   "execution_count": null,
   "metadata": {},
   "outputs": [],
   "source": [
    "NUM_CLASSES = 4\n",
    "LEARNING_RATE = 1e-3\n",
    "LEARNING_RATE_REDUCTION_FACTOR = 1e3\n",
    "NUM_EPOCHS = 24\n",
    "NUM_EPOCHS_FREEZE_PRETRAINED = 12\n",
    "BATCH_SIZE = 1\n",
    "DROPOUT_RATE = 0.3\n",
    "SAVE_PATH = './output'"
   ]
  },
  {
   "cell_type": "markdown",
   "metadata": {},
   "source": [
    "## Class initialization"
   ]
  },
  {
   "cell_type": "code",
   "execution_count": null,
   "metadata": {},
   "outputs": [],
   "source": [
    "data_module = MVCNNDataModule(NUM_CLASSES, BATCH_SIZE)"
   ]
  },
  {
   "cell_type": "code",
   "execution_count": null,
   "metadata": {},
   "outputs": [],
   "source": [
    "model = MVCNNClassifier(\n",
    "    learning_rate=LEARNING_RATE,\n",
    "    num_epochs_freeze_pretrained=NUM_EPOCHS_FREEZE_PRETRAINED,\n",
    "    dropout_rate=DROPOUT_RATE,\n",
    "    )"
   ]
  },
  {
   "cell_type": "code",
   "execution_count": null,
   "metadata": {},
   "outputs": [],
   "source": [
    "callbacks = [\n",
    "    ModelCheckpoint(monitor='val_f1', verbose=True, mode='max'),\n",
    "    UnfreezePretrainedWeights(LEARNING_RATE_REDUCTION_FACTOR),\n",
    "    ResetEvalResults(NUM_CLASSES)\n",
    "]"
   ]
  },
  {
   "cell_type": "code",
   "execution_count": null,
   "metadata": {},
   "outputs": [],
   "source": [
    "trainer = Trainer(\n",
    "    max_epochs=NUM_EPOCHS,\n",
    "    fast_dev_run=False,\n",
    "    default_root_dir=SAVE_PATH,\n",
    "    callbacks=callbacks\n",
    ")"
   ]
  },
  {
   "cell_type": "markdown",
   "metadata": {},
   "source": [
    "## Model training"
   ]
  },
  {
   "cell_type": "code",
   "execution_count": null,
   "metadata": {},
   "outputs": [],
   "source": [
    "trainer.fit(\n",
    "    model,\n",
    "    train_dataloader=data_module.train_dataloader(),\n",
    "    val_dataloaders=data_module.val_dataloader()\n",
    ")"
   ]
  },
  {
   "cell_type": "code",
   "execution_count": null,
   "metadata": {},
   "outputs": [],
   "source": []
  }
 ],
 "metadata": {
  "interpreter": {
   "hash": "d0ec11bdcd54811a724131fc8def2e54b25dbfdafc9f0a571e8702c64517e46b"
  },
  "kernelspec": {
   "display_name": "Python 3.6.9 64-bit ('mvcnn_train': venv)",
   "name": "python3"
  },
  "language_info": {
   "codemirror_mode": {
    "name": "ipython",
    "version": 3
   },
   "file_extension": ".py",
   "mimetype": "text/x-python",
   "name": "python",
   "nbconvert_exporter": "python",
   "pygments_lexer": "ipython3",
   "version": "3.6.9"
  },
  "orig_nbformat": 4
 },
 "nbformat": 4,
 "nbformat_minor": 2
}
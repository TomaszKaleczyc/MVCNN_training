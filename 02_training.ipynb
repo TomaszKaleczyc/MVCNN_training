{
 "cells": [
  {
   "cell_type": "markdown",
   "metadata": {},
   "source": [
    "## Imports"
   ]
  },
  {
   "cell_type": "code",
   "execution_count": 2,
   "metadata": {},
   "outputs": [
    {
     "name": "stderr",
     "output_type": "stream",
     "text": [
      "/mnt/d/coding/git/TomaszKaleczyc/MVCNN_training/environment/mvcnn_train/lib/python3.6/site-packages/pytorch_lightning/metrics/__init__.py:44: LightningDeprecationWarning: `pytorch_lightning.metrics.*` module has been renamed to `torchmetrics.*` and split off to its own package (https://github.com/PyTorchLightning/metrics) since v1.3 and will be removed in v1.5\n",
      "  \"`pytorch_lightning.metrics.*` module has been renamed to `torchmetrics.*` and split off to its own package\"\n"
     ]
    }
   ],
   "source": [
    "%load_ext autoreload\n",
    "%autoreload 2\n",
    "\n",
    "import pytorch_lightning as pl\n",
    "\n",
    "from dataset_classes.mvcnn_data_module import MVCNNDataModule\n",
    "from model_classes.mvcnn import MVCNNClassifier\n",
    "from model_classes.callbacks import UnfreezeFeatureExtractor, ResetEvalResults\n",
    "from pytorch_lightning.callbacks import ModelCheckpoint\n"
   ]
  },
  {
   "cell_type": "code",
   "execution_count": 3,
   "metadata": {},
   "outputs": [
    {
     "name": "stdout",
     "output_type": "stream",
     "text": [
      "============================================================\n",
      "Dataset type: TRAIN\n",
      "------------------------------------------------------------\n",
      "Class name: AIRPLANE\n",
      "Total number of instances: 80\n",
      "Total number of images: 960\n",
      "------------------------------------------------------------\n",
      "Class name: BATHTUB\n",
      "Total number of instances: 80\n",
      "Total number of images: 960\n",
      "------------------------------------------------------------\n",
      "Class name: BED\n",
      "Total number of instances: 80\n",
      "Total number of images: 960\n",
      "------------------------------------------------------------\n",
      "Class name: BENCH\n",
      "Total number of instances: 80\n",
      "Total number of images: 960\n",
      "============================================================\n",
      "Dataset type: TEST\n",
      "------------------------------------------------------------\n",
      "Class name: AIRPLANE\n",
      "Total number of instances: 20\n",
      "Total number of images: 240\n",
      "------------------------------------------------------------\n",
      "Class name: BATHTUB\n",
      "Total number of instances: 20\n",
      "Total number of images: 240\n",
      "------------------------------------------------------------\n",
      "Class name: BED\n",
      "Total number of instances: 20\n",
      "Total number of images: 240\n",
      "------------------------------------------------------------\n",
      "Class name: BENCH\n",
      "Total number of instances: 20\n",
      "Total number of images: 240\n"
     ]
    }
   ],
   "source": [
    "NUM_CLASSES = 4\n",
    "data_module = MVCNNDataModule(NUM_CLASSES)"
   ]
  },
  {
   "cell_type": "code",
   "execution_count": null,
   "metadata": {},
   "outputs": [],
   "source": []
  }
 ],
 "metadata": {
  "interpreter": {
   "hash": "d0ec11bdcd54811a724131fc8def2e54b25dbfdafc9f0a571e8702c64517e46b"
  },
  "kernelspec": {
   "display_name": "Python 3.6.9 64-bit ('mvcnn_train': venv)",
   "name": "python3"
  },
  "language_info": {
   "codemirror_mode": {
    "name": "ipython",
    "version": 3
   },
   "file_extension": ".py",
   "mimetype": "text/x-python",
   "name": "python",
   "nbconvert_exporter": "python",
   "pygments_lexer": "ipython3",
   "version": "3.6.9"
  },
  "orig_nbformat": 4
 },
 "nbformat": 4,
 "nbformat_minor": 2
}